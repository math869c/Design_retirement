{
 "cells": [
  {
   "cell_type": "code",
   "execution_count": 24,
   "metadata": {},
   "outputs": [],
   "source": [
    "import pandas as pd\n",
    "import numpy as np\n",
    "from scipy.optimize import minimize\n",
    "\n",
    "means_data = pd.read_csv(\"Data/mean_matrix.csv\")\n",
    "\n",
    "wages = means_data[means_data[\"alder\"] <= 61][\"hourly_salary_Mean\"].to_numpy()\n",
    "hours = means_data[means_data[\"alder\"] <= 61][\"yearly_hours_Mean\"].to_numpy() / 1924\n"
   ]
  },
  {
   "cell_type": "code",
   "execution_count": 25,
   "metadata": {},
   "outputs": [
    {
     "data": {
      "text/html": [
       "<div>\n",
       "<style scoped>\n",
       "    .dataframe tbody tr th:only-of-type {\n",
       "        vertical-align: middle;\n",
       "    }\n",
       "\n",
       "    .dataframe tbody tr th {\n",
       "        vertical-align: top;\n",
       "    }\n",
       "\n",
       "    .dataframe thead th {\n",
       "        text-align: right;\n",
       "    }\n",
       "</style>\n",
       "<table border=\"1\" class=\"dataframe\">\n",
       "  <thead>\n",
       "    <tr style=\"text-align: right;\">\n",
       "      <th></th>\n",
       "      <th>alder</th>\n",
       "      <th>hourly_salary_Mean</th>\n",
       "      <th>yearly_hours_Mean</th>\n",
       "      <th>formue_2018_Mean</th>\n",
       "      <th>pension_2018_Mean</th>\n",
       "    </tr>\n",
       "  </thead>\n",
       "  <tbody>\n",
       "    <tr>\n",
       "      <th>0</th>\n",
       "      <td>30</td>\n",
       "      <td>209.123984</td>\n",
       "      <td>1216.018911</td>\n",
       "      <td>1.390663e+05</td>\n",
       "      <td>93931.941637</td>\n",
       "    </tr>\n",
       "    <tr>\n",
       "      <th>1</th>\n",
       "      <td>31</td>\n",
       "      <td>213.550100</td>\n",
       "      <td>1252.085171</td>\n",
       "      <td>1.583045e+05</td>\n",
       "      <td>114037.097150</td>\n",
       "    </tr>\n",
       "    <tr>\n",
       "      <th>2</th>\n",
       "      <td>32</td>\n",
       "      <td>218.416041</td>\n",
       "      <td>1278.155460</td>\n",
       "      <td>1.822347e+05</td>\n",
       "      <td>137705.065480</td>\n",
       "    </tr>\n",
       "    <tr>\n",
       "      <th>3</th>\n",
       "      <td>33</td>\n",
       "      <td>222.420283</td>\n",
       "      <td>1297.690952</td>\n",
       "      <td>1.975979e+05</td>\n",
       "      <td>159129.583760</td>\n",
       "    </tr>\n",
       "    <tr>\n",
       "      <th>4</th>\n",
       "      <td>34</td>\n",
       "      <td>225.728590</td>\n",
       "      <td>1304.994352</td>\n",
       "      <td>2.209879e+05</td>\n",
       "      <td>180924.953100</td>\n",
       "    </tr>\n",
       "    <tr>\n",
       "      <th>...</th>\n",
       "      <td>...</td>\n",
       "      <td>...</td>\n",
       "      <td>...</td>\n",
       "      <td>...</td>\n",
       "      <td>...</td>\n",
       "    </tr>\n",
       "    <tr>\n",
       "      <th>65</th>\n",
       "      <td>95</td>\n",
       "      <td>NaN</td>\n",
       "      <td>2.216195</td>\n",
       "      <td>1.071996e+06</td>\n",
       "      <td>40998.185185</td>\n",
       "    </tr>\n",
       "    <tr>\n",
       "      <th>66</th>\n",
       "      <td>96</td>\n",
       "      <td>NaN</td>\n",
       "      <td>1.013109</td>\n",
       "      <td>1.069632e+06</td>\n",
       "      <td>33700.733025</td>\n",
       "    </tr>\n",
       "    <tr>\n",
       "      <th>67</th>\n",
       "      <td>97</td>\n",
       "      <td>NaN</td>\n",
       "      <td>0.169537</td>\n",
       "      <td>1.063082e+06</td>\n",
       "      <td>34060.954333</td>\n",
       "    </tr>\n",
       "    <tr>\n",
       "      <th>68</th>\n",
       "      <td>98</td>\n",
       "      <td>NaN</td>\n",
       "      <td>0.260151</td>\n",
       "      <td>1.074022e+06</td>\n",
       "      <td>27895.346444</td>\n",
       "    </tr>\n",
       "    <tr>\n",
       "      <th>69</th>\n",
       "      <td>99</td>\n",
       "      <td>NaN</td>\n",
       "      <td>1.925532</td>\n",
       "      <td>1.067389e+06</td>\n",
       "      <td>27281.320479</td>\n",
       "    </tr>\n",
       "  </tbody>\n",
       "</table>\n",
       "<p>70 rows × 5 columns</p>\n",
       "</div>"
      ],
      "text/plain": [
       "    alder  hourly_salary_Mean  yearly_hours_Mean  formue_2018_Mean  \\\n",
       "0      30          209.123984        1216.018911      1.390663e+05   \n",
       "1      31          213.550100        1252.085171      1.583045e+05   \n",
       "2      32          218.416041        1278.155460      1.822347e+05   \n",
       "3      33          222.420283        1297.690952      1.975979e+05   \n",
       "4      34          225.728590        1304.994352      2.209879e+05   \n",
       "..    ...                 ...                ...               ...   \n",
       "65     95                 NaN           2.216195      1.071996e+06   \n",
       "66     96                 NaN           1.013109      1.069632e+06   \n",
       "67     97                 NaN           0.169537      1.063082e+06   \n",
       "68     98                 NaN           0.260151      1.074022e+06   \n",
       "69     99                 NaN           1.925532      1.067389e+06   \n",
       "\n",
       "    pension_2018_Mean  \n",
       "0        93931.941637  \n",
       "1       114037.097150  \n",
       "2       137705.065480  \n",
       "3       159129.583760  \n",
       "4       180924.953100  \n",
       "..                ...  \n",
       "65       40998.185185  \n",
       "66       33700.733025  \n",
       "67       34060.954333  \n",
       "68       27895.346444  \n",
       "69       27281.320479  \n",
       "\n",
       "[70 rows x 5 columns]"
      ]
     },
     "execution_count": 25,
     "metadata": {},
     "output_type": "execute_result"
    }
   ],
   "source": [
    "means_data"
   ]
  },
  {
   "cell_type": "code",
   "execution_count": 44,
   "metadata": {},
   "outputs": [
    {
     "name": "stdout",
     "output_type": "stream",
     "text": [
      "Optimization terminated successfully.\n",
      "         Current function value: 0.000478\n",
      "         Iterations: 388\n",
      "         Function evaluations: 727\n",
      "  Parameter  Estimated Value\n",
      "0         w       156.600466\n",
      "1     beta1         0.034810\n",
      "2     beta2        -0.000227\n",
      "3     delta         0.056530\n",
      "0.00047811790682008605\n"
     ]
    }
   ],
   "source": [
    "def sum_hours(t, hours, delta):\n",
    "    total = np.sum(hours[:12])\n",
    "    for i in range(t):\n",
    "        total += (1 - delta) ** i * hours[t - i]\n",
    "    return total\n",
    "\n",
    "def objective_function(params, wages, hours):\n",
    "    w, beta1, beta2, delta = params\n",
    "    total_error = 0\n",
    "    for t in range(len(wages)):\n",
    "        error = (\n",
    "            np.log(wages[t])\n",
    "            - np.log(w)\n",
    "            - beta1 * (sum_hours(t, hours, delta))\n",
    "            - beta2 * t**2\n",
    "        )\n",
    "        total_error += error ** 2\n",
    "    return total_error\n",
    "\n",
    "initial_guess = [200, 0.02, -0.001, 0.05]\n",
    "bounds = [(0.001, 300), (0, 100), (-10, 0), (0, 0.15)]\n",
    "\n",
    "def random_initial_guess(bounds):\n",
    "    # np.random.seed(1)\n",
    "    return [np.random.uniform(low, high) for low, high in bounds]\n",
    "\n",
    "# initial_guess = random_initial_guess(bounds)\n",
    "\n",
    "\n",
    "result = minimize(\n",
    "    objective_function,\n",
    "    x0=initial_guess,\n",
    "    args=(wages, hours),\n",
    "    method=\"Nelder-Mead\",\n",
    "    bounds=bounds,\n",
    "    tol=1e-12,\n",
    "    options={\n",
    "        \"maxiter\": 100000,  # Maximum iterations\n",
    "        \"xatol\": 1e-12,\n",
    "        \"fatol\": 1e-12, \n",
    "        \"disp\": True\n",
    "    }\n",
    ")\n",
    "\n",
    "\n",
    "estimated_params = result.x\n",
    "w_est, beta1_est, beta2_est, delta_est = estimated_params\n",
    "\n",
    "results_dict = {\n",
    "    \"Parameter\": [\"w\", \"beta1\", \"beta2\", \"delta\"],\n",
    "    \"Estimated Value\": [w_est, beta1_est, beta2_est, delta_est],\n",
    "}\n",
    "\n",
    "results_df = pd.DataFrame(results_dict)\n",
    "\n",
    "print(results_df)\n",
    "\n",
    "print(result.fun)"
   ]
  },
  {
   "cell_type": "code",
   "execution_count": null,
   "metadata": {},
   "outputs": [
    {
     "data": {
      "text/plain": [
       "np.float64(8.248157725675675)"
      ]
     },
     "metadata": {},
     "output_type": "display_data"
    }
   ],
   "source": [
    "np.sum(hours[:12])"
   ]
  },
  {
   "cell_type": "code",
   "execution_count": null,
   "metadata": {},
   "outputs": [
    {
     "data": {
      "text/plain": [
       "np.float64(8.248157725675675)"
      ]
     },
     "metadata": {},
     "output_type": "display_data"
    }
   ],
   "source": [
    "np.sum(hours[:12])"
   ]
  },
  {
   "cell_type": "code",
   "execution_count": 21,
   "metadata": {},
   "outputs": [
    {
     "data": {
      "image/png": "[encoded data removed]",
      "text/plain": [
       "<Figure size 800x500 with 1 Axes>"
      ]
     },
     "metadata": {},
     "output_type": "display_data"
    }
   ],
   "source": [
    "def simulate(params, wages, hours):\n",
    "    w, beta1, beta2, delta = params\n",
    "    ln_wage = np.zeros(len(wages))\n",
    "    for t in range(len(wages)):\n",
    "        ln_wage[t] = (\n",
    "            np.log(w)\n",
    "            + beta1 * (sum_hours(t, hours, delta))\n",
    "            + beta2 * t**2\n",
    "        )\n",
    "\n",
    "    return ln_wage\n",
    "\n",
    "\n",
    "ln_wage = simulate(estimated_params, wages, hours)\n",
    "\n",
    "\n",
    "import matplotlib.pyplot as plt\n",
    "\n",
    "def plot_ln_wage(ln_wage, man_hourly_salary, title=\"Log Wage Simulation vs Real Data\", \n",
    "                 xlabel=\"Time (Years)\", ylabel=\"ln(Wage)\"):\n",
    "    plt.figure(figsize=(8, 5))\n",
    "    \n",
    "    # Convert real hourly salary to log scale for comparison\n",
    "    ln_real_wage = np.log(man_hourly_salary)\n",
    "    \n",
    "    # Plot simulated ln_wage\n",
    "    plt.plot(ln_wage, marker=\"o\", linestyle=\"-\", label=\"Simulated ln(Wage)\", color='b')\n",
    "    \n",
    "    # Plot real ln(wage)\n",
    "    plt.plot(ln_real_wage, marker=\"s\", linestyle=\"--\", label=\"Real ln(Wage)\", color='r')\n",
    "    \n",
    "    plt.xlabel(xlabel)\n",
    "    plt.ylabel(ylabel)\n",
    "    plt.title(title)\n",
    "    plt.legend()\n",
    "    plt.grid(True)\n",
    "    plt.show()\n",
    "\n",
    "# Example usage\n",
    "plot_ln_wage(ln_wage, wages)"
   ]
  }
 ],
 "metadata": {
  "kernelspec": {
   "display_name": "s_speciale",
   "language": "python",
   "name": "python3"
  },
  "language_info": {
   "codemirror_mode": {
    "name": "ipython",
    "version": 3
   },
   "file_extension": ".py",
   "mimetype": "text/x-python",
   "name": "python",
   "nbconvert_exporter": "python",
   "pygments_lexer": "ipython3",
   "version": "3.13.1"
  }
 },
 "nbformat": 4,
 "nbformat_minor": 2
}
