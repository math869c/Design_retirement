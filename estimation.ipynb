{
 "cells": [
  {
   "cell_type": "code",
   "execution_count": 1,
   "metadata": {},
   "outputs": [],
   "source": [
    "%load_ext autoreload\n",
    "%autoreload 2\n",
    "import time\n",
    "import numpy as np\n",
    "import pandas as pd\n",
    "from scipy.optimize import minimize\n",
    "import matplotlib.pyplot as plt\n",
    "from mpl_toolkits import mplot3d\n",
    "\n",
    "# load local model file and initialize model class\n",
    "from model import ModelClass\n",
    "\n",
    "model = ModelClass() # set a few number of periods.\n",
    "\n",
    "par = model.par\n",
    "sol = model.sol\n",
    "sim = model.sim\n",
    "\n",
    "model.solve()\n",
    "model.simulate()"
   ]
  },
  {
   "cell_type": "code",
   "execution_count": 2,
   "metadata": {},
   "outputs": [],
   "source": [
    "means_data = pd.read_csv(\"Data/mean_matrix.csv\")"
   ]
  },
  {
   "cell_type": "code",
   "execution_count": 3,
   "metadata": {},
   "outputs": [],
   "source": [
    "assets = np.array(means_data[\"formue_2018_Mean\"])\n",
    "savings = np.array(means_data[\"pension_2018_Mean\"])\n",
    "hours = np.array(means_data[\"yearly_hours_Mean\"])/par.full_time_hours"
   ]
  },
  {
   "cell_type": "code",
   "execution_count": 4,
   "metadata": {},
   "outputs": [],
   "source": [
    "mean = np.concatenate([assets, \n",
    "                       savings, \n",
    "                       hours])"
   ]
  },
  {
   "cell_type": "code",
   "execution_count": 5,
   "metadata": {},
   "outputs": [],
   "source": [
    "covariance_matrix = pd.read_csv(\"Data/variance_matrix.csv\")\n",
    "\n",
    "numeric_cols = covariance_matrix.select_dtypes(include=[np.number]).columns[1:]\n",
    "\n",
    "row_mask = covariance_matrix[\"_NAME_\"].str.startswith(\"yearly_hours\")\n",
    "col_mask = [col for col in covariance_matrix.columns if col.startswith(\"yearly_hours\")]\n",
    "\n",
    "covariance_matrix.loc[row_mask, numeric_cols] = covariance_matrix.loc[row_mask, numeric_cols].astype(float)\n",
    "\n",
    "covariance_matrix.loc[row_mask, numeric_cols] /= par.full_time_hours\n",
    "\n",
    "covariance_matrix[col_mask] /= par.full_time_hours"
   ]
  },
  {
   "cell_type": "code",
   "execution_count": 6,
   "metadata": {},
   "outputs": [],
   "source": [
    "weights = np.linalg.inv(np.nan_to_num(covariance_matrix[numeric_cols].to_numpy(), nan=0))"
   ]
  },
  {
   "cell_type": "code",
   "execution_count": 7,
   "metadata": {},
   "outputs": [],
   "source": [
    "def scale_params(theta, bounds):\n",
    "    \"\"\"\n",
    "    Scale theta to [0,1] given the bounds.\n",
    "    \"\"\"\n",
    "    scaled = []\n",
    "    for val, (low, high) in zip(theta, bounds):\n",
    "        scaled_val = (val - low) / (high - low)\n",
    "        scaled.append(scaled_val)\n",
    "    return np.array(scaled)\n",
    "\n",
    "def unscale_params(scaled_theta, bounds):\n",
    "    \"\"\"\n",
    "    Convert scaled_theta in [0,1] back to original bounds.\n",
    "    \"\"\"\n",
    "    unscaled = []\n",
    "    for val, (low, high) in zip(scaled_theta, bounds):\n",
    "        unscaled_val = low + val * (high - low)\n",
    "        unscaled.append(unscaled_val)\n",
    "    return np.array(unscaled)"
   ]
  },
  {
   "cell_type": "code",
   "execution_count": 8,
   "metadata": {},
   "outputs": [],
   "source": [
    "\n",
    "def moment_func(sim_data):\n",
    "    # Compute age-averaged moments\n",
    "    avg_a_by_age = np.mean(sim_data.a, axis=0)  # Length 70\n",
    "    avg_s_by_age = np.mean(sim_data.s, axis=0)  # Length 70\n",
    "    avg_h_by_age = np.mean(sim_data.h, axis=0)  # Length 70\n",
    "\n",
    "    # Concatenate and return\n",
    "    return np.concatenate((avg_a_by_age, avg_s_by_age, avg_h_by_age))\n",
    "\n",
    "\n",
    "def simulate_moments(theta, theta_names, model):\n",
    "        \n",
    "    # 1. Update model parameters\n",
    "    for i, name in enumerate(theta_names):\n",
    "        setattr(model.par, name, theta[i])\n",
    "    \n",
    "    # 2. Solve and simulate the model\n",
    "    model.solve()\n",
    "    model.simulate()\n",
    "    \n",
    "    # 3. Return the expanded vector of simulated moments\n",
    "    return moment_func(model.sim)\n",
    "\n",
    "def obj_func(scaled_theta, theta_names, mom_data, W, model, bounds, do_print=False):\n",
    "    start_time = time.time()  # Start timing\n",
    "\n",
    "    theta = unscale_params(scaled_theta, bounds)\n",
    "\n",
    "    if do_print: \n",
    "        print_str = ''\n",
    "        for i, name in enumerate(theta_names):\n",
    "            print_str += f'{name}={theta[i]:2.3f} '\n",
    "        print(print_str)\n",
    "    \n",
    "    # Compute simulated moments\n",
    "    mom_sim = simulate_moments(theta, theta_names, model)\n",
    "\n",
    "    # Sum of squared errors over all 175 elements\n",
    "    obj = (mom_data - mom_sim).T @ W @ (mom_data - mom_sim)\n",
    "\n",
    "    end_time = time.time()  # End timing\n",
    "    elapsed_time = end_time - start_time\n",
    "    \n",
    "    if do_print: \n",
    "        print(f\"Error = {obj:.6f}, Time = {elapsed_time:.4f} seconds\")\n",
    "\n",
    "    return obj\n",
    "\n"
   ]
  },
  {
   "cell_type": "code",
   "execution_count": 9,
   "metadata": {},
   "outputs": [],
   "source": [
    "theta_names = (\"beta\", \"sigma\", \"gamma\", \"mu\", \"r_s\", \"r_a\")\n",
    "\n",
    "theta_init = np.array([0.976, 1.026, 4.723, 7.887, 0.015, 0.009])\n",
    "\n",
    "# Original bounds\n",
    "orig_bounds = [(0.0, 1.0),   # beta\n",
    "               (0.1, 6.0),   # sigma\n",
    "               (0.1, 10.0),  # gamma\n",
    "               (0.0, 10.0),  # mu\n",
    "               (0.0, 0.02),  # r_s\n",
    "               (0.0, 0.1)]   # r_a\n",
    "\n",
    "theta_init_scaled = scale_params(theta_init, orig_bounds)"
   ]
  },
  {
   "cell_type": "code",
   "execution_count": null,
   "metadata": {},
   "outputs": [
    {
     "name": "stdout",
     "output_type": "stream",
     "text": [
      "beta=0.976 sigma=1.026 gamma=4.723 mu=7.887 r_s=0.015 r_a=0.009 \n",
      "Error = 34.682835, Time = 3.2824 seconds\n",
      "beta=0.976 sigma=1.026 gamma=4.723 mu=7.887 r_s=0.015 r_a=0.009 \n",
      "Error = 34.682841, Time = 3.3814 seconds\n",
      "beta=0.976 sigma=1.026 gamma=4.723 mu=7.887 r_s=0.015 r_a=0.009 \n",
      "Error = 34.682794, Time = 4.3700 seconds\n",
      "beta=0.976 sigma=1.026 gamma=4.723 mu=7.887 r_s=0.015 r_a=0.009 \n",
      "Error = 34.682833, Time = 4.3998 seconds\n",
      "beta=0.976 sigma=1.026 gamma=4.723 mu=7.887 r_s=0.015 r_a=0.009 \n",
      "Error = 34.682836, Time = 4.4243 seconds\n",
      "beta=0.976 sigma=1.026 gamma=4.723 mu=7.887 r_s=0.015 r_a=0.009 \n",
      "Error = 34.682833, Time = 4.3260 seconds\n",
      "beta=0.976 sigma=1.026 gamma=4.723 mu=7.887 r_s=0.015 r_a=0.009 \n",
      "Error = 34.682839, Time = 4.3071 seconds\n",
      "beta=0.794 sigma=3.683 gamma=4.923 mu=7.001 r_s=0.014 r_a=0.015 \n",
      "Error = 103.378382, Time = 4.3168 seconds\n",
      "beta=0.794 sigma=3.683 gamma=4.923 mu=7.001 r_s=0.014 r_a=0.015 \n",
      "Error = 103.378382, Time = 4.2029 seconds\n",
      "beta=0.794 sigma=3.683 gamma=4.923 mu=7.001 r_s=0.014 r_a=0.015 \n",
      "Error = 103.378382, Time = 4.3746 seconds\n",
      "beta=0.794 sigma=3.683 gamma=4.923 mu=7.001 r_s=0.014 r_a=0.015 \n",
      "Error = 103.378382, Time = 4.3739 seconds\n",
      "beta=0.794 sigma=3.683 gamma=4.923 mu=7.001 r_s=0.014 r_a=0.015 \n",
      "Error = 103.378382, Time = 4.1983 seconds\n",
      "beta=0.794 sigma=3.683 gamma=4.923 mu=7.001 r_s=0.014 r_a=0.015 \n",
      "Error = 103.378382, Time = 4.1942 seconds\n",
      "beta=0.794 sigma=3.683 gamma=4.923 mu=7.001 r_s=0.014 r_a=0.015 \n",
      "Error = 103.378382, Time = 4.1351 seconds\n",
      "beta=0.889 sigma=2.457 gamma=4.854 mu=7.383 r_s=0.014 r_a=0.012 \n",
      "Error = 103.335721, Time = 4.1658 seconds\n",
      "beta=0.889 sigma=2.457 gamma=4.854 mu=7.383 r_s=0.014 r_a=0.012 \n"
     ]
    }
   ],
   "source": [
    "objective = lambda theta: obj_func(theta, theta_names, mean, weights, model, orig_bounds, do_print=True)\n",
    "\n",
    "res = minimize(\n",
    "    objective, \n",
    "    theta_init_scaled,\n",
    "    method='trust-constr',\n",
    "    bounds=[(0,1)] * len(theta_init_scaled),\n",
    "    tol=1e-6,\n",
    "    options={\"maxiter\":10000}\n",
    ")\n"
   ]
  },
  {
   "cell_type": "code",
   "execution_count": null,
   "metadata": {},
   "outputs": [],
   "source": [
    "# theta_final = np.array([0.97422567, 1.14726037, 4.64679725, 7.93130135, 0.01460564,\n",
    "#        0.01033787])"
   ]
  },
  {
   "cell_type": "code",
   "execution_count": null,
   "metadata": {},
   "outputs": [],
   "source": [
    "# beta=0.941 sigma=1.097 gamma=4.714 mu=7.888 r_s=0.011 r_a=0.011 \n",
    "\n",
    "\n",
    "theta_names = (\"beta\", \"sigma\", \"gamma\", \"mu\", \"r_s\", \"r_a\")\n",
    "# theta_init = np.array(res.x)\n",
    "theta_final = unscale_params(res.x, orig_bounds)\n",
    "\n",
    "for i, name in enumerate(theta_names):\n",
    "    setattr(model.par, name, theta_final[i])\n",
    "\n",
    "model.solve()\n",
    "model.simulate()"
   ]
  },
  {
   "cell_type": "code",
   "execution_count": null,
   "metadata": {},
   "outputs": [],
   "source": [
    "a_dict = {\n",
    "    'hours': [np.mean(model.sim.h, axis=0), hours],\n",
    "    'illiquid': [np.mean(model.sim.s, axis=0), savings],\n",
    "    'liquid': [np.mean(model.sim.a, axis=0), assets]\n",
    "}\n",
    "\n",
    "# Define colors\n",
    "simulated_color = \"navy\"  # Dark blue\n",
    "empirical_color = \"darkred\"  # Dark red\n",
    "ci_color = \"lightcoral\"  # Light red for confidence bands\n",
    "\n",
    "for key, (simulated, empirical) in a_dict.items():\n",
    "    plt.figure(figsize=(10, 5))\n",
    "    \n",
    "    x_vals = np.arange(len(empirical)) + par.start_age\n",
    "    \n",
    "    plt.plot(x_vals, simulated, label=f\"Simulated {key.capitalize()}\", marker=\"o\", color=simulated_color)\n",
    "    plt.plot(x_vals, empirical, label=f\"Empirical {key.capitalize()}\", linestyle=\"--\", marker=\"s\", color=empirical_color)\n",
    "\n",
    "    # # 99.9% confidence interval\n",
    "    # ci = std_dev\n",
    "    # plt.fill_between(x_vals, empirical - ci, empirical + ci, color=ci_color, alpha=0.4, label=\"Empirical Standard Deviation\")\n",
    "\n",
    "    plt.xlabel(\"Age\")\n",
    "    plt.ylabel(key.capitalize())\n",
    "    plt.title(f\"Comparison of Simulated and Empirical {key.capitalize()}\")\n",
    "    plt.legend()\n",
    "    plt.grid(True)\n",
    "    plt.show()\n"
   ]
  }
 ],
 "metadata": {
  "kernelspec": {
   "display_name": "base",
   "language": "python",
   "name": "python3"
  },
  "language_info": {
   "codemirror_mode": {
    "name": "ipython",
    "version": 3
   },
   "file_extension": ".py",
   "mimetype": "text/x-python",
   "name": "python",
   "nbconvert_exporter": "python",
   "pygments_lexer": "ipython3",
   "version": "3.12.7"
  }
 },
 "nbformat": 4,
 "nbformat_minor": 2
}
