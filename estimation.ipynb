{
 "cells": [
  {
   "cell_type": "code",
   "execution_count": 1,
   "metadata": {},
   "outputs": [
    {
     "name": "stderr",
     "output_type": "stream",
     "text": [
      "f:\\MPC\\Studenter\\Speciale\\Peter og Mathias\\Code Peter\\Design_retirement\\model.py:69: SyntaxWarning: invalid escape sequence '\\o'\n",
      "  df = pd.read_csv('Data\\overlevelses_ssh.csv')\n"
     ]
    }
   ],
   "source": [
    "%load_ext autoreload\n",
    "%autoreload 2\n",
    "\n",
    "import numpy as np\n",
    "import pandas as pd\n",
    "from scipy.optimize import minimize\n",
    "import matplotlib.pyplot as plt\n",
    "from mpl_toolkits import mplot3d\n",
    "\n",
    "# load local model file and initialize model class\n",
    "from model import ModelClass\n",
    "model = ModelClass() # set a few number of periods.\n",
    "\n",
    "\n",
    "par = model.par\n",
    "sol = model.sol\n",
    "sim = model.sim"
   ]
  },
  {
   "cell_type": "code",
   "execution_count": 2,
   "metadata": {},
   "outputs": [],
   "source": [
    "df = pd.read_csv('Data/formue_cohort.csv')\n",
    "df = df[(df['KOEN']==1) & (df['ALDER']<100)]"
   ]
  },
  {
   "cell_type": "code",
   "execution_count": 3,
   "metadata": {},
   "outputs": [],
   "source": [
    "s_data = np.array(df['FGCX'])\n",
    "a_data = np.array(df['nettoform_u_pf'])"
   ]
  },
  {
   "cell_type": "code",
   "execution_count": 4,
   "metadata": {},
   "outputs": [],
   "source": [
    "def obj_func(theta,theta_names,mom_data,model,do_print=False):\n",
    "    \n",
    "    # printing\n",
    "    if do_print: \n",
    "        print_str = ''\n",
    "        for i,name in enumerate(theta_names):\n",
    "            print_str += f'{name}={theta[i]:2.3f} '\n",
    "        print(print_str)\n",
    "            \n",
    "    # calculate moments from simulation\n",
    "    mom_sim = simulate_moments(theta,theta_names,model,do_print=False)\n",
    "    \n",
    "    # equal weighting\n",
    "    obj = np.sum((mom_data - mom_sim)**2)\n",
    "    if do_print: \n",
    "        print(\"error\", obj)\n",
    "    \n",
    "    # return objective and moments for plotting\n",
    "    return obj\n",
    "\n",
    "def simulate_moments(theta,theta_names,model,do_print=False):\n",
    "        \n",
    "    # update parameters\n",
    "    for i,name in enumerate(theta_names):\n",
    "        setattr(model.par,name,theta[i])\n",
    "    \n",
    "    # solve and simulate model with these parameters\n",
    "    model.solve()\n",
    "    model.simulate()\n",
    "    \n",
    "    # return moments from simulated data\n",
    "    return moment_func(model.sim)\n",
    "\n",
    "def moment_func(input_data):\n",
    "    return np.mean(input_data.a,axis=0) # age profile of wealth"
   ]
  },
  {
   "cell_type": "code",
   "execution_count": 5,
   "metadata": {},
   "outputs": [],
   "source": [
    "theta_names = (\"beta\", \"sigma\", \"gamma\", \"mu\", \"work_cost\")"
   ]
  },
  {
   "cell_type": "code",
   "execution_count": 6,
   "metadata": {},
   "outputs": [
    {
     "name": "stdout",
     "output_type": "stream",
     "text": [
      "beta=0.980 sigma=1.100 gamma=1.100 mu=0.200 work_cost=1.000 \n",
      "error 58570102556949.03\n",
      "beta=0.971 sigma=1.100 gamma=1.100 mu=0.200 work_cost=1.000 \n",
      "error 66638572669768.945\n",
      "beta=0.980 sigma=1.155 gamma=1.100 mu=0.200 work_cost=1.000 \n",
      "error 66733337331295.93\n",
      "beta=0.980 sigma=1.100 gamma=1.155 mu=0.200 work_cost=1.000 \n",
      "error 58196135965522.88\n",
      "beta=0.980 sigma=1.100 gamma=1.100 mu=0.210 work_cost=1.000 \n",
      "error 58226079458762.945\n",
      "beta=0.980 sigma=1.100 gamma=1.100 mu=0.200 work_cost=1.050 \n",
      "error 59478801841028.086\n",
      "beta=0.976 sigma=1.045 gamma=1.122 mu=0.204 work_cost=1.020 \n",
      "error 53359111560696.125\n",
      "beta=0.975 sigma=0.990 gamma=1.133 mu=0.206 work_cost=1.030 \n",
      "error 53678989029829.85\n",
      "beta=0.988 sigma=1.078 gamma=1.131 mu=0.206 work_cost=1.028 \n"
     ]
    },
    {
     "name": "stderr",
     "output_type": "stream",
     "text": [
      "Traceback (most recent call last):\n",
      "  File \"f:\\MPC\\Studenter\\Speciale\\Peter og Mathias\\Code Peter\\Design_retirement\\model.py\", line 201, in simulate\n",
      "    sim.w[i,t] = wage(par, sol, sim.k[i,t], t)\n",
      "                 ^^^^^^^^^^^^^^^^^^^^^^^^^^^^^\n",
      "KeyboardInterrupt\n",
      "f:\\MPC\\Studenter\\Speciale\\Peter og Mathias\\Code Peter\\Design_retirement\\model.py:69: SyntaxWarning: invalid escape sequence '\\o'\n",
      "  df = pd.read_csv('Data\\overlevelses_ssh.csv')\n"
     ]
    },
    {
     "ename": "KeyboardInterrupt",
     "evalue": "",
     "output_type": "error",
     "traceback": [
      "\u001b[1;31m---------------------------------------------------------------------------\u001b[0m",
      "\u001b[1;31mKeyboardInterrupt\u001b[0m                         Traceback (most recent call last)",
      "Cell \u001b[1;32mIn[6], line 6\u001b[0m\n\u001b[0;32m      2\u001b[0m objective \u001b[38;5;241m=\u001b[39m \u001b[38;5;28;01mlambda\u001b[39;00m theta: obj_func(theta,theta_names,a_data,model,do_print\u001b[38;5;241m=\u001b[39m\u001b[38;5;28;01mTrue\u001b[39;00m)\n\u001b[0;32m      4\u001b[0m theta_init \u001b[38;5;241m=\u001b[39m np\u001b[38;5;241m.\u001b[39marray([par\u001b[38;5;241m.\u001b[39mbeta,par\u001b[38;5;241m.\u001b[39msigma, par\u001b[38;5;241m.\u001b[39mgamma, par\u001b[38;5;241m.\u001b[39mmu, par\u001b[38;5;241m.\u001b[39mwork_cost]) \n\u001b[1;32m----> 6\u001b[0m res \u001b[38;5;241m=\u001b[39m minimize(objective,theta_init,method\u001b[38;5;241m=\u001b[39m\u001b[38;5;124m'\u001b[39m\u001b[38;5;124mnelder-mead\u001b[39m\u001b[38;5;124m'\u001b[39m,bounds\u001b[38;5;241m=\u001b[39m[(\u001b[38;5;241m0.\u001b[39m,\u001b[38;5;241m1.\u001b[39m), (\u001b[38;5;241m0.1\u001b[39m,\u001b[38;5;241m6.\u001b[39m), (\u001b[38;5;241m0.1\u001b[39m,\u001b[38;5;241m6.0\u001b[39m), (\u001b[38;5;241m0.0\u001b[39m,\u001b[38;5;241m5.0\u001b[39m),(\u001b[38;5;241m0\u001b[39m,\u001b[38;5;241m1_000_000\u001b[39m)], tol\u001b[38;5;241m=\u001b[39m\u001b[38;5;241m1\u001b[39m, options\u001b[38;5;241m=\u001b[39m {\u001b[38;5;124m\"\u001b[39m\u001b[38;5;124mmaxiter\u001b[39m\u001b[38;5;124m\"\u001b[39m:\u001b[38;5;241m2000\u001b[39m})\n\u001b[0;32m      7\u001b[0m res\n",
      "File \u001b[1;32mc:\\Users\\B465929\\AppData\\Local\\anaconda3\\Lib\\site-packages\\scipy\\optimize\\_minimize.py:726\u001b[0m, in \u001b[0;36mminimize\u001b[1;34m(fun, x0, args, method, jac, hess, hessp, bounds, constraints, tol, callback, options)\u001b[0m\n\u001b[0;32m    723\u001b[0m callback \u001b[38;5;241m=\u001b[39m _wrap_callback(callback, meth)\n\u001b[0;32m    725\u001b[0m \u001b[38;5;28;01mif\u001b[39;00m meth \u001b[38;5;241m==\u001b[39m \u001b[38;5;124m'\u001b[39m\u001b[38;5;124mnelder-mead\u001b[39m\u001b[38;5;124m'\u001b[39m:\n\u001b[1;32m--> 726\u001b[0m     res \u001b[38;5;241m=\u001b[39m _minimize_neldermead(fun, x0, args, callback, bounds\u001b[38;5;241m=\u001b[39mbounds,\n\u001b[0;32m    727\u001b[0m                                \u001b[38;5;241m*\u001b[39m\u001b[38;5;241m*\u001b[39moptions)\n\u001b[0;32m    728\u001b[0m \u001b[38;5;28;01melif\u001b[39;00m meth \u001b[38;5;241m==\u001b[39m \u001b[38;5;124m'\u001b[39m\u001b[38;5;124mpowell\u001b[39m\u001b[38;5;124m'\u001b[39m:\n\u001b[0;32m    729\u001b[0m     res \u001b[38;5;241m=\u001b[39m _minimize_powell(fun, x0, args, callback, bounds, \u001b[38;5;241m*\u001b[39m\u001b[38;5;241m*\u001b[39moptions)\n",
      "File \u001b[1;32mc:\\Users\\B465929\\AppData\\Local\\anaconda3\\Lib\\site-packages\\scipy\\optimize\\_optimize.py:858\u001b[0m, in \u001b[0;36m_minimize_neldermead\u001b[1;34m(func, x0, args, callback, maxiter, maxfev, disp, return_all, initial_simplex, xatol, fatol, adaptive, bounds, **unknown_options)\u001b[0m\n\u001b[0;32m    856\u001b[0m \u001b[38;5;28;01mif\u001b[39;00m bounds \u001b[38;5;129;01mis\u001b[39;00m \u001b[38;5;129;01mnot\u001b[39;00m \u001b[38;5;28;01mNone\u001b[39;00m:\n\u001b[0;32m    857\u001b[0m     xr \u001b[38;5;241m=\u001b[39m np\u001b[38;5;241m.\u001b[39mclip(xr, lower_bound, upper_bound)\n\u001b[1;32m--> 858\u001b[0m fxr \u001b[38;5;241m=\u001b[39m func(xr)\n\u001b[0;32m    859\u001b[0m doshrink \u001b[38;5;241m=\u001b[39m \u001b[38;5;241m0\u001b[39m\n\u001b[0;32m    861\u001b[0m \u001b[38;5;28;01mif\u001b[39;00m fxr \u001b[38;5;241m<\u001b[39m fsim[\u001b[38;5;241m0\u001b[39m]:\n",
      "File \u001b[1;32mc:\\Users\\B465929\\AppData\\Local\\anaconda3\\Lib\\site-packages\\scipy\\optimize\\_optimize.py:542\u001b[0m, in \u001b[0;36m_wrap_scalar_function_maxfun_validation.<locals>.function_wrapper\u001b[1;34m(x, *wrapper_args)\u001b[0m\n\u001b[0;32m    540\u001b[0m ncalls[\u001b[38;5;241m0\u001b[39m] \u001b[38;5;241m+\u001b[39m\u001b[38;5;241m=\u001b[39m \u001b[38;5;241m1\u001b[39m\n\u001b[0;32m    541\u001b[0m \u001b[38;5;66;03m# A copy of x is sent to the user function (gh13740)\u001b[39;00m\n\u001b[1;32m--> 542\u001b[0m fx \u001b[38;5;241m=\u001b[39m function(np\u001b[38;5;241m.\u001b[39mcopy(x), \u001b[38;5;241m*\u001b[39m(wrapper_args \u001b[38;5;241m+\u001b[39m args))\n\u001b[0;32m    543\u001b[0m \u001b[38;5;66;03m# Ideally, we'd like to a have a true scalar returned from f(x). For\u001b[39;00m\n\u001b[0;32m    544\u001b[0m \u001b[38;5;66;03m# backwards-compatibility, also allow np.array([1.3]),\u001b[39;00m\n\u001b[0;32m    545\u001b[0m \u001b[38;5;66;03m# np.array([[1.3]]) etc.\u001b[39;00m\n\u001b[0;32m    546\u001b[0m \u001b[38;5;28;01mif\u001b[39;00m \u001b[38;5;129;01mnot\u001b[39;00m np\u001b[38;5;241m.\u001b[39misscalar(fx):\n",
      "Cell \u001b[1;32mIn[6], line 2\u001b[0m, in \u001b[0;36m<lambda>\u001b[1;34m(theta)\u001b[0m\n\u001b[0;32m      1\u001b[0m \u001b[38;5;66;03m# call numerical optimizer\u001b[39;00m\n\u001b[1;32m----> 2\u001b[0m objective \u001b[38;5;241m=\u001b[39m \u001b[38;5;28;01mlambda\u001b[39;00m theta: obj_func(theta,theta_names,a_data,model,do_print\u001b[38;5;241m=\u001b[39m\u001b[38;5;28;01mTrue\u001b[39;00m)\n\u001b[0;32m      4\u001b[0m theta_init \u001b[38;5;241m=\u001b[39m np\u001b[38;5;241m.\u001b[39marray([par\u001b[38;5;241m.\u001b[39mbeta,par\u001b[38;5;241m.\u001b[39msigma, par\u001b[38;5;241m.\u001b[39mgamma, par\u001b[38;5;241m.\u001b[39mmu, par\u001b[38;5;241m.\u001b[39mwork_cost]) \n\u001b[0;32m      6\u001b[0m res \u001b[38;5;241m=\u001b[39m minimize(objective,theta_init,method\u001b[38;5;241m=\u001b[39m\u001b[38;5;124m'\u001b[39m\u001b[38;5;124mnelder-mead\u001b[39m\u001b[38;5;124m'\u001b[39m,bounds\u001b[38;5;241m=\u001b[39m[(\u001b[38;5;241m0.\u001b[39m,\u001b[38;5;241m1.\u001b[39m), (\u001b[38;5;241m0.1\u001b[39m,\u001b[38;5;241m6.\u001b[39m), (\u001b[38;5;241m0.1\u001b[39m,\u001b[38;5;241m6.0\u001b[39m), (\u001b[38;5;241m0.0\u001b[39m,\u001b[38;5;241m5.0\u001b[39m),(\u001b[38;5;241m0\u001b[39m,\u001b[38;5;241m1_000_000\u001b[39m)], tol\u001b[38;5;241m=\u001b[39m\u001b[38;5;241m1\u001b[39m, options\u001b[38;5;241m=\u001b[39m {\u001b[38;5;124m\"\u001b[39m\u001b[38;5;124mmaxiter\u001b[39m\u001b[38;5;124m\"\u001b[39m:\u001b[38;5;241m2000\u001b[39m})\n",
      "Cell \u001b[1;32mIn[4], line 11\u001b[0m, in \u001b[0;36mobj_func\u001b[1;34m(theta, theta_names, mom_data, model, do_print)\u001b[0m\n\u001b[0;32m      8\u001b[0m     \u001b[38;5;28mprint\u001b[39m(print_str)\n\u001b[0;32m     10\u001b[0m \u001b[38;5;66;03m# calculate moments from simulation\u001b[39;00m\n\u001b[1;32m---> 11\u001b[0m mom_sim \u001b[38;5;241m=\u001b[39m simulate_moments(theta,theta_names,model,do_print\u001b[38;5;241m=\u001b[39m\u001b[38;5;28;01mFalse\u001b[39;00m)\n\u001b[0;32m     13\u001b[0m \u001b[38;5;66;03m# equal weighting\u001b[39;00m\n\u001b[0;32m     14\u001b[0m obj \u001b[38;5;241m=\u001b[39m np\u001b[38;5;241m.\u001b[39msum((mom_data \u001b[38;5;241m-\u001b[39m mom_sim)\u001b[38;5;241m*\u001b[39m\u001b[38;5;241m*\u001b[39m\u001b[38;5;241m2\u001b[39m)\n",
      "Cell \u001b[1;32mIn[4], line 29\u001b[0m, in \u001b[0;36msimulate_moments\u001b[1;34m(theta, theta_names, model, do_print)\u001b[0m\n\u001b[0;32m     27\u001b[0m \u001b[38;5;66;03m# solve and simulate model with these parameters\u001b[39;00m\n\u001b[0;32m     28\u001b[0m model\u001b[38;5;241m.\u001b[39msolve()\n\u001b[1;32m---> 29\u001b[0m model\u001b[38;5;241m.\u001b[39msimulate()\n\u001b[0;32m     31\u001b[0m \u001b[38;5;66;03m# return moments from simulated data\u001b[39;00m\n\u001b[0;32m     32\u001b[0m \u001b[38;5;28;01mreturn\u001b[39;00m moment_func(model\u001b[38;5;241m.\u001b[39msim)\n",
      "File \u001b[1;32mf:\\MPC\\Studenter\\Speciale\\Peter og Mathias\\Code Peter\\Design_retirement\\model.py:201\u001b[0m, in \u001b[0;36mModelClass.simulate\u001b[1;34m(self)\u001b[0m\n\u001b[0;32m    198\u001b[0m     sim\u001b[38;5;241m.\u001b[39mk[i,t\u001b[38;5;241m+\u001b[39m\u001b[38;5;241m1\u001b[39m] \u001b[38;5;241m=\u001b[39m ((\u001b[38;5;241m1\u001b[39m\u001b[38;5;241m-\u001b[39mpar\u001b[38;5;241m.\u001b[39mdelta)\u001b[38;5;241m*\u001b[39msim\u001b[38;5;241m.\u001b[39mk[i,t])\u001b[38;5;241m*\u001b[39msim\u001b[38;5;241m.\u001b[39mxi[i,t]\n\u001b[0;32m    200\u001b[0m \u001b[38;5;28;01melif\u001b[39;00m par\u001b[38;5;241m.\u001b[39mretirement_age \u001b[38;5;241m+\u001b[39m par\u001b[38;5;241m.\u001b[39mm \u001b[38;5;241m<\u001b[39m\u001b[38;5;241m=\u001b[39m t \u001b[38;5;241m<\u001b[39m par\u001b[38;5;241m.\u001b[39mT\u001b[38;5;241m-\u001b[39m\u001b[38;5;241m1\u001b[39m:\n\u001b[1;32m--> 201\u001b[0m     sim\u001b[38;5;241m.\u001b[39mw[i,t] \u001b[38;5;241m=\u001b[39m wage(par, sol, sim\u001b[38;5;241m.\u001b[39mk[i,t], t)\n\u001b[0;32m    202\u001b[0m     sim\u001b[38;5;241m.\u001b[39ma[i,t\u001b[38;5;241m+\u001b[39m\u001b[38;5;241m1\u001b[39m] \u001b[38;5;241m=\u001b[39m (\u001b[38;5;241m1\u001b[39m\u001b[38;5;241m+\u001b[39mpar\u001b[38;5;241m.\u001b[39mr_a)\u001b[38;5;241m*\u001b[39m(sim\u001b[38;5;241m.\u001b[39ma[i,t] \u001b[38;5;241m+\u001b[39m par\u001b[38;5;241m.\u001b[39mchi[t] \u001b[38;5;241m-\u001b[39m sim\u001b[38;5;241m.\u001b[39mc[i,t])\n\u001b[0;32m    203\u001b[0m     sim\u001b[38;5;241m.\u001b[39ms[i,t\u001b[38;5;241m+\u001b[39m\u001b[38;5;241m1\u001b[39m] \u001b[38;5;241m=\u001b[39m \u001b[38;5;241m0\u001b[39m\n",
      "\u001b[1;31mKeyboardInterrupt\u001b[0m: "
     ]
    }
   ],
   "source": [
    "# call numerical optimizer\n",
    "objective = lambda theta: obj_func(theta,theta_names,a_data,model,do_print=True)\n",
    "\n",
    "theta_init = np.array([par.beta,par.sigma, par.gamma, par.mu, par.work_cost]) \n",
    "\n",
    "res = minimize(objective,theta_init,method='nelder-mead',bounds=[(0.,1.), (0.1,6.), (0.1,6.0), (0.0,5.0),(0,1_000_000)], tol=1, options= {\"maxiter\":2000})\n",
    "res"
   ]
  }
 ],
 "metadata": {
  "kernelspec": {
   "display_name": "base",
   "language": "python",
   "name": "python3"
  },
  "language_info": {
   "codemirror_mode": {
    "name": "ipython",
    "version": 3
   },
   "file_extension": ".py",
   "mimetype": "text/x-python",
   "name": "python",
   "nbconvert_exporter": "python",
   "pygments_lexer": "ipython3",
   "version": "3.12.7"
  }
 },
 "nbformat": 4,
 "nbformat_minor": 2
}
