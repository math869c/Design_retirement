{
 "cells": [
  {
   "cell_type": "code",
   "execution_count": 1,
   "metadata": {},
   "outputs": [],
   "source": [
    "%load_ext autoreload\n",
    "%autoreload 2\n",
    "import time\n",
    "import numpy as np\n",
    "import pandas as pd\n",
    "from scipy.optimize import minimize\n",
    "import matplotlib.pyplot as plt\n",
    "from mpl_toolkits import mplot3d\n",
    "from estimation_fct import *"
   ]
  },
  {
   "cell_type": "code",
   "execution_count": 2,
   "metadata": {},
   "outputs": [],
   "source": [
    "# Load model\n",
    "from model import ModelClass\n",
    "\n",
    "model = ModelClass() \n",
    "\n",
    "par = model.par\n",
    "sol = model.sol\n",
    "sim = model.sim\n",
    "\n",
    "# model.solve()\n",
    "# model.simulate()"
   ]
  },
  {
   "cell_type": "code",
   "execution_count": 3,
   "metadata": {},
   "outputs": [],
   "source": [
    "# Prepare data\n",
    "mean, weights, moments = prepare_data(par)"
   ]
  },
  {
   "cell_type": "code",
   "execution_count": 4,
   "metadata": {},
   "outputs": [],
   "source": [
    "# Prepare SMM\n",
    "theta_names = (\"beta\", \"sigma\", \"gamma\", \"mu\", \"r_a\", \"xi\")\n",
    "theta_init = np.array([0.955 , 0.85 , 4.5, 5.000, 0.005, 0.02])\n",
    "\n",
    "# Original bounds\n",
    "orig_bounds = [(0.0, 1.0),   # beta\n",
    "               (0.1, 6.0),   # sigma\n",
    "               (0.1, 10.0),  # gamma\n",
    "               (0.0, 10.0),  # mu\n",
    "               (0.0, 0.1),   # r_a\n",
    "               (0.0, 1.0),    # k_scale\n",
    "               (0.0, 0.1),\n",
    "               ] \n",
    "\n",
    "theta_init_scaled = scale_params(theta_init, orig_bounds)"
   ]
  },
  {
   "cell_type": "code",
   "execution_count": 5,
   "metadata": {},
   "outputs": [
    {
     "name": "stdout",
     "output_type": "stream",
     "text": [
      "beta=0.955 sigma=0.850 gamma=4.500 mu=5.000 r_a=0.005 xi=0.020 \n"
     ]
    },
    {
     "name": "stderr",
     "output_type": "stream",
     "text": [
      "c:\\Design_retirement\\estimation_fct.py:118: RuntimeWarning: Mean of empty slice\n",
      "  avg_h_by_age = np.nanmean(np.where(sim_data.ex == 1, sim_data.h, np.nan), axis=0)[:40] # Length 40\n"
     ]
    },
    {
     "name": "stdout",
     "output_type": "stream",
     "text": [
      "Error = 34.06, Time = 126.5592 seconds\n",
      "beta=0.997 sigma=0.850 gamma=4.500 mu=5.000 r_a=0.005 xi=0.020 \n"
     ]
    },
    {
     "name": "stderr",
     "output_type": "stream",
     "text": [
      "c:\\Design_retirement\\estimation_fct.py:118: RuntimeWarning: Mean of empty slice\n",
      "  avg_h_by_age = np.nanmean(np.where(sim_data.ex == 1, sim_data.h, np.nan), axis=0)[:40] # Length 40\n"
     ]
    },
    {
     "name": "stdout",
     "output_type": "stream",
     "text": [
      "Error = 44.74, Time = 137.0885 seconds\n",
      "beta=0.955 sigma=0.888 gamma=4.500 mu=5.000 r_a=0.005 xi=0.020 \n"
     ]
    },
    {
     "name": "stderr",
     "output_type": "stream",
     "text": [
      "c:\\Design_retirement\\estimation_fct.py:118: RuntimeWarning: Mean of empty slice\n",
      "  avg_h_by_age = np.nanmean(np.where(sim_data.ex == 1, sim_data.h, np.nan), axis=0)[:40] # Length 40\n"
     ]
    },
    {
     "name": "stdout",
     "output_type": "stream",
     "text": [
      "Error = 33.26, Time = 119.5722 seconds\n",
      "beta=0.955 sigma=0.850 gamma=4.720 mu=5.000 r_a=0.005 xi=0.020 \n"
     ]
    },
    {
     "name": "stderr",
     "output_type": "stream",
     "text": [
      "c:\\Design_retirement\\estimation_fct.py:118: RuntimeWarning: Mean of empty slice\n",
      "  avg_h_by_age = np.nanmean(np.where(sim_data.ex == 1, sim_data.h, np.nan), axis=0)[:40] # Length 40\n"
     ]
    },
    {
     "name": "stdout",
     "output_type": "stream",
     "text": [
      "Error = 34.06, Time = 117.1891 seconds\n",
      "beta=0.955 sigma=0.850 gamma=4.500 mu=5.250 r_a=0.005 xi=0.020 \n"
     ]
    },
    {
     "name": "stderr",
     "output_type": "stream",
     "text": [
      "c:\\Design_retirement\\estimation_fct.py:118: RuntimeWarning: Mean of empty slice\n",
      "  avg_h_by_age = np.nanmean(np.where(sim_data.ex == 1, sim_data.h, np.nan), axis=0)[:40] # Length 40\n"
     ]
    },
    {
     "name": "stdout",
     "output_type": "stream",
     "text": [
      "Error = 33.74, Time = 122.5700 seconds\n",
      "beta=0.955 sigma=0.850 gamma=4.500 mu=5.000 r_a=0.005 xi=0.020 \n"
     ]
    },
    {
     "name": "stderr",
     "output_type": "stream",
     "text": [
      "c:\\Design_retirement\\estimation_fct.py:118: RuntimeWarning: Mean of empty slice\n",
      "  avg_h_by_age = np.nanmean(np.where(sim_data.ex == 1, sim_data.h, np.nan), axis=0)[:40] # Length 40\n"
     ]
    },
    {
     "name": "stdout",
     "output_type": "stream",
     "text": [
      "Error = 34.02, Time = 121.3028 seconds\n",
      "beta=0.955 sigma=0.850 gamma=4.500 mu=5.000 r_a=0.005 xi=0.021 \n"
     ]
    },
    {
     "name": "stderr",
     "output_type": "stream",
     "text": [
      "c:\\Design_retirement\\estimation_fct.py:118: RuntimeWarning: Mean of empty slice\n",
      "  avg_h_by_age = np.nanmean(np.where(sim_data.ex == 1, sim_data.h, np.nan), axis=0)[:40] # Length 40\n"
     ]
    },
    {
     "name": "stdout",
     "output_type": "stream",
     "text": [
      "Error = 33.98, Time = 123.5222 seconds\n",
      "beta=0.913 sigma=0.862 gamma=4.573 mu=5.083 r_a=0.005 xi=0.020 \n"
     ]
    },
    {
     "name": "stderr",
     "output_type": "stream",
     "text": [
      "c:\\Design_retirement\\estimation_fct.py:118: RuntimeWarning: Mean of empty slice\n",
      "  avg_h_by_age = np.nanmean(np.where(sim_data.ex == 1, sim_data.h, np.nan), axis=0)[:40] # Length 40\n"
     ]
    },
    {
     "name": "stdout",
     "output_type": "stream",
     "text": [
      "Error = 38.71, Time = 137.4913 seconds\n",
      "beta=0.934 sigma=0.859 gamma=4.555 mu=5.062 r_a=0.005 xi=0.020 \n"
     ]
    },
    {
     "name": "stderr",
     "output_type": "stream",
     "text": [
      "c:\\Design_retirement\\estimation_fct.py:118: RuntimeWarning: Mean of empty slice\n",
      "  avg_h_by_age = np.nanmean(np.where(sim_data.ex == 1, sim_data.h, np.nan), axis=0)[:40] # Length 40\n"
     ]
    },
    {
     "name": "stdout",
     "output_type": "stream",
     "text": [
      "Error = 36.73, Time = 135.1669 seconds\n",
      "beta=0.976 sigma=0.853 gamma=4.518 mu=5.021 r_a=0.005 xi=0.020 \n"
     ]
    },
    {
     "name": "stderr",
     "output_type": "stream",
     "text": [
      "c:\\Design_retirement\\estimation_fct.py:118: RuntimeWarning: Mean of empty slice\n",
      "  avg_h_by_age = np.nanmean(np.where(sim_data.ex == 1, sim_data.h, np.nan), axis=0)[:40] # Length 40\n"
     ]
    },
    {
     "name": "stdout",
     "output_type": "stream",
     "text": [
      "Error = 26.88, Time = 132.3155 seconds\n",
      "beta=0.997 sigma=0.850 gamma=4.500 mu=5.000 r_a=0.005 xi=0.020 \n"
     ]
    },
    {
     "name": "stderr",
     "output_type": "stream",
     "text": [
      "c:\\Design_retirement\\estimation_fct.py:118: RuntimeWarning: Mean of empty slice\n",
      "  avg_h_by_age = np.nanmean(np.where(sim_data.ex == 1, sim_data.h, np.nan), axis=0)[:40] # Length 40\n"
     ]
    },
    {
     "name": "stdout",
     "output_type": "stream",
     "text": [
      "Error = 44.74, Time = 125.0341 seconds\n",
      "beta=0.962 sigma=0.864 gamma=4.579 mu=5.090 r_a=0.005 xi=0.020 \n"
     ]
    },
    {
     "name": "stderr",
     "output_type": "stream",
     "text": [
      "c:\\Design_retirement\\estimation_fct.py:118: RuntimeWarning: Mean of empty slice\n",
      "  avg_h_by_age = np.nanmean(np.where(sim_data.ex == 1, sim_data.h, np.nan), axis=0)[:40] # Length 40\n"
     ]
    },
    {
     "name": "stdout",
     "output_type": "stream",
     "text": [
      "Error = 31.58, Time = 121.6707 seconds\n",
      "beta=0.964 sigma=0.868 gamma=4.313 mu=5.120 r_a=0.005 xi=0.020 \n"
     ]
    },
    {
     "name": "stderr",
     "output_type": "stream",
     "text": [
      "c:\\Design_retirement\\estimation_fct.py:118: RuntimeWarning: Mean of empty slice\n",
      "  avg_h_by_age = np.nanmean(np.where(sim_data.ex == 1, sim_data.h, np.nan), axis=0)[:40] # Length 40\n"
     ]
    },
    {
     "name": "stdout",
     "output_type": "stream",
     "text": [
      "Error = 30.48, Time = 121.7934 seconds\n",
      "beta=0.968 sigma=0.874 gamma=4.470 mu=5.160 r_a=0.005 xi=0.021 \n"
     ]
    },
    {
     "name": "stderr",
     "output_type": "stream",
     "text": [
      "c:\\Design_retirement\\estimation_fct.py:118: RuntimeWarning: Mean of empty slice\n",
      "  avg_h_by_age = np.nanmean(np.where(sim_data.ex == 1, sim_data.h, np.nan), axis=0)[:40] # Length 40\n"
     ]
    },
    {
     "name": "stdout",
     "output_type": "stream",
     "text": [
      "Error = 28.97, Time = 127.9992 seconds\n",
      "beta=0.972 sigma=0.882 gamma=4.460 mu=5.214 r_a=0.005 xi=0.020 \n"
     ]
    },
    {
     "name": "stderr",
     "output_type": "stream",
     "text": [
      "c:\\Design_retirement\\estimation_fct.py:118: RuntimeWarning: Mean of empty slice\n",
      "  avg_h_by_age = np.nanmean(np.where(sim_data.ex == 1, sim_data.h, np.nan), axis=0)[:40] # Length 40\n"
     ]
    },
    {
     "name": "stdout",
     "output_type": "stream",
     "text": [
      "Error = 26.77, Time = 124.4848 seconds\n",
      "beta=0.980 sigma=0.898 gamma=4.440 mu=5.321 r_a=0.005 xi=0.019 \n"
     ]
    },
    {
     "name": "stderr",
     "output_type": "stream",
     "text": [
      "c:\\Design_retirement\\estimation_fct.py:118: RuntimeWarning: Mean of empty slice\n",
      "  avg_h_by_age = np.nanmean(np.where(sim_data.ex == 1, sim_data.h, np.nan), axis=0)[:40] # Length 40\n"
     ]
    },
    {
     "name": "stdout",
     "output_type": "stream",
     "text": [
      "Error = 24.12, Time = 143.5017 seconds\n",
      "beta=0.980 sigma=0.898 gamma=4.440 mu=4.988 r_a=0.005 xi=0.020 \n"
     ]
    },
    {
     "name": "stderr",
     "output_type": "stream",
     "text": [
      "c:\\Design_retirement\\estimation_fct.py:118: RuntimeWarning: Mean of empty slice\n",
      "  avg_h_by_age = np.nanmean(np.where(sim_data.ex == 1, sim_data.h, np.nan), axis=0)[:40] # Length 40\n"
     ]
    },
    {
     "name": "stdout",
     "output_type": "stream",
     "text": [
      "Error = 24.17, Time = 144.9398 seconds\n",
      "beta=0.988 sigma=0.864 gamma=4.420 mu=5.234 r_a=0.005 xi=0.020 \n"
     ]
    },
    {
     "name": "stderr",
     "output_type": "stream",
     "text": [
      "c:\\Design_retirement\\estimation_fct.py:118: RuntimeWarning: Mean of empty slice\n",
      "  avg_h_by_age = np.nanmean(np.where(sim_data.ex == 1, sim_data.h, np.nan), axis=0)[:40] # Length 40\n"
     ]
    },
    {
     "name": "stdout",
     "output_type": "stream",
     "text": [
      "Error = 30.24, Time = 121.1560 seconds\n",
      "beta=0.990 sigma=0.888 gamma=4.288 mu=5.191 r_a=0.005 xi=0.020 \n"
     ]
    },
    {
     "name": "stderr",
     "output_type": "stream",
     "text": [
      "c:\\Design_retirement\\estimation_fct.py:118: RuntimeWarning: Mean of empty slice\n",
      "  avg_h_by_age = np.nanmean(np.where(sim_data.ex == 1, sim_data.h, np.nan), axis=0)[:40] # Length 40\n"
     ]
    },
    {
     "name": "stdout",
     "output_type": "stream",
     "text": [
      "Error = 29.18, Time = 146.6925 seconds\n",
      "beta=0.996 sigma=0.891 gamma=4.546 mu=5.184 r_a=0.005 xi=0.019 \n"
     ]
    },
    {
     "name": "stderr",
     "output_type": "stream",
     "text": [
      "c:\\Design_retirement\\estimation_fct.py:118: RuntimeWarning: Mean of empty slice\n",
      "  avg_h_by_age = np.nanmean(np.where(sim_data.ex == 1, sim_data.h, np.nan), axis=0)[:40] # Length 40\n"
     ]
    },
    {
     "name": "stdout",
     "output_type": "stream",
     "text": [
      "Error = 40.23, Time = 141.5923 seconds\n",
      "beta=0.972 sigma=0.874 gamma=4.371 mu=5.136 r_a=0.005 xi=0.020 \n"
     ]
    },
    {
     "name": "stderr",
     "output_type": "stream",
     "text": [
      "c:\\Design_retirement\\estimation_fct.py:118: RuntimeWarning: Mean of empty slice\n",
      "  avg_h_by_age = np.nanmean(np.where(sim_data.ex == 1, sim_data.h, np.nan), axis=0)[:40] # Length 40\n"
     ]
    },
    {
     "name": "stdout",
     "output_type": "stream",
     "text": [
      "Error = 26.89, Time = 152.4968 seconds\n",
      "beta=0.967 sigma=0.898 gamma=4.422 mu=5.039 r_a=0.005 xi=0.020 \n"
     ]
    },
    {
     "name": "stderr",
     "output_type": "stream",
     "text": [
      "c:\\Design_retirement\\estimation_fct.py:118: RuntimeWarning: Mean of empty slice\n",
      "  avg_h_by_age = np.nanmean(np.where(sim_data.ex == 1, sim_data.h, np.nan), axis=0)[:40] # Length 40\n"
     ]
    },
    {
     "name": "stdout",
     "output_type": "stream",
     "text": [
      "Error = 28.82, Time = 143.4405 seconds\n",
      "beta=0.958 sigma=0.877 gamma=4.600 mu=5.031 r_a=0.005 xi=0.020 \n"
     ]
    },
    {
     "name": "stderr",
     "output_type": "stream",
     "text": [
      "c:\\Design_retirement\\estimation_fct.py:118: RuntimeWarning: Mean of empty slice\n",
      "  avg_h_by_age = np.nanmean(np.where(sim_data.ex == 1, sim_data.h, np.nan), axis=0)[:40] # Length 40\n"
     ]
    },
    {
     "name": "stdout",
     "output_type": "stream",
     "text": [
      "Error = 32.66, Time = 153.0971 seconds\n",
      "beta=0.982 sigma=0.885 gamma=4.366 mu=5.151 r_a=0.005 xi=0.020 \n"
     ]
    },
    {
     "name": "stderr",
     "output_type": "stream",
     "text": [
      "c:\\Design_retirement\\estimation_fct.py:118: RuntimeWarning: Mean of empty slice\n",
      "  avg_h_by_age = np.nanmean(np.where(sim_data.ex == 1, sim_data.h, np.nan), axis=0)[:40] # Length 40\n"
     ]
    },
    {
     "name": "stdout",
     "output_type": "stream",
     "text": [
      "Error = 24.75, Time = 130.5631 seconds\n",
      "beta=0.985 sigma=0.895 gamma=4.383 mu=5.058 r_a=0.005 xi=0.019 \n"
     ]
    },
    {
     "name": "stderr",
     "output_type": "stream",
     "text": [
      "c:\\Design_retirement\\estimation_fct.py:118: RuntimeWarning: Mean of empty slice\n",
      "  avg_h_by_age = np.nanmean(np.where(sim_data.ex == 1, sim_data.h, np.nan), axis=0)[:40] # Length 40\n"
     ]
    },
    {
     "name": "stdout",
     "output_type": "stream",
     "text": [
      "Error = 25.25, Time = 156.1249 seconds\n",
      "beta=0.992 sigma=0.870 gamma=4.417 mu=5.186 r_a=0.005 xi=0.020 \n"
     ]
    },
    {
     "name": "stderr",
     "output_type": "stream",
     "text": [
      "c:\\Design_retirement\\estimation_fct.py:118: RuntimeWarning: Mean of empty slice\n",
      "  avg_h_by_age = np.nanmean(np.where(sim_data.ex == 1, sim_data.h, np.nan), axis=0)[:40] # Length 40\n"
     ]
    },
    {
     "name": "stdout",
     "output_type": "stream",
     "text": [
      "Error = 33.64, Time = 132.5900 seconds\n",
      "beta=0.973 sigma=0.891 gamma=4.421 mu=5.076 r_a=0.005 xi=0.020 \n"
     ]
    },
    {
     "name": "stderr",
     "output_type": "stream",
     "text": [
      "c:\\Design_retirement\\estimation_fct.py:118: RuntimeWarning: Mean of empty slice\n",
      "  avg_h_by_age = np.nanmean(np.where(sim_data.ex == 1, sim_data.h, np.nan), axis=0)[:40] # Length 40\n"
     ]
    },
    {
     "name": "stdout",
     "output_type": "stream",
     "text": [
      "Error = 26.24, Time = 138.7692 seconds\n",
      "beta=0.986 sigma=0.900 gamma=4.485 mu=5.068 r_a=0.005 xi=0.019 \n"
     ]
    },
    {
     "name": "stderr",
     "output_type": "stream",
     "text": [
      "c:\\Design_retirement\\estimation_fct.py:118: RuntimeWarning: Mean of empty slice\n",
      "  avg_h_by_age = np.nanmean(np.where(sim_data.ex == 1, sim_data.h, np.nan), axis=0)[:40] # Length 40\n"
     ]
    },
    {
     "name": "stdout",
     "output_type": "stream",
     "text": [
      "Error = 25.75, Time = 146.1666 seconds\n",
      "beta=0.986 sigma=0.936 gamma=4.327 mu=5.200 r_a=0.005 xi=0.019 \n"
     ]
    },
    {
     "name": "stderr",
     "output_type": "stream",
     "text": [
      "c:\\Design_retirement\\estimation_fct.py:118: RuntimeWarning: Mean of empty slice\n",
      "  avg_h_by_age = np.nanmean(np.where(sim_data.ex == 1, sim_data.h, np.nan), axis=0)[:40] # Length 40\n"
     ]
    },
    {
     "name": "stdout",
     "output_type": "stream",
     "text": [
      "Error = 24.57, Time = 124.9291 seconds\n",
      "beta=0.993 sigma=0.913 gamma=4.392 mu=5.186 r_a=0.005 xi=0.019 \n"
     ]
    },
    {
     "name": "stderr",
     "output_type": "stream",
     "text": [
      "c:\\Design_retirement\\estimation_fct.py:118: RuntimeWarning: Mean of empty slice\n",
      "  avg_h_by_age = np.nanmean(np.where(sim_data.ex == 1, sim_data.h, np.nan), axis=0)[:40] # Length 40\n"
     ]
    },
    {
     "name": "stdout",
     "output_type": "stream",
     "text": [
      "Error = 31.70, Time = 123.6552 seconds\n",
      "beta=0.978 sigma=0.896 gamma=4.414 mu=5.103 r_a=0.005 xi=0.019 \n"
     ]
    },
    {
     "name": "stderr",
     "output_type": "stream",
     "text": [
      "c:\\Design_retirement\\estimation_fct.py:118: RuntimeWarning: Mean of empty slice\n",
      "  avg_h_by_age = np.nanmean(np.where(sim_data.ex == 1, sim_data.h, np.nan), axis=0)[:40] # Length 40\n"
     ]
    },
    {
     "name": "stdout",
     "output_type": "stream",
     "text": [
      "Error = 24.46, Time = 136.0014 seconds\n",
      "beta=0.977 sigma=0.903 gamma=4.305 mu=5.205 r_a=0.005 xi=0.020 \n"
     ]
    },
    {
     "name": "stderr",
     "output_type": "stream",
     "text": [
      "c:\\Design_retirement\\estimation_fct.py:118: RuntimeWarning: Mean of empty slice\n",
      "  avg_h_by_age = np.nanmean(np.where(sim_data.ex == 1, sim_data.h, np.nan), axis=0)[:40] # Length 40\n"
     ]
    },
    {
     "name": "stdout",
     "output_type": "stream",
     "text": [
      "Error = 24.50, Time = 120.5771 seconds\n",
      "beta=0.976 sigma=0.911 gamma=4.381 mu=5.265 r_a=0.005 xi=0.020 \n"
     ]
    },
    {
     "name": "stderr",
     "output_type": "stream",
     "text": [
      "c:\\Design_retirement\\estimation_fct.py:118: RuntimeWarning: Mean of empty slice\n",
      "  avg_h_by_age = np.nanmean(np.where(sim_data.ex == 1, sim_data.h, np.nan), axis=0)[:40] # Length 40\n"
     ]
    },
    {
     "name": "stdout",
     "output_type": "stream",
     "text": [
      "Error = 24.62, Time = 133.5095 seconds\n",
      "beta=0.977 sigma=0.929 gamma=4.403 mu=5.210 r_a=0.005 xi=0.019 \n"
     ]
    },
    {
     "name": "stderr",
     "output_type": "stream",
     "text": [
      "c:\\Design_retirement\\estimation_fct.py:118: RuntimeWarning: Mean of empty slice\n",
      "  avg_h_by_age = np.nanmean(np.where(sim_data.ex == 1, sim_data.h, np.nan), axis=0)[:40] # Length 40\n"
     ]
    },
    {
     "name": "stdout",
     "output_type": "stream",
     "text": [
      "Error = 24.14, Time = 153.1455 seconds\n",
      "beta=0.983 sigma=0.909 gamma=4.395 mu=5.078 r_a=0.005 xi=0.019 \n"
     ]
    },
    {
     "name": "stderr",
     "output_type": "stream",
     "text": [
      "c:\\Design_retirement\\estimation_fct.py:118: RuntimeWarning: Mean of empty slice\n",
      "  avg_h_by_age = np.nanmean(np.where(sim_data.ex == 1, sim_data.h, np.nan), axis=0)[:40] # Length 40\n"
     ]
    },
    {
     "name": "stdout",
     "output_type": "stream",
     "text": [
      "Error = 24.32, Time = 137.8225 seconds\n",
      "beta=0.973 sigma=0.875 gamma=4.473 mu=5.102 r_a=0.005 xi=0.020 \n"
     ]
    },
    {
     "name": "stderr",
     "output_type": "stream",
     "text": [
      "c:\\Design_retirement\\estimation_fct.py:118: RuntimeWarning: Mean of empty slice\n",
      "  avg_h_by_age = np.nanmean(np.where(sim_data.ex == 1, sim_data.h, np.nan), axis=0)[:40] # Length 40\n"
     ]
    },
    {
     "name": "stdout",
     "output_type": "stream",
     "text": [
      "Error = 26.80, Time = 136.1786 seconds\n",
      "beta=0.983 sigma=0.921 gamma=4.363 mu=5.175 r_a=0.005 xi=0.019 \n"
     ]
    },
    {
     "name": "stderr",
     "output_type": "stream",
     "text": [
      "c:\\Design_retirement\\estimation_fct.py:118: RuntimeWarning: Mean of empty slice\n",
      "  avg_h_by_age = np.nanmean(np.where(sim_data.ex == 1, sim_data.h, np.nan), axis=0)[:40] # Length 40\n"
     ]
    },
    {
     "name": "stdout",
     "output_type": "stream",
     "text": [
      "Error = 23.87, Time = 123.3438 seconds\n",
      "beta=0.983 sigma=0.914 gamma=4.514 mu=5.086 r_a=0.005 xi=0.019 \n"
     ]
    },
    {
     "name": "stderr",
     "output_type": "stream",
     "text": [
      "c:\\Design_retirement\\estimation_fct.py:118: RuntimeWarning: Mean of empty slice\n",
      "  avg_h_by_age = np.nanmean(np.where(sim_data.ex == 1, sim_data.h, np.nan), axis=0)[:40] # Length 40\n"
     ]
    },
    {
     "name": "stdout",
     "output_type": "stream",
     "text": [
      "Error = 24.23, Time = 120.5235 seconds\n",
      "beta=0.984 sigma=0.927 gamma=4.438 mu=5.182 r_a=0.005 xi=0.019 \n"
     ]
    },
    {
     "name": "stderr",
     "output_type": "stream",
     "text": [
      "c:\\Design_retirement\\estimation_fct.py:118: RuntimeWarning: Mean of empty slice\n",
      "  avg_h_by_age = np.nanmean(np.where(sim_data.ex == 1, sim_data.h, np.nan), axis=0)[:40] # Length 40\n"
     ]
    },
    {
     "name": "stdout",
     "output_type": "stream",
     "text": [
      "Error = 24.06, Time = 119.4525 seconds\n",
      "beta=0.979 sigma=0.920 gamma=4.471 mu=5.243 r_a=0.005 xi=0.019 \n"
     ]
    },
    {
     "name": "stderr",
     "output_type": "stream",
     "text": [
      "c:\\Design_retirement\\estimation_fct.py:118: RuntimeWarning: Mean of empty slice\n",
      "  avg_h_by_age = np.nanmean(np.where(sim_data.ex == 1, sim_data.h, np.nan), axis=0)[:40] # Length 40\n"
     ]
    },
    {
     "name": "stdout",
     "output_type": "stream",
     "text": [
      "Error = 23.90, Time = 118.0901 seconds\n",
      "beta=0.978 sigma=0.917 gamma=4.338 mu=5.287 r_a=0.005 xi=0.020 \n"
     ]
    },
    {
     "name": "stderr",
     "output_type": "stream",
     "text": [
      "c:\\Design_retirement\\estimation_fct.py:118: RuntimeWarning: Mean of empty slice\n",
      "  avg_h_by_age = np.nanmean(np.where(sim_data.ex == 1, sim_data.h, np.nan), axis=0)[:40] # Length 40\n"
     ]
    },
    {
     "name": "stdout",
     "output_type": "stream",
     "text": [
      "Error = 24.04, Time = 121.2172 seconds\n",
      "beta=0.980 sigma=0.939 gamma=4.378 mu=5.485 r_a=0.005 xi=0.018 \n"
     ]
    },
    {
     "name": "stderr",
     "output_type": "stream",
     "text": [
      "c:\\Design_retirement\\estimation_fct.py:118: RuntimeWarning: Mean of empty slice\n",
      "  avg_h_by_age = np.nanmean(np.where(sim_data.ex == 1, sim_data.h, np.nan), axis=0)[:40] # Length 40\n"
     ]
    },
    {
     "name": "stdout",
     "output_type": "stream",
     "text": [
      "Error = 23.50, Time = 121.1251 seconds\n",
      "beta=0.980 sigma=0.959 gamma=4.346 mu=5.734 r_a=0.005 xi=0.017 \n"
     ]
    },
    {
     "name": "stderr",
     "output_type": "stream",
     "text": [
      "c:\\Design_retirement\\estimation_fct.py:118: RuntimeWarning: Mean of empty slice\n",
      "  avg_h_by_age = np.nanmean(np.where(sim_data.ex == 1, sim_data.h, np.nan), axis=0)[:40] # Length 40\n"
     ]
    },
    {
     "name": "stdout",
     "output_type": "stream",
     "text": [
      "Error = 22.10, Time = 123.0671 seconds\n",
      "beta=0.984 sigma=0.918 gamma=4.396 mu=5.438 r_a=0.005 xi=0.018 \n"
     ]
    },
    {
     "name": "stderr",
     "output_type": "stream",
     "text": [
      "c:\\Design_retirement\\estimation_fct.py:118: RuntimeWarning: Mean of empty slice\n",
      "  avg_h_by_age = np.nanmean(np.where(sim_data.ex == 1, sim_data.h, np.nan), axis=0)[:40] # Length 40\n"
     ]
    },
    {
     "name": "stdout",
     "output_type": "stream",
     "text": [
      "Error = 24.27, Time = 133.7832 seconds\n",
      "beta=0.979 sigma=0.926 gamma=4.401 mu=5.267 r_a=0.005 xi=0.019 \n"
     ]
    },
    {
     "name": "stderr",
     "output_type": "stream",
     "text": [
      "c:\\Design_retirement\\estimation_fct.py:118: RuntimeWarning: Mean of empty slice\n",
      "  avg_h_by_age = np.nanmean(np.where(sim_data.ex == 1, sim_data.h, np.nan), axis=0)[:40] # Length 40\n"
     ]
    },
    {
     "name": "stdout",
     "output_type": "stream",
     "text": [
      "Error = 23.83, Time = 144.2334 seconds\n",
      "beta=0.981 sigma=0.958 gamma=4.346 mu=5.308 r_a=0.005 xi=0.019 \n"
     ]
    },
    {
     "name": "stderr",
     "output_type": "stream",
     "text": [
      "c:\\Design_retirement\\estimation_fct.py:118: RuntimeWarning: Mean of empty slice\n",
      "  avg_h_by_age = np.nanmean(np.where(sim_data.ex == 1, sim_data.h, np.nan), axis=0)[:40] # Length 40\n"
     ]
    },
    {
     "name": "stdout",
     "output_type": "stream",
     "text": [
      "Error = 22.33, Time = 140.2729 seconds\n",
      "beta=0.976 sigma=0.940 gamma=4.317 mu=5.489 r_a=0.005 xi=0.019 \n"
     ]
    },
    {
     "name": "stderr",
     "output_type": "stream",
     "text": [
      "c:\\Design_retirement\\estimation_fct.py:118: RuntimeWarning: Mean of empty slice\n",
      "  avg_h_by_age = np.nanmean(np.where(sim_data.ex == 1, sim_data.h, np.nan), axis=0)[:40] # Length 40\n"
     ]
    },
    {
     "name": "stdout",
     "output_type": "stream",
     "text": [
      "Error = 24.09, Time = 142.0944 seconds\n",
      "beta=0.982 sigma=0.930 gamma=4.408 mu=5.259 r_a=0.005 xi=0.019 \n"
     ]
    },
    {
     "name": "stderr",
     "output_type": "stream",
     "text": [
      "c:\\Design_retirement\\estimation_fct.py:118: RuntimeWarning: Mean of empty slice\n",
      "  avg_h_by_age = np.nanmean(np.where(sim_data.ex == 1, sim_data.h, np.nan), axis=0)[:40] # Length 40\n"
     ]
    },
    {
     "name": "stdout",
     "output_type": "stream",
     "text": [
      "Error = 23.72, Time = 132.0137 seconds\n",
      "beta=0.984 sigma=0.955 gamma=4.440 mu=5.375 r_a=0.005 xi=0.018 \n"
     ]
    },
    {
     "name": "stderr",
     "output_type": "stream",
     "text": [
      "c:\\Design_retirement\\estimation_fct.py:118: RuntimeWarning: Mean of empty slice\n",
      "  avg_h_by_age = np.nanmean(np.where(sim_data.ex == 1, sim_data.h, np.nan), axis=0)[:40] # Length 40\n"
     ]
    },
    {
     "name": "stdout",
     "output_type": "stream",
     "text": [
      "Error = 22.94, Time = 144.5345 seconds\n",
      "beta=0.984 sigma=0.963 gamma=4.297 mu=5.463 r_a=0.005 xi=0.017 \n"
     ]
    },
    {
     "name": "stderr",
     "output_type": "stream",
     "text": [
      "c:\\Design_retirement\\estimation_fct.py:118: RuntimeWarning: Mean of empty slice\n",
      "  avg_h_by_age = np.nanmean(np.where(sim_data.ex == 1, sim_data.h, np.nan), axis=0)[:40] # Length 40\n"
     ]
    },
    {
     "name": "stdout",
     "output_type": "stream",
     "text": [
      "Error = 22.31, Time = 139.3758 seconds\n",
      "beta=0.981 sigma=0.976 gamma=4.383 mu=5.627 r_a=0.005 xi=0.017 \n"
     ]
    },
    {
     "name": "stderr",
     "output_type": "stream",
     "text": [
      "c:\\Design_retirement\\estimation_fct.py:118: RuntimeWarning: Mean of empty slice\n",
      "  avg_h_by_age = np.nanmean(np.where(sim_data.ex == 1, sim_data.h, np.nan), axis=0)[:40] # Length 40\n"
     ]
    },
    {
     "name": "stdout",
     "output_type": "stream",
     "text": [
      "Error = 19.13, Time = 115.8668 seconds\n",
      "beta=0.980 sigma=1.004 gamma=4.393 mu=5.852 r_a=0.005 xi=0.016 \n"
     ]
    },
    {
     "name": "stderr",
     "output_type": "stream",
     "text": [
      "c:\\Design_retirement\\estimation_fct.py:118: RuntimeWarning: Mean of empty slice\n",
      "  avg_h_by_age = np.nanmean(np.where(sim_data.ex == 1, sim_data.h, np.nan), axis=0)[:40] # Length 40\n"
     ]
    },
    {
     "name": "stdout",
     "output_type": "stream",
     "text": [
      "Error = 11.87, Time = 120.8589 seconds\n",
      "beta=0.985 sigma=0.997 gamma=4.342 mu=5.731 r_a=0.005 xi=0.016 \n"
     ]
    },
    {
     "name": "stderr",
     "output_type": "stream",
     "text": [
      "c:\\Design_retirement\\estimation_fct.py:118: RuntimeWarning: Mean of empty slice\n",
      "  avg_h_by_age = np.nanmean(np.where(sim_data.ex == 1, sim_data.h, np.nan), axis=0)[:40] # Length 40\n"
     ]
    },
    {
     "name": "stdout",
     "output_type": "stream",
     "text": [
      "Error = 15.91, Time = 132.7563 seconds\n",
      "beta=0.982 sigma=1.015 gamma=4.314 mu=5.895 r_a=0.005 xi=0.016 \n"
     ]
    },
    {
     "name": "stderr",
     "output_type": "stream",
     "text": [
      "c:\\Design_retirement\\estimation_fct.py:118: RuntimeWarning: Mean of empty slice\n",
      "  avg_h_by_age = np.nanmean(np.where(sim_data.ex == 1, sim_data.h, np.nan), axis=0)[:40] # Length 40\n"
     ]
    },
    {
     "name": "stdout",
     "output_type": "stream",
     "text": [
      "Error = 9.73, Time = 130.4273 seconds\n",
      "beta=0.982 sigma=1.058 gamma=4.267 mu=6.214 r_a=0.005 xi=0.014 \n"
     ]
    },
    {
     "name": "stderr",
     "output_type": "stream",
     "text": [
      "c:\\Design_retirement\\estimation_fct.py:118: RuntimeWarning: Mean of empty slice\n",
      "  avg_h_by_age = np.nanmean(np.where(sim_data.ex == 1, sim_data.h, np.nan), axis=0)[:40] # Length 40\n"
     ]
    },
    {
     "name": "stdout",
     "output_type": "stream",
     "text": [
      "Error = 5.85, Time = 148.1160 seconds\n",
      "beta=0.980 sigma=1.025 gamma=4.224 mu=6.059 r_a=0.005 xi=0.016 \n"
     ]
    },
    {
     "name": "stderr",
     "output_type": "stream",
     "text": [
      "c:\\Design_retirement\\estimation_fct.py:118: RuntimeWarning: Mean of empty slice\n",
      "  avg_h_by_age = np.nanmean(np.where(sim_data.ex == 1, sim_data.h, np.nan), axis=0)[:40] # Length 40\n"
     ]
    },
    {
     "name": "stdout",
     "output_type": "stream",
     "text": [
      "Error = 8.48, Time = 159.8384 seconds\n",
      "beta=0.983 sigma=1.044 gamma=4.278 mu=6.376 r_a=0.005 xi=0.013 \n"
     ]
    },
    {
     "name": "stderr",
     "output_type": "stream",
     "text": [
      "c:\\Design_retirement\\estimation_fct.py:118: RuntimeWarning: Mean of empty slice\n",
      "  avg_h_by_age = np.nanmean(np.where(sim_data.ex == 1, sim_data.h, np.nan), axis=0)[:40] # Length 40\n"
     ]
    },
    {
     "name": "stdout",
     "output_type": "stream",
     "text": [
      "Error = 6.14, Time = 142.5976 seconds\n",
      "beta=0.979 sigma=1.066 gamma=4.320 mu=6.525 r_a=0.005 xi=0.014 \n"
     ]
    },
    {
     "name": "stderr",
     "output_type": "stream",
     "text": [
      "c:\\Design_retirement\\estimation_fct.py:118: RuntimeWarning: Mean of empty slice\n",
      "  avg_h_by_age = np.nanmean(np.where(sim_data.ex == 1, sim_data.h, np.nan), axis=0)[:40] # Length 40\n"
     ]
    },
    {
     "name": "stdout",
     "output_type": "stream",
     "text": [
      "Error = 6.43, Time = 146.0035 seconds\n",
      "beta=0.983 sigma=1.106 gamma=4.261 mu=6.518 r_a=0.005 xi=0.013 \n"
     ]
    },
    {
     "name": "stderr",
     "output_type": "stream",
     "text": [
      "c:\\Design_retirement\\estimation_fct.py:118: RuntimeWarning: Mean of empty slice\n",
      "  avg_h_by_age = np.nanmean(np.where(sim_data.ex == 1, sim_data.h, np.nan), axis=0)[:40] # Length 40\n"
     ]
    },
    {
     "name": "stdout",
     "output_type": "stream",
     "text": [
      "Error = 5.57, Time = 139.7364 seconds\n",
      "beta=0.984 sigma=1.179 gamma=4.219 mu=6.911 r_a=0.005 xi=0.010 \n"
     ]
    },
    {
     "name": "stderr",
     "output_type": "stream",
     "text": [
      "c:\\Design_retirement\\estimation_fct.py:118: RuntimeWarning: Mean of empty slice\n",
      "  avg_h_by_age = np.nanmean(np.where(sim_data.ex == 1, sim_data.h, np.nan), axis=0)[:40] # Length 40\n"
     ]
    },
    {
     "name": "stdout",
     "output_type": "stream",
     "text": [
      "Error = 11.06, Time = 149.6617 seconds\n",
      "beta=0.978 sigma=1.104 gamma=4.239 mu=6.784 r_a=0.005 xi=0.012 \n"
     ]
    },
    {
     "name": "stderr",
     "output_type": "stream",
     "text": [
      "c:\\Design_retirement\\estimation_fct.py:118: RuntimeWarning: Mean of empty slice\n",
      "  avg_h_by_age = np.nanmean(np.where(sim_data.ex == 1, sim_data.h, np.nan), axis=0)[:40] # Length 40\n"
     ]
    },
    {
     "name": "stdout",
     "output_type": "stream",
     "text": [
      "Error = 6.80, Time = 164.8201 seconds\n",
      "beta=0.982 sigma=1.130 gamma=4.136 mu=6.973 r_a=0.005 xi=0.011 \n"
     ]
    },
    {
     "name": "stderr",
     "output_type": "stream",
     "text": [
      "c:\\Design_retirement\\estimation_fct.py:118: RuntimeWarning: Mean of empty slice\n",
      "  avg_h_by_age = np.nanmean(np.where(sim_data.ex == 1, sim_data.h, np.nan), axis=0)[:40] # Length 40\n"
     ]
    },
    {
     "name": "stdout",
     "output_type": "stream",
     "text": [
      "Error = 7.61, Time = 134.8740 seconds\n",
      "beta=0.982 sigma=1.144 gamma=4.276 mu=7.071 r_a=0.005 xi=0.010 \n"
     ]
    },
    {
     "name": "stderr",
     "output_type": "stream",
     "text": [
      "c:\\Design_retirement\\estimation_fct.py:118: RuntimeWarning: Mean of empty slice\n",
      "  avg_h_by_age = np.nanmean(np.where(sim_data.ex == 1, sim_data.h, np.nan), axis=0)[:40] # Length 40\n"
     ]
    },
    {
     "name": "stdout",
     "output_type": "stream",
     "text": [
      "Error = 8.46, Time = 126.7855 seconds\n",
      "beta=0.982 sigma=1.114 gamma=4.263 mu=6.818 r_a=0.005 xi=0.011 \n"
     ]
    },
    {
     "name": "stderr",
     "output_type": "stream",
     "text": [
      "c:\\Design_retirement\\estimation_fct.py:118: RuntimeWarning: Mean of empty slice\n",
      "  avg_h_by_age = np.nanmean(np.where(sim_data.ex == 1, sim_data.h, np.nan), axis=0)[:40] # Length 40\n"
     ]
    },
    {
     "name": "stdout",
     "output_type": "stream",
     "text": [
      "Error = 5.89, Time = 114.1921 seconds\n",
      "beta=0.980 sigma=1.034 gamma=4.407 mu=6.106 r_a=0.005 xi=0.015 \n"
     ]
    },
    {
     "name": "stderr",
     "output_type": "stream",
     "text": [
      "c:\\Design_retirement\\estimation_fct.py:118: RuntimeWarning: Mean of empty slice\n",
      "  avg_h_by_age = np.nanmean(np.where(sim_data.ex == 1, sim_data.h, np.nan), axis=0)[:40] # Length 40\n"
     ]
    },
    {
     "name": "stdout",
     "output_type": "stream",
     "text": [
      "Error = 7.67, Time = 113.5604 seconds\n",
      "beta=0.982 sigma=1.106 gamma=4.204 mu=6.756 r_a=0.005 xi=0.012 \n"
     ]
    },
    {
     "name": "stderr",
     "output_type": "stream",
     "text": [
      "c:\\Design_retirement\\estimation_fct.py:118: RuntimeWarning: Mean of empty slice\n",
      "  avg_h_by_age = np.nanmean(np.where(sim_data.ex == 1, sim_data.h, np.nan), axis=0)[:40] # Length 40\n"
     ]
    },
    {
     "name": "stdout",
     "output_type": "stream",
     "text": [
      "Error = 5.73, Time = 119.1791 seconds\n",
      "beta=0.986 sigma=1.060 gamma=4.292 mu=6.285 r_a=0.005 xi=0.013 \n"
     ]
    },
    {
     "name": "stderr",
     "output_type": "stream",
     "text": [
      "c:\\Design_retirement\\estimation_fct.py:118: RuntimeWarning: Mean of empty slice\n",
      "  avg_h_by_age = np.nanmean(np.where(sim_data.ex == 1, sim_data.h, np.nan), axis=0)[:40] # Length 40\n"
     ]
    },
    {
     "name": "stdout",
     "output_type": "stream",
     "text": [
      "Error = 5.60, Time = 116.6198 seconds\n",
      "beta=0.986 sigma=1.097 gamma=4.202 mu=6.464 r_a=0.005 xi=0.012 \n"
     ]
    },
    {
     "name": "stderr",
     "output_type": "stream",
     "text": [
      "c:\\Design_retirement\\estimation_fct.py:118: RuntimeWarning: Mean of empty slice\n",
      "  avg_h_by_age = np.nanmean(np.where(sim_data.ex == 1, sim_data.h, np.nan), axis=0)[:40] # Length 40\n"
     ]
    },
    {
     "name": "stdout",
     "output_type": "stream",
     "text": [
      "Error = 4.86, Time = 117.3605 seconds\n",
      "beta=0.989 sigma=1.112 gamma=4.143 mu=6.433 r_a=0.005 xi=0.011 \n"
     ]
    },
    {
     "name": "stderr",
     "output_type": "stream",
     "text": [
      "c:\\Design_retirement\\estimation_fct.py:118: RuntimeWarning: Mean of empty slice\n",
      "  avg_h_by_age = np.nanmean(np.where(sim_data.ex == 1, sim_data.h, np.nan), axis=0)[:40] # Length 40\n"
     ]
    },
    {
     "name": "stdout",
     "output_type": "stream",
     "text": [
      "Error = 4.86, Time = 116.6668 seconds\n",
      "beta=0.984 sigma=1.136 gamma=4.219 mu=6.642 r_a=0.005 xi=0.012 \n"
     ]
    },
    {
     "name": "stderr",
     "output_type": "stream",
     "text": [
      "c:\\Design_retirement\\estimation_fct.py:118: RuntimeWarning: Mean of empty slice\n",
      "  avg_h_by_age = np.nanmean(np.where(sim_data.ex == 1, sim_data.h, np.nan), axis=0)[:40] # Length 40\n"
     ]
    },
    {
     "name": "stdout",
     "output_type": "stream",
     "text": [
      "Error = 7.39, Time = 117.6158 seconds\n",
      "beta=0.983 sigma=1.067 gamma=4.263 mu=6.442 r_a=0.005 xi=0.013 \n"
     ]
    },
    {
     "name": "stderr",
     "output_type": "stream",
     "text": [
      "c:\\Design_retirement\\estimation_fct.py:118: RuntimeWarning: Mean of empty slice\n",
      "  avg_h_by_age = np.nanmean(np.where(sim_data.ex == 1, sim_data.h, np.nan), axis=0)[:40] # Length 40\n"
     ]
    },
    {
     "name": "stdout",
     "output_type": "stream",
     "text": [
      "Error = 5.37, Time = 120.8081 seconds\n",
      "beta=0.986 sigma=1.050 gamma=4.233 mu=6.075 r_a=0.005 xi=0.014 \n"
     ]
    },
    {
     "name": "stderr",
     "output_type": "stream",
     "text": [
      "c:\\Design_retirement\\estimation_fct.py:118: RuntimeWarning: Mean of empty slice\n",
      "  avg_h_by_age = np.nanmean(np.where(sim_data.ex == 1, sim_data.h, np.nan), axis=0)[:40] # Length 40\n"
     ]
    },
    {
     "name": "stdout",
     "output_type": "stream",
     "text": [
      "Error = 5.86, Time = 124.2169 seconds\n",
      "beta=0.985 sigma=1.066 gamma=4.241 mu=6.261 r_a=0.005 xi=0.014 \n"
     ]
    },
    {
     "name": "stderr",
     "output_type": "stream",
     "text": [
      "c:\\Design_retirement\\estimation_fct.py:118: RuntimeWarning: Mean of empty slice\n",
      "  avg_h_by_age = np.nanmean(np.where(sim_data.ex == 1, sim_data.h, np.nan), axis=0)[:40] # Length 40\n"
     ]
    },
    {
     "name": "stdout",
     "output_type": "stream",
     "text": [
      "Error = 5.34, Time = 124.4809 seconds\n",
      "beta=0.985 sigma=1.110 gamma=4.221 mu=6.695 r_a=0.005 xi=0.011 \n"
     ]
    },
    {
     "name": "stderr",
     "output_type": "stream",
     "text": [
      "c:\\Design_retirement\\estimation_fct.py:118: RuntimeWarning: Mean of empty slice\n",
      "  avg_h_by_age = np.nanmean(np.where(sim_data.ex == 1, sim_data.h, np.nan), axis=0)[:40] # Length 40\n"
     ]
    },
    {
     "name": "stdout",
     "output_type": "stream",
     "text": [
      "Error = 5.02, Time = 136.2920 seconds\n",
      "beta=0.987 sigma=1.063 gamma=4.290 mu=6.132 r_a=0.005 xi=0.013 \n"
     ]
    },
    {
     "name": "stderr",
     "output_type": "stream",
     "text": [
      "c:\\Design_retirement\\estimation_fct.py:118: RuntimeWarning: Mean of empty slice\n",
      "  avg_h_by_age = np.nanmean(np.where(sim_data.ex == 1, sim_data.h, np.nan), axis=0)[:40] # Length 40\n"
     ]
    },
    {
     "name": "stdout",
     "output_type": "stream",
     "text": [
      "Error = 5.63, Time = 123.3821 seconds\n",
      "beta=0.986 sigma=1.073 gamma=4.268 mu=6.288 r_a=0.005 xi=0.013 \n"
     ]
    },
    {
     "name": "stderr",
     "output_type": "stream",
     "text": [
      "c:\\Design_retirement\\estimation_fct.py:118: RuntimeWarning: Mean of empty slice\n",
      "  avg_h_by_age = np.nanmean(np.where(sim_data.ex == 1, sim_data.h, np.nan), axis=0)[:40] # Length 40\n"
     ]
    },
    {
     "name": "stdout",
     "output_type": "stream",
     "text": [
      "Error = 5.32, Time = 126.7935 seconds\n",
      "beta=0.984 sigma=1.112 gamma=4.193 mu=6.604 r_a=0.005 xi=0.012 \n"
     ]
    },
    {
     "name": "stderr",
     "output_type": "stream",
     "text": [
      "c:\\Design_retirement\\estimation_fct.py:118: RuntimeWarning: Mean of empty slice\n",
      "  avg_h_by_age = np.nanmean(np.where(sim_data.ex == 1, sim_data.h, np.nan), axis=0)[:40] # Length 40\n"
     ]
    },
    {
     "name": "stdout",
     "output_type": "stream",
     "text": [
      "Error = 5.46, Time = 128.5579 seconds\n",
      "beta=0.987 sigma=1.070 gamma=4.201 mu=6.400 r_a=0.005 xi=0.012 \n"
     ]
    },
    {
     "name": "stderr",
     "output_type": "stream",
     "text": [
      "c:\\Design_retirement\\estimation_fct.py:118: RuntimeWarning: Mean of empty slice\n",
      "  avg_h_by_age = np.nanmean(np.where(sim_data.ex == 1, sim_data.h, np.nan), axis=0)[:40] # Length 40\n"
     ]
    },
    {
     "name": "stdout",
     "output_type": "stream",
     "text": [
      "Error = 5.21, Time = 123.2398 seconds\n",
      "beta=0.987 sigma=1.049 gamma=4.272 mu=6.245 r_a=0.005 xi=0.013 \n"
     ]
    },
    {
     "name": "stderr",
     "output_type": "stream",
     "text": [
      "c:\\Design_retirement\\estimation_fct.py:118: RuntimeWarning: Mean of empty slice\n",
      "  avg_h_by_age = np.nanmean(np.where(sim_data.ex == 1, sim_data.h, np.nan), axis=0)[:40] # Length 40\n"
     ]
    },
    {
     "name": "stdout",
     "output_type": "stream",
     "text": [
      "Error = 6.19, Time = 118.4412 seconds\n",
      "beta=0.984 sigma=1.096 gamma=4.213 mu=6.515 r_a=0.005 xi=0.012 \n"
     ]
    },
    {
     "name": "stderr",
     "output_type": "stream",
     "text": [
      "c:\\Design_retirement\\estimation_fct.py:118: RuntimeWarning: Mean of empty slice\n",
      "  avg_h_by_age = np.nanmean(np.where(sim_data.ex == 1, sim_data.h, np.nan), axis=0)[:40] # Length 40\n"
     ]
    },
    {
     "name": "stdout",
     "output_type": "stream",
     "text": [
      "Error = 5.07, Time = 124.7864 seconds\n",
      "beta=0.988 sigma=1.104 gamma=4.186 mu=6.432 r_a=0.005 xi=0.012 \n"
     ]
    },
    {
     "name": "stderr",
     "output_type": "stream",
     "text": [
      "c:\\Design_retirement\\estimation_fct.py:118: RuntimeWarning: Mean of empty slice\n",
      "  avg_h_by_age = np.nanmean(np.where(sim_data.ex == 1, sim_data.h, np.nan), axis=0)[:40] # Length 40\n"
     ]
    },
    {
     "name": "stdout",
     "output_type": "stream",
     "text": [
      "Error = 4.65, Time = 125.4947 seconds\n",
      "beta=0.991 sigma=1.122 gamma=4.147 mu=6.426 r_a=0.005 xi=0.011 \n"
     ]
    },
    {
     "name": "stderr",
     "output_type": "stream",
     "text": [
      "c:\\Design_retirement\\estimation_fct.py:118: RuntimeWarning: Mean of empty slice\n",
      "  avg_h_by_age = np.nanmean(np.where(sim_data.ex == 1, sim_data.h, np.nan), axis=0)[:40] # Length 40\n"
     ]
    },
    {
     "name": "stdout",
     "output_type": "stream",
     "text": [
      "Error = 4.84, Time = 122.6125 seconds\n",
      "beta=0.988 sigma=1.117 gamma=4.189 mu=6.670 r_a=0.005 xi=0.011 \n"
     ]
    },
    {
     "name": "stderr",
     "output_type": "stream",
     "text": [
      "c:\\Design_retirement\\estimation_fct.py:118: RuntimeWarning: Mean of empty slice\n",
      "  avg_h_by_age = np.nanmean(np.where(sim_data.ex == 1, sim_data.h, np.nan), axis=0)[:40] # Length 40\n"
     ]
    },
    {
     "name": "stdout",
     "output_type": "stream",
     "text": [
      "Error = 4.90, Time = 116.9181 seconds\n",
      "beta=0.987 sigma=1.124 gamma=4.136 mu=6.770 r_a=0.005 xi=0.011 \n"
     ]
    },
    {
     "name": "stderr",
     "output_type": "stream",
     "text": [
      "c:\\Design_retirement\\estimation_fct.py:118: RuntimeWarning: Mean of empty slice\n",
      "  avg_h_by_age = np.nanmean(np.where(sim_data.ex == 1, sim_data.h, np.nan), axis=0)[:40] # Length 40\n"
     ]
    },
    {
     "name": "stdout",
     "output_type": "stream",
     "text": [
      "Error = 5.06, Time = 129.7091 seconds\n",
      "beta=0.986 sigma=1.146 gamma=4.181 mu=6.782 r_a=0.005 xi=0.011 \n"
     ]
    },
    {
     "name": "stderr",
     "output_type": "stream",
     "text": [
      "c:\\Design_retirement\\estimation_fct.py:118: RuntimeWarning: Mean of empty slice\n",
      "  avg_h_by_age = np.nanmean(np.where(sim_data.ex == 1, sim_data.h, np.nan), axis=0)[:40] # Length 40\n"
     ]
    },
    {
     "name": "stdout",
     "output_type": "stream",
     "text": [
      "Error = 10.57, Time = 137.3456 seconds\n",
      "beta=0.987 sigma=1.089 gamma=4.196 mu=6.495 r_a=0.005 xi=0.012 \n"
     ]
    },
    {
     "name": "stderr",
     "output_type": "stream",
     "text": [
      "c:\\Design_retirement\\estimation_fct.py:118: RuntimeWarning: Mean of empty slice\n",
      "  avg_h_by_age = np.nanmean(np.where(sim_data.ex == 1, sim_data.h, np.nan), axis=0)[:40] # Length 40\n"
     ]
    },
    {
     "name": "stdout",
     "output_type": "stream",
     "text": [
      "Error = 4.88, Time = 124.2885 seconds\n",
      "beta=0.989 sigma=1.117 gamma=4.164 mu=6.661 r_a=0.005 xi=0.011 \n"
     ]
    },
    {
     "name": "stderr",
     "output_type": "stream",
     "text": [
      "c:\\Design_retirement\\estimation_fct.py:118: RuntimeWarning: Mean of empty slice\n",
      "  avg_h_by_age = np.nanmean(np.where(sim_data.ex == 1, sim_data.h, np.nan), axis=0)[:40] # Length 40\n"
     ]
    },
    {
     "name": "stdout",
     "output_type": "stream",
     "text": [
      "Error = 4.85, Time = 126.3157 seconds\n",
      "beta=0.988 sigma=1.087 gamma=4.250 mu=6.369 r_a=0.005 xi=0.012 \n"
     ]
    },
    {
     "name": "stderr",
     "output_type": "stream",
     "text": [
      "c:\\Design_retirement\\estimation_fct.py:118: RuntimeWarning: Mean of empty slice\n",
      "  avg_h_by_age = np.nanmean(np.where(sim_data.ex == 1, sim_data.h, np.nan), axis=0)[:40] # Length 40\n"
     ]
    },
    {
     "name": "stdout",
     "output_type": "stream",
     "text": [
      "Error = 4.93, Time = 123.3973 seconds\n",
      "beta=0.990 sigma=1.094 gamma=4.175 mu=6.335 r_a=0.005 xi=0.012 \n"
     ]
    },
    {
     "name": "stderr",
     "output_type": "stream",
     "text": [
      "c:\\Design_retirement\\estimation_fct.py:118: RuntimeWarning: Mean of empty slice\n",
      "  avg_h_by_age = np.nanmean(np.where(sim_data.ex == 1, sim_data.h, np.nan), axis=0)[:40] # Length 40\n"
     ]
    },
    {
     "name": "stdout",
     "output_type": "stream",
     "text": [
      "Error = 4.81, Time = 117.1489 seconds\n",
      "beta=0.989 sigma=1.119 gamma=4.120 mu=6.650 r_a=0.005 xi=0.011 \n"
     ]
    },
    {
     "name": "stderr",
     "output_type": "stream",
     "text": [
      "c:\\Design_retirement\\estimation_fct.py:118: RuntimeWarning: Mean of empty slice\n",
      "  avg_h_by_age = np.nanmean(np.where(sim_data.ex == 1, sim_data.h, np.nan), axis=0)[:40] # Length 40\n"
     ]
    },
    {
     "name": "stdout",
     "output_type": "stream",
     "text": [
      "Error = 4.90, Time = 119.0112 seconds\n",
      "beta=0.988 sigma=1.111 gamma=4.153 mu=6.580 r_a=0.005 xi=0.011 \n"
     ]
    },
    {
     "name": "stderr",
     "output_type": "stream",
     "text": [
      "c:\\Design_retirement\\estimation_fct.py:118: RuntimeWarning: Mean of empty slice\n",
      "  avg_h_by_age = np.nanmean(np.where(sim_data.ex == 1, sim_data.h, np.nan), axis=0)[:40] # Length 40\n"
     ]
    },
    {
     "name": "stdout",
     "output_type": "stream",
     "text": [
      "Error = 4.88, Time = 131.2922 seconds\n",
      "beta=0.988 sigma=1.087 gamma=4.169 mu=6.318 r_a=0.005 xi=0.012 \n"
     ]
    },
    {
     "name": "stderr",
     "output_type": "stream",
     "text": [
      "c:\\Design_retirement\\estimation_fct.py:118: RuntimeWarning: Mean of empty slice\n",
      "  avg_h_by_age = np.nanmean(np.where(sim_data.ex == 1, sim_data.h, np.nan), axis=0)[:40] # Length 40\n"
     ]
    },
    {
     "name": "stdout",
     "output_type": "stream",
     "text": [
      "Error = 4.92, Time = 118.8635 seconds\n",
      "beta=0.988 sigma=1.109 gamma=4.184 mu=6.582 r_a=0.005 xi=0.011 \n"
     ]
    },
    {
     "name": "stderr",
     "output_type": "stream",
     "text": [
      "c:\\Design_retirement\\estimation_fct.py:118: RuntimeWarning: Mean of empty slice\n",
      "  avg_h_by_age = np.nanmean(np.where(sim_data.ex == 1, sim_data.h, np.nan), axis=0)[:40] # Length 40\n"
     ]
    },
    {
     "name": "stdout",
     "output_type": "stream",
     "text": [
      "Error = 4.84, Time = 127.2609 seconds\n",
      "beta=0.990 sigma=1.122 gamma=4.158 mu=6.522 r_a=0.005 xi=0.011 \n"
     ]
    },
    {
     "name": "stderr",
     "output_type": "stream",
     "text": [
      "c:\\Design_retirement\\estimation_fct.py:118: RuntimeWarning: Mean of empty slice\n",
      "  avg_h_by_age = np.nanmean(np.where(sim_data.ex == 1, sim_data.h, np.nan), axis=0)[:40] # Length 40\n"
     ]
    },
    {
     "name": "stdout",
     "output_type": "stream",
     "text": [
      "Error = 4.85, Time = 138.1806 seconds\n",
      "beta=0.989 sigma=1.103 gamma=4.203 mu=6.419 r_a=0.005 xi=0.012 \n"
     ]
    },
    {
     "name": "stderr",
     "output_type": "stream",
     "text": [
      "c:\\Design_retirement\\estimation_fct.py:118: RuntimeWarning: Mean of empty slice\n",
      "  avg_h_by_age = np.nanmean(np.where(sim_data.ex == 1, sim_data.h, np.nan), axis=0)[:40] # Length 40\n"
     ]
    },
    {
     "name": "stdout",
     "output_type": "stream",
     "text": [
      "Error = 4.63, Time = 126.7156 seconds\n",
      "beta=0.989 sigma=1.099 gamma=4.229 mu=6.338 r_a=0.005 xi=0.012 \n"
     ]
    },
    {
     "name": "stderr",
     "output_type": "stream",
     "text": [
      "c:\\Design_retirement\\estimation_fct.py:118: RuntimeWarning: Mean of empty slice\n",
      "  avg_h_by_age = np.nanmean(np.where(sim_data.ex == 1, sim_data.h, np.nan), axis=0)[:40] # Length 40\n"
     ]
    },
    {
     "name": "stdout",
     "output_type": "stream",
     "text": [
      "Error = 4.68, Time = 137.0224 seconds\n",
      "beta=0.992 sigma=1.119 gamma=4.155 mu=6.520 r_a=0.005 xi=0.011 \n"
     ]
    },
    {
     "name": "stderr",
     "output_type": "stream",
     "text": [
      "c:\\Design_retirement\\estimation_fct.py:118: RuntimeWarning: Mean of empty slice\n",
      "  avg_h_by_age = np.nanmean(np.where(sim_data.ex == 1, sim_data.h, np.nan), axis=0)[:40] # Length 40\n"
     ]
    },
    {
     "name": "stdout",
     "output_type": "stream",
     "text": [
      "Error = 4.90, Time = 131.1158 seconds\n",
      "beta=0.988 sigma=1.102 gamma=4.190 mu=6.478 r_a=0.005 xi=0.012 \n"
     ]
    },
    {
     "name": "stderr",
     "output_type": "stream",
     "text": [
      "c:\\Design_retirement\\estimation_fct.py:118: RuntimeWarning: Mean of empty slice\n",
      "  avg_h_by_age = np.nanmean(np.where(sim_data.ex == 1, sim_data.h, np.nan), axis=0)[:40] # Length 40\n"
     ]
    },
    {
     "name": "stdout",
     "output_type": "stream",
     "text": [
      "Error = 4.70, Time = 135.6785 seconds\n",
      "beta=0.987 sigma=1.088 gamma=4.209 mu=6.446 r_a=0.005 xi=0.012 \n"
     ]
    },
    {
     "name": "stderr",
     "output_type": "stream",
     "text": [
      "c:\\Design_retirement\\estimation_fct.py:118: RuntimeWarning: Mean of empty slice\n",
      "  avg_h_by_age = np.nanmean(np.where(sim_data.ex == 1, sim_data.h, np.nan), axis=0)[:40] # Length 40\n"
     ]
    },
    {
     "name": "stdout",
     "output_type": "stream",
     "text": [
      "Error = 4.89, Time = 122.8010 seconds\n",
      "beta=0.989 sigma=1.113 gamma=4.171 mu=6.503 r_a=0.005 xi=0.011 \n"
     ]
    },
    {
     "name": "stderr",
     "output_type": "stream",
     "text": [
      "c:\\Design_retirement\\estimation_fct.py:118: RuntimeWarning: Mean of empty slice\n",
      "  avg_h_by_age = np.nanmean(np.where(sim_data.ex == 1, sim_data.h, np.nan), axis=0)[:40] # Length 40\n"
     ]
    },
    {
     "name": "stdout",
     "output_type": "stream",
     "text": [
      "Error = 4.86, Time = 138.3073 seconds\n",
      "beta=0.989 sigma=1.103 gamma=4.195 mu=6.425 r_a=0.005 xi=0.012 \n"
     ]
    },
    {
     "name": "stderr",
     "output_type": "stream",
     "text": [
      "c:\\Design_retirement\\estimation_fct.py:118: RuntimeWarning: Mean of empty slice\n",
      "  avg_h_by_age = np.nanmean(np.where(sim_data.ex == 1, sim_data.h, np.nan), axis=0)[:40] # Length 40\n"
     ]
    },
    {
     "name": "stdout",
     "output_type": "stream",
     "text": [
      "Error = 4.64, Time = 122.2727 seconds\n",
      "beta=0.988 sigma=1.103 gamma=4.197 mu=6.448 r_a=0.005 xi=0.012 \n"
     ]
    },
    {
     "name": "stderr",
     "output_type": "stream",
     "text": [
      "c:\\Design_retirement\\estimation_fct.py:118: RuntimeWarning: Mean of empty slice\n",
      "  avg_h_by_age = np.nanmean(np.where(sim_data.ex == 1, sim_data.h, np.nan), axis=0)[:40] # Length 40\n"
     ]
    },
    {
     "name": "stdout",
     "output_type": "stream",
     "text": [
      "Error = 4.66, Time = 116.4708 seconds\n",
      "beta=0.989 sigma=1.098 gamma=4.189 mu=6.377 r_a=0.005 xi=0.012 \n"
     ]
    },
    {
     "name": "stderr",
     "output_type": "stream",
     "text": [
      "c:\\Design_retirement\\estimation_fct.py:118: RuntimeWarning: Mean of empty slice\n",
      "  avg_h_by_age = np.nanmean(np.where(sim_data.ex == 1, sim_data.h, np.nan), axis=0)[:40] # Length 40\n"
     ]
    },
    {
     "name": "stdout",
     "output_type": "stream",
     "text": [
      "Error = 4.69, Time = 109.8197 seconds\n",
      "beta=0.988 sigma=1.106 gamma=4.194 mu=6.501 r_a=0.005 xi=0.012 \n"
     ]
    },
    {
     "name": "stderr",
     "output_type": "stream",
     "text": [
      "c:\\Design_retirement\\estimation_fct.py:118: RuntimeWarning: Mean of empty slice\n",
      "  avg_h_by_age = np.nanmean(np.where(sim_data.ex == 1, sim_data.h, np.nan), axis=0)[:40] # Length 40\n"
     ]
    },
    {
     "name": "stdout",
     "output_type": "stream",
     "text": [
      "Error = 4.76, Time = 131.5140 seconds\n",
      "beta=0.989 sigma=1.110 gamma=4.184 mu=6.540 r_a=0.005 xi=0.011 \n"
     ]
    },
    {
     "name": "stderr",
     "output_type": "stream",
     "text": [
      "c:\\Design_retirement\\estimation_fct.py:118: RuntimeWarning: Mean of empty slice\n",
      "  avg_h_by_age = np.nanmean(np.where(sim_data.ex == 1, sim_data.h, np.nan), axis=0)[:40] # Length 40\n"
     ]
    },
    {
     "name": "stdout",
     "output_type": "stream",
     "text": [
      "Error = 4.81, Time = 138.1944 seconds\n",
      "beta=0.989 sigma=1.112 gamma=4.181 mu=6.471 r_a=0.005 xi=0.011 \n"
     ]
    },
    {
     "name": "stderr",
     "output_type": "stream",
     "text": [
      "c:\\Design_retirement\\estimation_fct.py:118: RuntimeWarning: Mean of empty slice\n",
      "  avg_h_by_age = np.nanmean(np.where(sim_data.ex == 1, sim_data.h, np.nan), axis=0)[:40] # Length 40\n"
     ]
    },
    {
     "name": "stdout",
     "output_type": "stream",
     "text": [
      "Error = 4.80, Time = 151.0471 seconds\n",
      "beta=0.988 sigma=1.099 gamma=4.203 mu=6.340 r_a=0.005 xi=0.012 \n"
     ]
    },
    {
     "name": "stderr",
     "output_type": "stream",
     "text": [
      "c:\\Design_retirement\\estimation_fct.py:118: RuntimeWarning: Mean of empty slice\n",
      "  avg_h_by_age = np.nanmean(np.where(sim_data.ex == 1, sim_data.h, np.nan), axis=0)[:40] # Length 40\n"
     ]
    },
    {
     "name": "stdout",
     "output_type": "stream",
     "text": [
      "Error = 4.69, Time = 117.5270 seconds\n",
      "beta=0.988 sigma=1.092 gamma=4.213 mu=6.366 r_a=0.005 xi=0.012 \n"
     ]
    },
    {
     "name": "stderr",
     "output_type": "stream",
     "text": [
      "c:\\Design_retirement\\estimation_fct.py:118: RuntimeWarning: Mean of empty slice\n",
      "  avg_h_by_age = np.nanmean(np.where(sim_data.ex == 1, sim_data.h, np.nan), axis=0)[:40] # Length 40\n"
     ]
    },
    {
     "name": "stdout",
     "output_type": "stream",
     "text": [
      "Error = 4.81, Time = 120.8931 seconds\n",
      "beta=0.989 sigma=1.107 gamma=4.189 mu=6.444 r_a=0.005 xi=0.012 \n"
     ]
    },
    {
     "name": "stderr",
     "output_type": "stream",
     "text": [
      "c:\\Design_retirement\\estimation_fct.py:118: RuntimeWarning: Mean of empty slice\n",
      "  avg_h_by_age = np.nanmean(np.where(sim_data.ex == 1, sim_data.h, np.nan), axis=0)[:40] # Length 40\n"
     ]
    },
    {
     "name": "stdout",
     "output_type": "stream",
     "text": [
      "Error = 4.74, Time = 137.6241 seconds\n",
      "beta=0.989 sigma=1.098 gamma=4.198 mu=6.317 r_a=0.005 xi=0.012 \n"
     ]
    },
    {
     "name": "stderr",
     "output_type": "stream",
     "text": [
      "c:\\Design_retirement\\estimation_fct.py:118: RuntimeWarning: Mean of empty slice\n",
      "  avg_h_by_age = np.nanmean(np.where(sim_data.ex == 1, sim_data.h, np.nan), axis=0)[:40] # Length 40\n"
     ]
    },
    {
     "name": "stdout",
     "output_type": "stream",
     "text": [
      "Error = 4.69, Time = 127.1742 seconds\n",
      "beta=0.988 sigma=1.094 gamma=4.206 mu=6.331 r_a=0.005 xi=0.012 \n"
     ]
    },
    {
     "name": "stderr",
     "output_type": "stream",
     "text": [
      "c:\\Design_retirement\\estimation_fct.py:118: RuntimeWarning: Mean of empty slice\n",
      "  avg_h_by_age = np.nanmean(np.where(sim_data.ex == 1, sim_data.h, np.nan), axis=0)[:40] # Length 40\n"
     ]
    },
    {
     "name": "stdout",
     "output_type": "stream",
     "text": [
      "Error = 4.76, Time = 110.8469 seconds\n",
      "beta=0.989 sigma=1.104 gamma=4.193 mu=6.416 r_a=0.005 xi=0.012 \n"
     ]
    },
    {
     "name": "stderr",
     "output_type": "stream",
     "text": [
      "c:\\Design_retirement\\estimation_fct.py:118: RuntimeWarning: Mean of empty slice\n",
      "  avg_h_by_age = np.nanmean(np.where(sim_data.ex == 1, sim_data.h, np.nan), axis=0)[:40] # Length 40\n"
     ]
    },
    {
     "name": "stdout",
     "output_type": "stream",
     "text": [
      "Error = 4.62, Time = 140.3558 seconds\n",
      "beta=0.989 sigma=1.105 gamma=4.189 mu=6.461 r_a=0.005 xi=0.012 \n"
     ]
    },
    {
     "name": "stderr",
     "output_type": "stream",
     "text": [
      "c:\\Design_retirement\\estimation_fct.py:118: RuntimeWarning: Mean of empty slice\n",
      "  avg_h_by_age = np.nanmean(np.where(sim_data.ex == 1, sim_data.h, np.nan), axis=0)[:40] # Length 40\n"
     ]
    },
    {
     "name": "stdout",
     "output_type": "stream",
     "text": [
      "Error = 4.61, Time = 137.9607 seconds\n",
      "beta=0.989 sigma=1.108 gamma=4.182 mu=6.521 r_a=0.005 xi=0.011 \n"
     ]
    },
    {
     "name": "stderr",
     "output_type": "stream",
     "text": [
      "c:\\Design_retirement\\estimation_fct.py:118: RuntimeWarning: Mean of empty slice\n",
      "  avg_h_by_age = np.nanmean(np.where(sim_data.ex == 1, sim_data.h, np.nan), axis=0)[:40] # Length 40\n"
     ]
    },
    {
     "name": "stdout",
     "output_type": "stream",
     "text": [
      "Error = 4.73, Time = 128.5590 seconds\n",
      "beta=0.989 sigma=1.107 gamma=4.191 mu=6.531 r_a=0.005 xi=0.011 \n"
     ]
    },
    {
     "name": "stderr",
     "output_type": "stream",
     "text": [
      "c:\\Design_retirement\\estimation_fct.py:118: RuntimeWarning: Mean of empty slice\n",
      "  avg_h_by_age = np.nanmean(np.where(sim_data.ex == 1, sim_data.h, np.nan), axis=0)[:40] # Length 40\n"
     ]
    },
    {
     "name": "stdout",
     "output_type": "stream",
     "text": [
      "Error = 4.75, Time = 131.4429 seconds\n",
      "beta=0.989 sigma=1.101 gamma=4.196 mu=6.371 r_a=0.005 xi=0.012 \n"
     ]
    },
    {
     "name": "stderr",
     "output_type": "stream",
     "text": [
      "c:\\Design_retirement\\estimation_fct.py:118: RuntimeWarning: Mean of empty slice\n",
      "  avg_h_by_age = np.nanmean(np.where(sim_data.ex == 1, sim_data.h, np.nan), axis=0)[:40] # Length 40\n"
     ]
    },
    {
     "name": "stdout",
     "output_type": "stream",
     "text": [
      "Error = 4.66, Time = 169.7269 seconds\n",
      "beta=0.988 sigma=1.108 gamma=4.202 mu=6.470 r_a=0.005 xi=0.012 \n"
     ]
    },
    {
     "name": "stderr",
     "output_type": "stream",
     "text": [
      "c:\\Design_retirement\\estimation_fct.py:118: RuntimeWarning: Mean of empty slice\n",
      "  avg_h_by_age = np.nanmean(np.where(sim_data.ex == 1, sim_data.h, np.nan), axis=0)[:40] # Length 40\n"
     ]
    },
    {
     "name": "stdout",
     "output_type": "stream",
     "text": [
      "Error = 4.75, Time = 146.4655 seconds\n",
      "beta=0.989 sigma=1.101 gamma=4.192 mu=6.400 r_a=0.005 xi=0.012 \n"
     ]
    },
    {
     "name": "stderr",
     "output_type": "stream",
     "text": [
      "c:\\Design_retirement\\estimation_fct.py:118: RuntimeWarning: Mean of empty slice\n",
      "  avg_h_by_age = np.nanmean(np.where(sim_data.ex == 1, sim_data.h, np.nan), axis=0)[:40] # Length 40\n"
     ]
    },
    {
     "name": "stdout",
     "output_type": "stream",
     "text": [
      "Error = 4.66, Time = 126.1005 seconds\n",
      "beta=0.988 sigma=1.105 gamma=4.199 mu=6.446 r_a=0.005 xi=0.012 \n"
     ]
    },
    {
     "name": "stderr",
     "output_type": "stream",
     "text": [
      "c:\\Design_retirement\\estimation_fct.py:118: RuntimeWarning: Mean of empty slice\n",
      "  avg_h_by_age = np.nanmean(np.where(sim_data.ex == 1, sim_data.h, np.nan), axis=0)[:40] # Length 40\n"
     ]
    },
    {
     "name": "stdout",
     "output_type": "stream",
     "text": [
      "Error = 4.63, Time = 148.8750 seconds\n",
      "beta=0.989 sigma=1.104 gamma=4.195 mu=6.398 r_a=0.005 xi=0.012 \n"
     ]
    },
    {
     "name": "stderr",
     "output_type": "stream",
     "text": [
      "c:\\Design_retirement\\estimation_fct.py:118: RuntimeWarning: Mean of empty slice\n",
      "  avg_h_by_age = np.nanmean(np.where(sim_data.ex == 1, sim_data.h, np.nan), axis=0)[:40] # Length 40\n"
     ]
    },
    {
     "name": "stdout",
     "output_type": "stream",
     "text": [
      "Error = 4.61, Time = 146.0958 seconds\n",
      "beta=0.990 sigma=1.105 gamma=4.194 mu=6.373 r_a=0.005 xi=0.012 \n"
     ]
    },
    {
     "name": "stderr",
     "output_type": "stream",
     "text": [
      "c:\\Design_retirement\\estimation_fct.py:118: RuntimeWarning: Mean of empty slice\n",
      "  avg_h_by_age = np.nanmean(np.where(sim_data.ex == 1, sim_data.h, np.nan), axis=0)[:40] # Length 40\n"
     ]
    },
    {
     "name": "stdout",
     "output_type": "stream",
     "text": [
      "Error = 4.59, Time = 129.5887 seconds\n",
      "beta=0.989 sigma=1.108 gamma=4.195 mu=6.476 r_a=0.005 xi=0.012 \n"
     ]
    },
    {
     "name": "stderr",
     "output_type": "stream",
     "text": [
      "c:\\Design_retirement\\estimation_fct.py:118: RuntimeWarning: Mean of empty slice\n",
      "  avg_h_by_age = np.nanmean(np.where(sim_data.ex == 1, sim_data.h, np.nan), axis=0)[:40] # Length 40\n"
     ]
    },
    {
     "name": "stdout",
     "output_type": "stream",
     "text": [
      "Error = 4.73, Time = 134.4528 seconds\n",
      "beta=0.989 sigma=1.102 gamma=4.196 mu=6.397 r_a=0.005 xi=0.012 \n"
     ]
    },
    {
     "name": "stderr",
     "output_type": "stream",
     "text": [
      "Traceback (most recent call last):\n",
      "  File \"c:\\Design_retirement\\s_speciale\\Lib\\site-packages\\numba\\core\\serialize.py\", line 30, in _numba_unpickle\n",
      "    def _numba_unpickle(address, bytedata, hashed):\n",
      "    \n",
      "KeyboardInterrupt\n",
      "\n",
      "The above exception was the direct cause of the following exception:\n",
      "\n",
      "SystemError: <function _numba_unpickle at 0x00000219BF38B2E0> returned a result with an exception set\n",
      "\n",
      "The above exception was the direct cause of the following exception:\n",
      "\n",
      "SystemError: <function _numba_unpickle at 0x00000219BF38B2E0> returned a result with an exception set\n",
      "\n",
      "The above exception was the direct cause of the following exception:\n",
      "\n",
      "SystemError: <function _numba_unpickle at 0x00000219BF38B2E0> returned a result with an exception set\n",
      "\n",
      "The above exception was the direct cause of the following exception:\n",
      "\n",
      "SystemError: <function _numba_unpickle at 0x00000219BF38B2E0> returned a result with an exception set\n",
      "\n",
      "The above exception was the direct cause of the following exception:\n",
      "\n",
      "Traceback (most recent call last):\n",
      "  File \"c:\\Design_retirement\\model.py\", line 285, in solve\n",
      "    sol.c[:, :, :, :, :, :], sol.h[:, :, :, :, :, :], sol.ex[:, :, :, :, :, :], sol.V[:, :, :, :, :, :], sol.a[:, :, :, :, :, :] = main_solver_loop(par, sol, do_print)\n",
      "                                                                                                                                   ~~~~~~~~~~~~~~~~^^^^^^^^^^^^^^^^^^^^\n",
      "SystemError: CPUDispatcher(<function main_solver_loop at 0x00000219C206C360>) returned a result with an exception set\n"
     ]
    },
    {
     "ename": "SystemError",
     "evalue": "CPUDispatcher(<function main_solver_loop at 0x00000219C206C360>) returned a result with an exception set",
     "output_type": "error",
     "traceback": [
      "\u001b[1;31m---------------------------------------------------------------------------\u001b[0m",
      "\u001b[1;31mKeyboardInterrupt\u001b[0m                         Traceback (most recent call last)",
      "File \u001b[1;32mc:\\Design_retirement\\s_speciale\\Lib\\site-packages\\numba\\core\\serialize.py:30\u001b[0m, in \u001b[0;36m_numba_unpickle\u001b[1;34m(address, bytedata, hashed)\u001b[0m\n\u001b[0;32m     27\u001b[0m _unpickled_memo \u001b[38;5;241m=\u001b[39m {}\n\u001b[1;32m---> 30\u001b[0m \u001b[38;5;28;01mdef\u001b[39;00m\u001b[38;5;250m \u001b[39m\u001b[38;5;21m_numba_unpickle\u001b[39m(address, bytedata, hashed):\n\u001b[0;32m     31\u001b[0m \u001b[38;5;250m    \u001b[39m\u001b[38;5;124;03m\"\"\"Used by `numba_unpickle` from _helperlib.c\u001b[39;00m\n\u001b[0;32m     32\u001b[0m \n\u001b[0;32m     33\u001b[0m \u001b[38;5;124;03m    Parameters\u001b[39;00m\n\u001b[1;32m   (...)\u001b[0m\n\u001b[0;32m     42\u001b[0m \u001b[38;5;124;03m        unpickled object\u001b[39;00m\n\u001b[0;32m     43\u001b[0m \u001b[38;5;124;03m    \"\"\"\u001b[39;00m\n",
      "\u001b[1;31mKeyboardInterrupt\u001b[0m: ",
      "\nThe above exception was the direct cause of the following exception:\n",
      "\u001b[1;31mSystemError\u001b[0m                               Traceback (most recent call last)",
      "\u001b[1;31mSystemError\u001b[0m: <function _numba_unpickle at 0x00000219BF38B2E0> returned a result with an exception set",
      "\nThe above exception was the direct cause of the following exception:\n",
      "\u001b[1;31mSystemError\u001b[0m                               Traceback (most recent call last)",
      "\u001b[1;31mSystemError\u001b[0m: <function _numba_unpickle at 0x00000219BF38B2E0> returned a result with an exception set",
      "\nThe above exception was the direct cause of the following exception:\n",
      "\u001b[1;31mSystemError\u001b[0m                               Traceback (most recent call last)",
      "\u001b[1;31mSystemError\u001b[0m: <function _numba_unpickle at 0x00000219BF38B2E0> returned a result with an exception set",
      "\nThe above exception was the direct cause of the following exception:\n",
      "\u001b[1;31mSystemError\u001b[0m                               Traceback (most recent call last)",
      "\u001b[1;31mSystemError\u001b[0m: <function _numba_unpickle at 0x00000219BF38B2E0> returned a result with an exception set",
      "\nThe above exception was the direct cause of the following exception:\n",
      "\u001b[1;31mSystemError\u001b[0m                               Traceback (most recent call last)",
      "Cell \u001b[1;32mIn[5], line 4\u001b[0m\n\u001b[0;32m      1\u001b[0m \u001b[38;5;66;03m# Do SMM\u001b[39;00m\n\u001b[0;32m      2\u001b[0m objective \u001b[38;5;241m=\u001b[39m \u001b[38;5;28;01mlambda\u001b[39;00m theta: obj_func(theta, theta_names, mean, weights, model, orig_bounds, do_print\u001b[38;5;241m=\u001b[39m\u001b[38;5;28;01mTrue\u001b[39;00m)\n\u001b[1;32m----> 4\u001b[0m res \u001b[38;5;241m=\u001b[39m \u001b[43mminimize\u001b[49m\u001b[43m(\u001b[49m\n\u001b[0;32m      5\u001b[0m \u001b[43m    \u001b[49m\u001b[43mobjective\u001b[49m\u001b[43m,\u001b[49m\u001b[43m \u001b[49m\n\u001b[0;32m      6\u001b[0m \u001b[43m    \u001b[49m\u001b[43mtheta_init_scaled\u001b[49m\u001b[43m,\u001b[49m\n\u001b[0;32m      7\u001b[0m \u001b[43m    \u001b[49m\u001b[43mmethod\u001b[49m\u001b[38;5;241;43m=\u001b[39;49m\u001b[38;5;124;43m'\u001b[39;49m\u001b[38;5;124;43mnelder-mead\u001b[39;49m\u001b[38;5;124;43m'\u001b[39;49m\u001b[43m,\u001b[49m\n\u001b[0;32m      8\u001b[0m \u001b[43m    \u001b[49m\u001b[43mbounds\u001b[49m\u001b[38;5;241;43m=\u001b[39;49m\u001b[43m[\u001b[49m\u001b[43m(\u001b[49m\u001b[38;5;241;43m0\u001b[39;49m\u001b[43m,\u001b[49m\u001b[38;5;241;43m1\u001b[39;49m\u001b[43m)\u001b[49m\u001b[43m]\u001b[49m\u001b[43m \u001b[49m\u001b[38;5;241;43m*\u001b[39;49m\u001b[43m \u001b[49m\u001b[38;5;28;43mlen\u001b[39;49m\u001b[43m(\u001b[49m\u001b[43mtheta_init_scaled\u001b[49m\u001b[43m)\u001b[49m\u001b[43m,\u001b[49m\n\u001b[0;32m      9\u001b[0m \u001b[43m    \u001b[49m\u001b[43mtol\u001b[49m\u001b[38;5;241;43m=\u001b[39;49m\u001b[38;5;241;43m1e-6\u001b[39;49m\u001b[43m,\u001b[49m\n\u001b[0;32m     10\u001b[0m \u001b[43m    \u001b[49m\u001b[43moptions\u001b[49m\u001b[38;5;241;43m=\u001b[39;49m\u001b[43m{\u001b[49m\u001b[38;5;124;43m\"\u001b[39;49m\u001b[38;5;124;43mmaxiter\u001b[39;49m\u001b[38;5;124;43m\"\u001b[39;49m\u001b[43m:\u001b[49m\u001b[38;5;241;43m100\u001b[39;49m\u001b[43m}\u001b[49m\n\u001b[0;32m     11\u001b[0m \u001b[43m)\u001b[49m\n",
      "File \u001b[1;32mc:\\Design_retirement\\s_speciale\\Lib\\site-packages\\scipy\\optimize\\_minimize.py:726\u001b[0m, in \u001b[0;36mminimize\u001b[1;34m(fun, x0, args, method, jac, hess, hessp, bounds, constraints, tol, callback, options)\u001b[0m\n\u001b[0;32m    723\u001b[0m callback \u001b[38;5;241m=\u001b[39m _wrap_callback(callback, meth)\n\u001b[0;32m    725\u001b[0m \u001b[38;5;28;01mif\u001b[39;00m meth \u001b[38;5;241m==\u001b[39m \u001b[38;5;124m'\u001b[39m\u001b[38;5;124mnelder-mead\u001b[39m\u001b[38;5;124m'\u001b[39m:\n\u001b[1;32m--> 726\u001b[0m     res \u001b[38;5;241m=\u001b[39m \u001b[43m_minimize_neldermead\u001b[49m\u001b[43m(\u001b[49m\u001b[43mfun\u001b[49m\u001b[43m,\u001b[49m\u001b[43m \u001b[49m\u001b[43mx0\u001b[49m\u001b[43m,\u001b[49m\u001b[43m \u001b[49m\u001b[43margs\u001b[49m\u001b[43m,\u001b[49m\u001b[43m \u001b[49m\u001b[43mcallback\u001b[49m\u001b[43m,\u001b[49m\u001b[43m \u001b[49m\u001b[43mbounds\u001b[49m\u001b[38;5;241;43m=\u001b[39;49m\u001b[43mbounds\u001b[49m\u001b[43m,\u001b[49m\n\u001b[0;32m    727\u001b[0m \u001b[43m                               \u001b[49m\u001b[38;5;241;43m*\u001b[39;49m\u001b[38;5;241;43m*\u001b[39;49m\u001b[43moptions\u001b[49m\u001b[43m)\u001b[49m\n\u001b[0;32m    728\u001b[0m \u001b[38;5;28;01melif\u001b[39;00m meth \u001b[38;5;241m==\u001b[39m \u001b[38;5;124m'\u001b[39m\u001b[38;5;124mpowell\u001b[39m\u001b[38;5;124m'\u001b[39m:\n\u001b[0;32m    729\u001b[0m     res \u001b[38;5;241m=\u001b[39m _minimize_powell(fun, x0, args, callback, bounds, \u001b[38;5;241m*\u001b[39m\u001b[38;5;241m*\u001b[39moptions)\n",
      "File \u001b[1;32mc:\\Design_retirement\\s_speciale\\Lib\\site-packages\\scipy\\optimize\\_optimize.py:895\u001b[0m, in \u001b[0;36m_minimize_neldermead\u001b[1;34m(func, x0, args, callback, maxiter, maxfev, disp, return_all, initial_simplex, xatol, fatol, adaptive, bounds, **unknown_options)\u001b[0m\n\u001b[0;32m    893\u001b[0m \u001b[38;5;28;01mif\u001b[39;00m bounds \u001b[38;5;129;01mis\u001b[39;00m \u001b[38;5;129;01mnot\u001b[39;00m \u001b[38;5;28;01mNone\u001b[39;00m:\n\u001b[0;32m    894\u001b[0m     xcc \u001b[38;5;241m=\u001b[39m np\u001b[38;5;241m.\u001b[39mclip(xcc, lower_bound, upper_bound)\n\u001b[1;32m--> 895\u001b[0m fxcc \u001b[38;5;241m=\u001b[39m \u001b[43mfunc\u001b[49m\u001b[43m(\u001b[49m\u001b[43mxcc\u001b[49m\u001b[43m)\u001b[49m\n\u001b[0;32m    897\u001b[0m \u001b[38;5;28;01mif\u001b[39;00m fxcc \u001b[38;5;241m<\u001b[39m fsim[\u001b[38;5;241m-\u001b[39m\u001b[38;5;241m1\u001b[39m]:\n\u001b[0;32m    898\u001b[0m     sim[\u001b[38;5;241m-\u001b[39m\u001b[38;5;241m1\u001b[39m] \u001b[38;5;241m=\u001b[39m xcc\n",
      "File \u001b[1;32mc:\\Design_retirement\\s_speciale\\Lib\\site-packages\\scipy\\optimize\\_optimize.py:542\u001b[0m, in \u001b[0;36m_wrap_scalar_function_maxfun_validation.<locals>.function_wrapper\u001b[1;34m(x, *wrapper_args)\u001b[0m\n\u001b[0;32m    540\u001b[0m ncalls[\u001b[38;5;241m0\u001b[39m] \u001b[38;5;241m+\u001b[39m\u001b[38;5;241m=\u001b[39m \u001b[38;5;241m1\u001b[39m\n\u001b[0;32m    541\u001b[0m \u001b[38;5;66;03m# A copy of x is sent to the user function (gh13740)\u001b[39;00m\n\u001b[1;32m--> 542\u001b[0m fx \u001b[38;5;241m=\u001b[39m \u001b[43mfunction\u001b[49m\u001b[43m(\u001b[49m\u001b[43mnp\u001b[49m\u001b[38;5;241;43m.\u001b[39;49m\u001b[43mcopy\u001b[49m\u001b[43m(\u001b[49m\u001b[43mx\u001b[49m\u001b[43m)\u001b[49m\u001b[43m,\u001b[49m\u001b[43m \u001b[49m\u001b[38;5;241;43m*\u001b[39;49m\u001b[43m(\u001b[49m\u001b[43mwrapper_args\u001b[49m\u001b[43m \u001b[49m\u001b[38;5;241;43m+\u001b[39;49m\u001b[43m \u001b[49m\u001b[43margs\u001b[49m\u001b[43m)\u001b[49m\u001b[43m)\u001b[49m\n\u001b[0;32m    543\u001b[0m \u001b[38;5;66;03m# Ideally, we'd like to a have a true scalar returned from f(x). For\u001b[39;00m\n\u001b[0;32m    544\u001b[0m \u001b[38;5;66;03m# backwards-compatibility, also allow np.array([1.3]),\u001b[39;00m\n\u001b[0;32m    545\u001b[0m \u001b[38;5;66;03m# np.array([[1.3]]) etc.\u001b[39;00m\n\u001b[0;32m    546\u001b[0m \u001b[38;5;28;01mif\u001b[39;00m \u001b[38;5;129;01mnot\u001b[39;00m np\u001b[38;5;241m.\u001b[39misscalar(fx):\n",
      "Cell \u001b[1;32mIn[5], line 2\u001b[0m, in \u001b[0;36m<lambda>\u001b[1;34m(theta)\u001b[0m\n\u001b[0;32m      1\u001b[0m \u001b[38;5;66;03m# Do SMM\u001b[39;00m\n\u001b[1;32m----> 2\u001b[0m objective \u001b[38;5;241m=\u001b[39m \u001b[38;5;28;01mlambda\u001b[39;00m theta: \u001b[43mobj_func\u001b[49m\u001b[43m(\u001b[49m\u001b[43mtheta\u001b[49m\u001b[43m,\u001b[49m\u001b[43m \u001b[49m\u001b[43mtheta_names\u001b[49m\u001b[43m,\u001b[49m\u001b[43m \u001b[49m\u001b[43mmean\u001b[49m\u001b[43m,\u001b[49m\u001b[43m \u001b[49m\u001b[43mweights\u001b[49m\u001b[43m,\u001b[49m\u001b[43m \u001b[49m\u001b[43mmodel\u001b[49m\u001b[43m,\u001b[49m\u001b[43m \u001b[49m\u001b[43morig_bounds\u001b[49m\u001b[43m,\u001b[49m\u001b[43m \u001b[49m\u001b[43mdo_print\u001b[49m\u001b[38;5;241;43m=\u001b[39;49m\u001b[38;5;28;43;01mTrue\u001b[39;49;00m\u001b[43m)\u001b[49m\n\u001b[0;32m      4\u001b[0m res \u001b[38;5;241m=\u001b[39m minimize(\n\u001b[0;32m      5\u001b[0m     objective, \n\u001b[0;32m      6\u001b[0m     theta_init_scaled,\n\u001b[1;32m   (...)\u001b[0m\n\u001b[0;32m     10\u001b[0m     options\u001b[38;5;241m=\u001b[39m{\u001b[38;5;124m\"\u001b[39m\u001b[38;5;124mmaxiter\u001b[39m\u001b[38;5;124m\"\u001b[39m:\u001b[38;5;241m100\u001b[39m}\n\u001b[0;32m     11\u001b[0m )\n",
      "File \u001b[1;32mc:\\Design_retirement\\estimation_fct.py:150\u001b[0m, in \u001b[0;36mobj_func\u001b[1;34m(scaled_theta, theta_names, mom_data, W, model, bounds, do_print)\u001b[0m\n\u001b[0;32m    147\u001b[0m     \u001b[38;5;28mprint\u001b[39m(print_str)\n\u001b[0;32m    149\u001b[0m \u001b[38;5;66;03m# Compute simulated moments\u001b[39;00m\n\u001b[1;32m--> 150\u001b[0m mom_sim \u001b[38;5;241m=\u001b[39m \u001b[43msimulate_moments\u001b[49m\u001b[43m(\u001b[49m\u001b[43mtheta\u001b[49m\u001b[43m,\u001b[49m\u001b[43m \u001b[49m\u001b[43mtheta_names\u001b[49m\u001b[43m,\u001b[49m\u001b[43m \u001b[49m\u001b[43mmodel\u001b[49m\u001b[43m)\u001b[49m\n\u001b[0;32m    152\u001b[0m \u001b[38;5;66;03m# Sum of squared errors over all 175 elements\u001b[39;00m\n\u001b[0;32m    153\u001b[0m obj \u001b[38;5;241m=\u001b[39m (mom_data \u001b[38;5;241m-\u001b[39m mom_sim)\u001b[38;5;241m.\u001b[39mT \u001b[38;5;241m@\u001b[39m W \u001b[38;5;241m@\u001b[39m (mom_data \u001b[38;5;241m-\u001b[39m mom_sim)\n",
      "File \u001b[1;32mc:\\Design_retirement\\estimation_fct.py:132\u001b[0m, in \u001b[0;36msimulate_moments\u001b[1;34m(theta, theta_names, model)\u001b[0m\n\u001b[0;32m    129\u001b[0m     \u001b[38;5;28msetattr\u001b[39m(model\u001b[38;5;241m.\u001b[39mpar, name, theta[i])\n\u001b[0;32m    131\u001b[0m \u001b[38;5;66;03m# 2. Solve and simulate the model\u001b[39;00m\n\u001b[1;32m--> 132\u001b[0m \u001b[43mmodel\u001b[49m\u001b[38;5;241;43m.\u001b[39;49m\u001b[43msolve\u001b[49m\u001b[43m(\u001b[49m\u001b[43m)\u001b[49m\n\u001b[0;32m    133\u001b[0m model\u001b[38;5;241m.\u001b[39msimulate()\n\u001b[0;32m    135\u001b[0m \u001b[38;5;66;03m# 3. Return the expanded vector of simulated moments\u001b[39;00m\n",
      "File \u001b[1;32mc:\\Design_retirement\\model.py:285\u001b[0m, in \u001b[0;36mModelClass.solve\u001b[1;34m(self, do_print)\u001b[0m\n\u001b[0;32m    282\u001b[0m par \u001b[38;5;241m=\u001b[39m model\u001b[38;5;241m.\u001b[39mpar\n\u001b[0;32m    283\u001b[0m sol \u001b[38;5;241m=\u001b[39m model\u001b[38;5;241m.\u001b[39msol\n\u001b[1;32m--> 285\u001b[0m sol\u001b[38;5;241m.\u001b[39mc[:, :, :, :, :, :], sol\u001b[38;5;241m.\u001b[39mh[:, :, :, :, :, :], sol\u001b[38;5;241m.\u001b[39mex[:, :, :, :, :, :], sol\u001b[38;5;241m.\u001b[39mV[:, :, :, :, :, :], sol\u001b[38;5;241m.\u001b[39ma[:, :, :, :, :, :] \u001b[38;5;241m=\u001b[39m \u001b[43mmain_solver_loop\u001b[49m\u001b[43m(\u001b[49m\u001b[43mpar\u001b[49m\u001b[43m,\u001b[49m\u001b[43m \u001b[49m\u001b[43msol\u001b[49m\u001b[43m,\u001b[49m\u001b[43m \u001b[49m\u001b[43mdo_print\u001b[49m\u001b[43m)\u001b[49m\n",
      "\u001b[1;31mSystemError\u001b[0m: CPUDispatcher(<function main_solver_loop at 0x00000219C206C360>) returned a result with an exception set"
     ]
    }
   ],
   "source": [
    "# Do SMM\n",
    "objective = lambda theta: obj_func(theta, theta_names, mean, weights, model, orig_bounds, do_print=True)\n",
    "\n",
    "res = minimize(\n",
    "    objective, \n",
    "    theta_init_scaled,\n",
    "    method='nelder-mead',\n",
    "    bounds=[(0,1)] * len(theta_init_scaled),\n",
    "    tol=1e-6,\n",
    "    options={\"maxiter\":100}\n",
    ")\n"
   ]
  },
  {
   "cell_type": "code",
   "execution_count": 5,
   "metadata": {},
   "outputs": [],
   "source": [
    "# Load the model with calibrated values\n",
    "theta_names = (\"beta\", \"sigma\", \"gamma\", \"mu\", \"r_a\", \"xi\")\n",
    "theta_final = np.array([0.990  , 1.105 , 4.194, 6.373, 0.005, 0.012])\n",
    "# theta_final = unscale_params(res.x, orig_bounds)\n",
    "# theta_final = np.array([0.961, 1.127, 2.645, 6.657, 0.009, 0.041])\n",
    "# theta_final = np.array([0.982, 1.060, 3.877, 7.814, 0.02, 0.009])\n",
    "\n",
    "for i, name in enumerate(theta_names):\n",
    "    setattr(model.par, name, theta_final[i])\n",
    "\n",
    "model.solve()\n",
    "model.simulate()"
   ]
  },
  {
   "cell_type": "code",
   "execution_count": 6,
   "metadata": {},
   "outputs": [
    {
     "name": "stderr",
     "output_type": "stream",
     "text": [
      "C:\\Users\\B224264\\AppData\\Local\\Temp\\ipykernel_29360\\2323609480.py:3: RuntimeWarning: Mean of empty slice\n",
      "  'hours': [np.nanmean(np.where(model.sim.ex == 1, model.sim.h, np.nan),axis=0)[:40], moments['hours']],\n"
     ]
    },
    {
     "data": {
      "image/png": "[encoded data removed]",
      "text/plain": [
       "<Figure size 1000x500 with 1 Axes>"
      ]
     },
     "metadata": {},
     "output_type": "display_data"
    },
    {
     "data": {
      "image/png": "[encoded data removed]",
      "text/plain": [
       "<Figure size 1000x500 with 1 Axes>"
      ]
     },
     "metadata": {},
     "output_type": "display_data"
    },
    {
     "data": {
      "image/png": "[encoded data removed]",
      "text/plain": [
       "<Figure size 1000x500 with 1 Axes>"
      ]
     },
     "metadata": {},
     "output_type": "display_data"
    },
    {
     "data": {
      "image/png": "[encoded data removed]",
      "text/plain": [
       "<Figure size 1000x500 with 1 Axes>"
      ]
     },
     "metadata": {},
     "output_type": "display_data"
    }
   ],
   "source": [
    "# plot the graph with calibrated values \n",
    "a_dict = {\n",
    "    'hours': [np.nanmean(np.where(model.sim.ex == 1, model.sim.h, np.nan),axis=0)[:40], moments['hours']],\n",
    "    'extensive': [np.mean(model.sim.ex, axis=0)[:40], moments['extensive']],\n",
    "    'illiquid': [np.clip(np.mean(model.sim.s, axis=0), 0, None), moments['savings']],\n",
    "    'liquid': [np.mean(model.sim.a, axis=0), moments['assets']]\n",
    "}\n",
    "\n",
    "# Define colors\n",
    "simulated_color = \"navy\"  # Dark blue\n",
    "empirical_color = \"darkred\"  # Dark red\n",
    "ci_color = \"lightcoral\"  # Light red for confidence bands\n",
    "\n",
    "for key, (simulated, empirical) in a_dict.items():\n",
    "    plt.figure(figsize=(10, 5))\n",
    "    \n",
    "    x_vals = np.arange(len(empirical)) + par.start_age\n",
    "    \n",
    "    plt.plot(x_vals, simulated, label=f\"Simulated {key.capitalize()}\", marker=\"o\", color=simulated_color)\n",
    "    plt.plot(x_vals, empirical, label=f\"Empirical {key.capitalize()}\", linestyle=\"--\", marker=\"s\", color=empirical_color)\n",
    "\n",
    "    # # 99.9% confidence interval\n",
    "    # ci = std_dev\n",
    "    # plt.fill_between(x_vals, empirical - ci, empirical + ci, color=ci_color, alpha=0.4, label=\"Empirical Standard Deviation\")\n",
    "\n",
    "    plt.xlabel(\"Age\")\n",
    "    plt.ylabel(key.capitalize())\n",
    "    plt.title(f\"Comparison of Simulated and Empirical {key.capitalize()}\")\n",
    "    plt.legend()\n",
    "    plt.grid(True)\n",
    "    plt.show()\n"
   ]
  },
  {
   "cell_type": "code",
   "execution_count": null,
   "metadata": {},
   "outputs": [
    {
     "data": {
      "text/plain": [
       "np.int64(0)"
      ]
     },
     "execution_count": 8,
     "metadata": {},
     "output_type": "execute_result"
    }
   ],
   "source": [
    "np.minimum(0,1)"
   ]
  },
  {
   "cell_type": "code",
   "execution_count": null,
   "metadata": {},
   "outputs": [],
   "source": []
  },
  {
   "cell_type": "code",
   "execution_count": null,
   "metadata": {},
   "outputs": [],
   "source": []
  },
  {
   "cell_type": "markdown",
   "metadata": {},
   "source": [
    "Old best variables:"
   ]
  },
  {
   "cell_type": "code",
   "execution_count": null,
   "metadata": {},
   "outputs": [],
   "source": [
    "theta_old = ([0.982, 1.060, 3.877, 7.814, 0.02, 0.009])"
   ]
  }
 ],
 "metadata": {
  "kernelspec": {
   "display_name": "s_speciale",
   "language": "python",
   "name": "python3"
  },
  "language_info": {
   "codemirror_mode": {
    "name": "ipython",
    "version": 3
   },
   "file_extension": ".py",
   "mimetype": "text/x-python",
   "name": "python",
   "nbconvert_exporter": "python",
   "pygments_lexer": "ipython3",
   "version": "3.13.1"
  }
 },
 "nbformat": 4,
 "nbformat_minor": 2
}
