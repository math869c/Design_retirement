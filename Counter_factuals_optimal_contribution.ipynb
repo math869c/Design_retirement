{
 "cells": [
  {
   "cell_type": "code",
   "execution_count": null,
   "id": "6f06393d",
   "metadata": {},
   "outputs": [],
   "source": [
    "%load_ext autoreload\n",
    "%autoreload 2\n",
    "import numpy as np\n",
    "import matplotlib.pyplot as plt\n",
    "from mpl_toolkits import mplot3d\n",
    "from mpl_toolkits.mplot3d import Axes3D\n",
    "from WelfareMeasures import *\n",
    "from functions_njit import tax_rate_fct\n",
    "from bernoulli_distribution import Bernoulli\n",
    "from help_functions_non_njit import *\n",
    "from graph_format import *\n",
    "# load local model file and initialize model class\n",
    "from model import ModelClass\n",
    "from scipy.optimize import minimize"
   ]
  },
  {
   "cell_type": "markdown",
   "id": "1f995b57",
   "metadata": {},
   "source": [
    "# Load original model"
   ]
  },
  {
   "cell_type": "code",
   "execution_count": null,
   "id": "69dcfb3a",
   "metadata": {},
   "outputs": [],
   "source": [
    "model = ModelClass() # set a few number of periods.\n",
    "\n",
    "par = model.par\n",
    "sol = model.sol\n",
    "sim = model.sim\n",
    "par.opt_tol = 1e-6\n",
    "par.opt_maxiter = 1000\n",
    "\n",
    "%time model.solve(do_print=False)\n",
    "%time model.simulate()"
   ]
  },
  {
   "cell_type": "code",
   "execution_count": null,
   "id": "2090a49d",
   "metadata": {},
   "outputs": [],
   "source": [
    "time = np.arange(par.T)\n",
    "data_dict_basic = {\n",
    "    \"Wages (w)\": {\"data\": np.mean(model.sim.w[:], axis=0), \"unit\": \"DKK\"},\n",
    "    \"Assets (a)\": {\"data\": np.mean(model.sim.a[:], axis=0), \"unit\": \"DKK\"},\n",
    "    \"Consumption (c)\": {\"data\": np.mean(model.sim.c[:], axis=0), \"unit\": \"DKK\"},\n",
    "    \"Illiquid Savings (s)\": {\"data\": np.mean(model.sim.s[:], axis=0), \"unit\": \"DKK\"},\n",
    "}\n",
    "\n",
    "plot_simulation_one_graph(data_dict_basic, time, title=\"Economic Trajectories\")"
   ]
  },
  {
   "cell_type": "markdown",
   "id": "8501183d",
   "metadata": {},
   "source": [
    "# Functins for optimal contrbution rate"
   ]
  },
  {
   "cell_type": "code",
   "execution_count": null,
   "id": "1ae64269",
   "metadata": {},
   "outputs": [],
   "source": [
    "def objective_func(tau_values, model):\n",
    "    time = np.arange(par.T)\n",
    "\n",
    "    constant, beta1, beta2 = tau_values\n",
    "\n",
    "    tau = np.maximum((constant + beta1*time + beta2*time**2) / 100, 0)\n",
    "\n",
    "    theta = [tau]\n",
    "    theta_names = ['tau']\n",
    "\n",
    "    og_model, new_model =  make_new_model(model, theta, theta_names, do_print = False)\n",
    "\n",
    "    consumption_eq = find_consumption_equivalence(og_model, new_model, do_print= False, the_method = 'brentq')\n",
    "\n",
    "    print(consumption_eq, tau_values)\n",
    "    return -consumption_eq\n",
    "def objective_func(tau_values, model):\n",
    "    time = np.arange(par.T)\n",
    "\n",
    "    constant, beta1, beta2 = tau_values\n",
    "\n",
    "    tau = np.maximum((constant + beta1*time + beta2*time**2) / 100, 0)\n",
    "\n",
    "    theta = [tau]\n",
    "    theta_names = ['tau']\n",
    "\n",
    "    og_model, new_model =  make_new_model(model, theta, theta_names, do_print = False)\n",
    "\n",
    "    consumption_eq = find_consumption_equivalence(og_model, new_model, do_print= False, the_method = 'brentq')\n",
    "\n",
    "    if np.mean(og_model.sim.s[:, 35]) > np.mean(new_model.sim.s[:, 35]):\n",
    "        consumption_eq = -9999.9\n",
    "\n",
    "    print(consumption_eq, tau_values)\n",
    "    return -consumption_eq"
   ]
  },
  {
   "cell_type": "markdown",
   "id": "4d23ef00",
   "metadata": {},
   "source": [
    "# Optimizing optimal Contrbution rate"
   ]
  },
  {
   "cell_type": "code",
   "execution_count": null,
   "id": "d765df50",
   "metadata": {},
   "outputs": [],
   "source": [
    "tau_values_init = np.array([1.35e+01, 8.00e-02, 5.00e-04])\n",
    "\n",
    "bounds  = [(0,  30), \n",
    "           (-0.5,  0.5), \n",
    "           (-0.005,  0.005)]\n",
    "\n",
    "res = minimize(objective_func, tau_values_init, args=(model, ),  \n",
    "               method='Nelder-Mead', \n",
    "               bounds=bounds,\n",
    "               options={'maxiter': 500})\n",
    "\n",
    "print(res.x)"
   ]
  },
  {
   "cell_type": "code",
   "execution_count": null,
   "id": "8f966542",
   "metadata": {},
   "outputs": [],
   "source": [
    "# constant, beta1, beta2 = np.array([ 1.46922503e+01, -2.31206543e-02,  6.27520107e-04]) # Current optimal giving 0.0065521344388923845 consumption eq.\n",
    "constant, beta1, beta2 = np.array([ 1.48536631e+01, -4.18610966e-02,  6.47243901e-04]) # Test start\n",
    "\n",
    "time = np.arange(par.T)\n",
    "\n",
    "tau = np.maximum((constant + beta1*time + beta2*time**2) / 100, 0)\n",
    "\n",
    "plt.plot(tau)\n",
    "plt.plot(par.tau)\n",
    "plt.show()\n",
    "\n",
    "theta = [tau]\n",
    "theta_names = ['tau']\n",
    "\n",
    "og_model, new_model =  make_new_model(model, theta, theta_names, do_print = False)"
   ]
  },
  {
   "cell_type": "markdown",
   "id": "3547cb6e",
   "metadata": {},
   "source": [
    "# Labor supply"
   ]
  },
  {
   "cell_type": "code",
   "execution_count": null,
   "id": "0b77b20a",
   "metadata": {},
   "outputs": [],
   "source": [
    "con_eq = analytical_consumption_equivalence_indi(og_model, new_model)\n",
    "plot_event_histogram(con_eq[:]*100, 'Consumption Equivalence', \n",
    "                    #  'Consumption Equivalence Distribution for a 30-year-old',\n",
    "                         label1=\"Consumptin Equivalence\",\n",
    "                         figsize=(10, 6), bins=50, range=(-2,2), median_val=np.median(con_eq), mean_val =np.mean(con_eq), save_title='CF_opt_con_rate_CE_dist')"
   ]
  },
  {
   "cell_type": "markdown",
   "id": "abd08f3c",
   "metadata": {},
   "source": [
    "# Unofficial retirement age"
   ]
  },
  {
   "cell_type": "code",
   "execution_count": null,
   "id": "399a6aa1",
   "metadata": {},
   "outputs": [],
   "source": [
    "# 1. Find last time ex == 1 for each individual\n",
    "last_working = np.full(og_model.sim.ex.shape[0], np.nan)  # initialize\n",
    "\n",
    "for i in range(og_model.sim.ex.shape[0]):\n",
    "    working = np.where(og_model.sim.ex[i, :] == 1)[0]  # find where ex=1\n",
    "    if working.size > 0:\n",
    "        last_working[i] = working[-1]  # last time they worked (take last index)\n",
    "\n",
    "# 1. Find last time ex == 1 for each individual\n",
    "last_working_new = np.full(new_model.sim.ex.shape[0], np.nan)  # initialize\n",
    "\n",
    "for i in range(new_model.sim.ex.shape[0]):\n",
    "    working_new = np.where(new_model.sim.ex[i, :] == 1)[0]  # find where ex=1\n",
    "    if working_new.size > 0:\n",
    "        last_working_new[i] = working_new[-1]  # last time they worked (take last index)\n",
    "\n",
    "plot_event_bar_series(\n",
    "    values1=last_working,\n",
    "    values2=last_working_new,\n",
    "    xlabel=\"Retirement Age\",\n",
    "    # title=\"Timing of Unofficial Retirement\",\n",
    "    label1=\"Baseline\",\n",
    "    label2=\"Optimal Contribution Rate\",\n",
    "    bins=np.arange(25, 46),\n",
    "    save_title=\"CF_opt_con_rate_un_ret.png\",\n",
    ")\n"
   ]
  },
  {
   "cell_type": "markdown",
   "id": "2a564340",
   "metadata": {},
   "source": [
    "# Official retirement age"
   ]
  },
  {
   "cell_type": "code",
   "execution_count": null,
   "id": "db49e202",
   "metadata": {},
   "outputs": [],
   "source": [
    "def official_retirement(model):\n",
    "    first_retirement = np.full(model.sim.e.shape[0], np.nan)  # initialize\n",
    "\n",
    "    for i in range(model.sim.e.shape[0]):\n",
    "        retired = np.where(model.sim.e[i, :] == 2)[0]  # find where e=2\n",
    "        if retired.size > 0:\n",
    "            first_retirement[i] = retired[0]  # first time they retire\n",
    "        if model.sim.efter_init[i]:\n",
    "            if len(model.sim.ex[i,:]) - np.argmax(model.sim.ex[i,:][::-1] == 1)< first_retirement[i]:\n",
    "                first_retirement[i] = len(model.sim.ex[i,:]) - np.argmax(model.sim.ex[i,:][::-1] == 1)\n",
    "\n",
    "    return first_retirement"
   ]
  },
  {
   "cell_type": "code",
   "execution_count": null,
   "id": "98fc4ca3",
   "metadata": {},
   "outputs": [],
   "source": [
    "first_retirement_og = official_retirement(og_model)\n",
    "first_retirement_new = official_retirement(new_model)\n",
    "\n",
    "plot_event_bar_series(\n",
    "    values1=first_retirement_og,\n",
    "    values2=first_retirement_new,\n",
    "    xlabel=\"Official Retirement Age\",\n",
    "    # title=\"Timing of Official Retirement\",\n",
    "    label1=\"Baseline\",\n",
    "    label2=\"Optimal Contribution Rate\",\n",
    "    bins=np.arange(25, 46),\n",
    "    save_title=\"CF_opt_con_rate_of_ret.png\",\n",
    ")\n"
   ]
  },
  {
   "cell_type": "markdown",
   "id": "30b47a97",
   "metadata": {},
   "source": [
    "# Voluntary retirement age"
   ]
  },
  {
   "cell_type": "code",
   "execution_count": null,
   "id": "f7961238",
   "metadata": {},
   "outputs": [],
   "source": [
    "og_ret_counts = np.sum(og_model.sim.ret_flag[:, :], axis=0)\n",
    "new_ret_counts = np.sum(new_model.sim.ret_flag[:, :], axis=0)\n",
    "plot_bar_series_comparison(\n",
    "    og_ret_counts,\n",
    "    new_ret_counts,\n",
    "    label1=\"Baseline\",\n",
    "    label2=\"Optimal Contribution Rate\",\n",
    "    # title=\"Voluntary Retirements per Period\",\n",
    "    xlabel=\"Age\",\n",
    "    normalize=True,\n",
    "    t_start=25, \n",
    "    t_end=46,\n",
    "    save_title=\"CF_opt_con_rate_vol_ret.png\",\n",
    ")\n"
   ]
  },
  {
   "cell_type": "markdown",
   "id": "d982898a",
   "metadata": {},
   "source": [
    "# Consumption Replacement Rate"
   ]
  },
  {
   "cell_type": "code",
   "execution_count": null,
   "id": "232d3839",
   "metadata": {},
   "outputs": [],
   "source": [
    "plot_event_histogram(\n",
    "    values1=consumption_replacement_rate_fct(og_model),\n",
    "    values2=consumption_replacement_rate_fct(new_model),\n",
    "    xlabel=\"Consumption Replacement Rate\",\n",
    "    # title=\"Consumption Replacement Rate\",\n",
    "    label1=\"Baseline\",\n",
    "    label2=\"Optimal Contribution Rate\",\n",
    "    bins=30,\n",
    "    save_title=\"CF_opt_con_rate_CR.png\",\n",
    ")"
   ]
  },
  {
   "cell_type": "markdown",
   "id": "f13cfc46",
   "metadata": {},
   "source": [
    "# Replacement Rate"
   ]
  },
  {
   "cell_type": "code",
   "execution_count": null,
   "id": "f3b865b5",
   "metadata": {},
   "outputs": [],
   "source": [
    "plot_event_histogram(\n",
    "    values1=replacement_rate_fct(og_model),\n",
    "    values2=replacement_rate_fct(new_model),\n",
    "    xlabel=\"Replacement Rate\",\n",
    "    # title=\"Replacement Rate\",\n",
    "    label1=\"Baseline\",\n",
    "    label2=\"Optimal Contribution Rate\",\n",
    "    bins=30,\n",
    "    save_title=\"CF_opt_con_rate_RR.png\"\n",
    ")\n"
   ]
  },
  {
   "cell_type": "markdown",
   "id": "68ac9e6f",
   "metadata": {},
   "source": [
    "# Consumption equivalence over Age"
   ]
  },
  {
   "cell_type": "code",
   "execution_count": null,
   "id": "253f67a8",
   "metadata": {},
   "outputs": [],
   "source": [
    "EV_age_new, EV_weight_new = ev_model(new_model)\n",
    "phi_age, phi_avg = analytical_age_phi(og_model, EV_age_new)\n",
    "plot_single_line_with_reference(\n",
    "    line_data=phi_age,\n",
    "    reference_value=phi_avg,\n",
    "    label_line=\"CE each year\",\n",
    "    label_ref=\"Avg. CE\",\n",
    "    ylabel=\"Equivalence\",\n",
    "    scale=100,\n",
    "    save_title=\"CF_opt_con_rate_CE_age.png\"\n",
    ")"
   ]
  },
  {
   "cell_type": "markdown",
   "id": "de458281",
   "metadata": {},
   "source": [
    "# Comparison of means"
   ]
  },
  {
   "cell_type": "code",
   "execution_count": null,
   "id": "63ee1486",
   "metadata": {},
   "outputs": [],
   "source": [
    "time = np.arange(par.T)\n",
    "\n",
    "# Data for selected summary variables\n",
    "summary_vars = [\"Wages (w)\", \"Assets (a)\", \"Consumption (c)\", \"Illiquid Savings (s)\"]\n",
    "simulated_data_new = {\n",
    "    \"Wages (w)\": np.mean(new_model.sim.w[:], axis=0),\n",
    "    \"Assets (a)\": np.mean(new_model.sim.a[:], axis=0),\n",
    "    \"Consumption (c)\": np.mean(new_model.sim.c[:], axis=0),\n",
    "    \"Illiquid Savings (s)\": np.mean(new_model.sim.s[:], axis=0),\n",
    "}\n",
    "simulated_data_og = {\n",
    "    \"Wages (w)\": np.mean(og_model.sim.w[:], axis=0),\n",
    "    \"Assets (a)\": np.mean(og_model.sim.a[:], axis=0),\n",
    "    \"Consumption (c)\": np.mean(og_model.sim.c[:], axis=0),\n",
    "    \"Illiquid Savings (s)\": np.mean(og_model.sim.s[:], axis=0),\n",
    "}\n",
    "\n",
    "plot_comparison_single_panel(simulated_data_og, simulated_data_new, summary_vars, time, save_title=\"CF_opt_con_rate_means.png\")\n"
   ]
  }
 ],
 "metadata": {
  "kernelspec": {
   "display_name": "s_speciale",
   "language": "python",
   "name": "python3"
  },
  "language_info": {
   "codemirror_mode": {
    "name": "ipython",
    "version": 3
   },
   "file_extension": ".py",
   "mimetype": "text/x-python",
   "name": "python",
   "nbconvert_exporter": "python",
   "pygments_lexer": "ipython3",
   "version": "3.13.1"
  }
 },
 "nbformat": 4,
 "nbformat_minor": 5
}
