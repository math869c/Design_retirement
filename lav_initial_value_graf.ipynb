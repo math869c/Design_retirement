{
 "cells": [
  {
   "cell_type": "code",
   "execution_count": null,
   "id": "72b674fa",
   "metadata": {},
   "outputs": [],
   "source": [
    "import pandas as pd\n",
    "import numpy as np\n",
    "import seaborn as sns\n",
    "from scipy.stats import multivariate_normal, lognorm, norm\n",
    "import matplotlib.pyplot as plt\n",
    "from help_functions_non_njit import *\n",
    "wealth, retirement, wages = draw_initial_values(10000)\n",
    "df = pd.DataFrame({\n",
    "    \"Wealth\": wealth,\n",
    "    \"Retirement\": retirement,\n",
    "    \"Wages\": wages\n",
    "})\n",
    "# Calculate correlation matrix\n",
    "corr_matrix = df.corr()\n",
    "\n",
    "# Create the heatmap plot\n",
    "plt.figure(figsize=(8, 6))  # Optional: adjust size\n",
    "heatmap = sns.heatmap(corr_matrix, annot=True, cmap='coolwarm', fmt=\".2f\")\n",
    "plt.title(\"Correlation Matrix of Initial Values\")\n",
    "\n",
    "# Save the plot\n",
    "plt.savefig(\"Andet/Pictures/correlation_matrix_initial_values.png\", dpi=300, bbox_inches='tight')\n",
    "\n",
    "# Optional: Show the plot\n",
    "plt.show()\n",
    "\n",
    "sns.pairplot(df)\n",
    "plt.show()\n",
    "pairplot = sns.pairplot(df)\n",
    "\n",
    "pairplot.savefig(\"Andet/Pictures/pairplot_initial_values.png\", dpi=300)  # You can also use .pdf or .jpg\n",
    "\n",
    "# Optional: Show it if you're running interactively\n",
    "plt.show()"
   ]
  }
 ],
 "metadata": {
  "language_info": {
   "name": "python"
  }
 },
 "nbformat": 4,
 "nbformat_minor": 5
}
