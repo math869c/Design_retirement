{
 "cells": [
  {
   "cell_type": "code",
   "execution_count": 1,
   "id": "6f06393d",
   "metadata": {},
   "outputs": [],
   "source": [
    "%load_ext autoreload\n",
    "%autoreload 2\n",
    "import numpy as np\n",
    "import matplotlib.pyplot as plt\n",
    "from mpl_toolkits import mplot3d\n",
    "from mpl_toolkits.mplot3d import Axes3D\n",
    "from WelfareMeasures import *\n",
    "from functions_njit import tax_rate_fct\n",
    "from bernoulli_distribution import Bernoulli\n",
    "from help_functions_non_njit import *\n",
    "from graph_format import *\n",
    "# load local model file and initialize model class\n",
    "from model import ModelClass\n",
    "from scipy.optimize import minimize"
   ]
  },
  {
   "cell_type": "markdown",
   "id": "1f995b57",
   "metadata": {},
   "source": [
    "# Load original model"
   ]
  },
  {
   "cell_type": "code",
   "execution_count": 2,
   "id": "69dcfb3a",
   "metadata": {},
   "outputs": [
    {
     "name": "stdout",
     "output_type": "stream",
     "text": [
      "CPU times: total: 13min 13s\n",
      "Wall time: 4min 23s\n",
      "CPU times: total: 22.3 s\n",
      "Wall time: 34.6 s\n"
     ]
    }
   ],
   "source": [
    "model = ModelClass() # set a few number of periods.\n",
    "\n",
    "par = model.par\n",
    "sol = model.sol\n",
    "sim = model.sim\n",
    "par.opt_tol = 1e-6\n",
    "par.opt_maxiter = 1000\n",
    "\n",
    "%time model.solve(do_print=False)\n",
    "%time model.simulate()"
   ]
  },
  {
   "cell_type": "code",
   "execution_count": null,
   "id": "6f9a03d8",
   "metadata": {},
   "outputs": [
    {
     "data": {
      "text/plain": [
       "np.float64(-18.125116056877868)"
      ]
     },
     "execution_count": 4,
     "metadata": {},
     "output_type": "execute_result"
    }
   ],
   "source": [
    "model.sol.V[20,5,5,5,20,1,1]\n",
    "np.mean(model.sim.c[:,0])"
   ]
  },
  {
   "cell_type": "code",
   "execution_count": 8,
   "id": "7dc49bb0",
   "metadata": {},
   "outputs": [
    {
     "data": {
      "text/plain": [
       "np.float64(171489.54900989175)"
      ]
     },
     "execution_count": 8,
     "metadata": {},
     "output_type": "execute_result"
    }
   ],
   "source": [
    "np.mean(model.sim.c[:,0])"
   ]
  },
  {
   "cell_type": "code",
   "execution_count": null,
   "id": "1151eea0",
   "metadata": {},
   "outputs": [],
   "source": []
  },
  {
   "cell_type": "code",
   "execution_count": null,
   "id": "4f8ad2b9",
   "metadata": {},
   "outputs": [],
   "source": []
  },
  {
   "cell_type": "code",
   "execution_count": null,
   "id": "f9d9d484",
   "metadata": {},
   "outputs": [],
   "source": []
  },
  {
   "cell_type": "markdown",
   "id": "594be777",
   "metadata": {},
   "source": [
    "# Counter factual"
   ]
  },
  {
   "cell_type": "code",
   "execution_count": null,
   "id": "85748080",
   "metadata": {},
   "outputs": [],
   "source": [
    "# Change parameters and re-solve\n",
    "\n",
    "total_effect_list = []\n",
    "\n",
    "for age in range(35, 50):\n",
    "\n",
    "    theta = [age]\n",
    "    theta_names = ['retirement_age']\n",
    "\n",
    "    og_model, new_model =  make_new_model(model, theta, theta_names, do_print = False)\n",
    "\n",
    "    pi_cum = np.cumprod(og_model.par.pi)\n",
    "\n",
    "    total_margin_og = np.sum(pi_cum[:og_model.par.last_retirement] * og_model.sim.h[:, :og_model.par.last_retirement])\n",
    "    total_margin_new = np.sum(pi_cum[:og_model.par.last_retirement] * new_model.sim.h[:, :og_model.par.last_retirement])\n",
    "    total_margin = (total_margin_new-total_margin_og)/total_margin_og\n",
    "\n",
    "    total_effect_list.append([total_margin_og, total_margin_new, total_margin])"
   ]
  },
  {
   "cell_type": "code",
   "execution_count": null,
   "id": "ee8df931",
   "metadata": {},
   "outputs": [],
   "source": [
    "plot_total_effect_with_trend(total_effect_list, title=None, save_title=\"ret_age_increase_effect.png\")"
   ]
  },
  {
   "cell_type": "code",
   "execution_count": null,
   "id": "5a66c702",
   "metadata": {},
   "outputs": [],
   "source": [
    "ret_age = 49\n",
    "increasing_RPA = []\n",
    "\n",
    "for first_age in range(30, ret_age + 1):\n",
    "    early_age_lag = ret_age- first_age-4\n",
    "\n",
    "    theta = [ret_age, first_age, early_age_lag]\n",
    "    theta_names = ['retirement_age', 'first_retirement', 'early_benefits_lag', ]\n",
    "\n",
    "    og_model, new_model = make_new_model(model, theta, theta_names, do_print=False)\n",
    "    consumption_eq = find_consumption_equivalence(og_model, new_model, do_print= False, the_method = 'brentq')\n",
    "\n",
    "    pi_cum = np.cumprod(og_model.par.pi)\n",
    "\n",
    "    total_margin_og = np.nanmean(pi_cum[:og_model.par.last_retirement] * og_model.sim.h[:, :og_model.par.last_retirement])\n",
    "    total_margin_new = np.nanmean(pi_cum[:og_model.par.last_retirement] * new_model.sim.h[:, :og_model.par.last_retirement])\n",
    "    total_margin = (total_margin_new - total_margin_og)\n",
    "\n",
    "    increasing_RPA.append([ret_age, first_age, early_age_lag+ first_age, total_margin, consumption_eq])\n",
    "    print(\"Done with first_age\", first_age)\n",
    "\n",
    "np.savetxt('increasing_RPA.txt', increasing_RPA)"
   ]
  },
  {
   "cell_type": "code",
   "execution_count": null,
   "id": "c1ea4833",
   "metadata": {},
   "outputs": [],
   "source": [
    "first_retirement = 30\n",
    "early_age_lag = 1\n",
    "increasing_SPA_fix_RPA_EPA = []\n",
    "\n",
    "for ret_age in range(first_retirement +early_age_lag, 50):\n",
    "\n",
    "    theta = [ret_age, first_age, early_age_lag]\n",
    "    theta_names = ['retirement_age', 'first_retirement', 'early_benefits_lag', ]\n",
    "\n",
    "    og_model, new_model = make_new_model(model, theta, theta_names, do_print=False)\n",
    "    consumption_eq = find_consumption_equivalence(og_model, new_model, do_print= False, the_method = 'brentq')\n",
    "\n",
    "    pi_cum = np.cumprod(og_model.par.pi)\n",
    "\n",
    "    total_margin_og = np.nanmean(pi_cum[:og_model.par.last_retirement] * og_model.sim.h[:, :og_model.par.last_retirement])\n",
    "    total_margin_new = np.nanmean(pi_cum[:og_model.par.last_retirement] * new_model.sim.h[:, :og_model.par.last_retirement])\n",
    "    total_margin = (total_margin_new - total_margin_og)\n",
    "\n",
    "    increasing_SPA_fix_RPA_EPA.append([ret_age, first_age, early_age_lag+ first_age, total_margin, consumption_eq])\n",
    "    print(\"Done with first_age\", ret_age)\n",
    "\n",
    "np.savetxt('increasing_SPA_fix_RPA_EPA.txt', increasing_SPA_fix_RPA_EPA)"
   ]
  },
  {
   "cell_type": "code",
   "execution_count": null,
   "id": "2b094a5f",
   "metadata": {},
   "outputs": [],
   "source": [
    "first_retirement = 30\n",
    "ret_age = 49\n",
    "increasing_EPA_fix_SPA_RPA = []\n",
    "\n",
    "for early_age_lag in range(0, ret_age-first_retirement):\n",
    "\n",
    "    theta = [ret_age, first_age, early_age_lag]\n",
    "    theta_names = ['retirement_age', 'first_retirement', 'early_benefits_lag', ]\n",
    "\n",
    "    og_model, new_model = make_new_model(model, theta, theta_names, do_print=False)\n",
    "    consumption_eq = find_consumption_equivalence(og_model, new_model, do_print= False, the_method = 'brentq')\n",
    "\n",
    "    pi_cum = np.cumprod(og_model.par.pi)\n",
    "\n",
    "    total_margin_og = np.nanmean(pi_cum[:og_model.par.last_retirement] * og_model.sim.h[:, :og_model.par.last_retirement])\n",
    "    total_margin_new = np.nanmean(pi_cum[:og_model.par.last_retirement] * new_model.sim.h[:, :og_model.par.last_retirement])\n",
    "    total_margin = (total_margin_new - total_margin_og)\n",
    "\n",
    "    increasing_EPA_fix_SPA_RPA.append([ret_age, first_age, early_age_lag+ first_age, total_margin, consumption_eq])\n",
    "    print(\"Done with first_age\", early_age_lag)\n",
    "\n",
    "np.savetxt('increasing_SPA_fix_RPA_EPA.txt', increasing_EPA_fix_SPA_RPA)"
   ]
  },
  {
   "cell_type": "code",
   "execution_count": null,
   "id": "18f5c41d",
   "metadata": {},
   "outputs": [],
   "source": [
    "total_effect_grid = []\n",
    "\n",
    "count = 0\n",
    "\n",
    "for ret_age in range(35, 50):\n",
    "    for first_age in range(ret_age - 5, ret_age + 1):\n",
    "        for early_age_lag in range(ret_age - first_age + 1):\n",
    "\n",
    "            theta = [ret_age, first_age, early_age_lag]\n",
    "            theta_names = ['retirement_age', 'first_retirement', 'early_benefits_lag', ]\n",
    "\n",
    "            og_model, new_model = make_new_model(model, theta, theta_names, do_print=False)\n",
    "            consumption_eq = find_consumption_equivalence(og_model, new_model, do_print= False, the_method = 'brentq')\n",
    "\n",
    "            pi_cum = np.cumprod(og_model.par.pi)\n",
    "\n",
    "            total_margin_og = np.nanmean(pi_cum[:og_model.par.last_retirement] * og_model.sim.h[:, :og_model.par.last_retirement])\n",
    "            total_margin_new = np.nanmean(pi_cum[:og_model.par.last_retirement] * new_model.sim.h[:, :og_model.par.last_retirement])\n",
    "            total_margin = (total_margin_new - total_margin_og)\n",
    "\n",
    "            total_effect_grid.append([ret_age, first_age, early_age_lag, total_margin, consumption_eq])\n",
    "\n",
    "            count += 1\n",
    "\n",
    "            print(\"Done with iteration\", count)\n"
   ]
  },
  {
   "cell_type": "code",
   "execution_count": null,
   "id": "c59238de",
   "metadata": {},
   "outputs": [],
   "source": [
    "total_effect_grid"
   ]
  },
  {
   "cell_type": "code",
   "execution_count": null,
   "id": "7f456bb9",
   "metadata": {},
   "outputs": [],
   "source": [
    "np.savetxt('total_effect_grid.txt', total_effect_grid)"
   ]
  },
  {
   "cell_type": "code",
   "execution_count": null,
   "id": "89243980",
   "metadata": {},
   "outputs": [],
   "source": [
    "# Change parameters and re-solve\n",
    "\n",
    "total_effect_list_new = []\n",
    "\n",
    "for early_lag in range(5):\n",
    "\n",
    "    temp_list = []\n",
    "    for age in range(35, 50):\n",
    "\n",
    "        theta = [age, early_lag]\n",
    "        theta_names = ['retirement_age', 'early_benefits_lag']\n",
    "\n",
    "        og_model, new_model =  make_new_model(model, theta, theta_names, do_print = False)\n",
    "\n",
    "        pi_cum = np.cumprod(og_model.par.pi)\n",
    "\n",
    "        total_margin_og = np.sum(pi_cum[:og_model.par.last_retirement] * og_model.sim.h[:, :og_model.par.last_retirement])\n",
    "        total_margin_new = np.sum(pi_cum[:og_model.par.last_retirement] * new_model.sim.h[:, :og_model.par.last_retirement])\n",
    "        total_margin = (total_margin_new-total_margin_og)/total_margin_og\n",
    "\n",
    "        temp_list.append([total_margin_og, total_margin_new, total_margin])\n",
    "\n",
    "    total_effect_list_new.append(temp_list)\n"
   ]
  },
  {
   "cell_type": "code",
   "execution_count": null,
   "id": "3b9cfef2",
   "metadata": {},
   "outputs": [],
   "source": [
    "total_effect_efter = np.array(total_effect_list_new)\n",
    "\n",
    "# np.savetxt('Data/total_effect_against_early.txt', total_effect_efter, fmt='%.6f')\n",
    "\n",
    "np.save('Data/total_effect_early_ret.npy', total_effect_efter)"
   ]
  },
  {
   "cell_type": "code",
   "execution_count": null,
   "id": "d6091cd7",
   "metadata": {},
   "outputs": [],
   "source": [
    "plt.plot(total_effect_efter[0][:, 2])\n",
    "plt.plot(total_effect_efter[1][:, 2])\n",
    "plt.plot(total_effect_efter[2][:, 2])\n",
    "plt.plot(total_effect_efter[3][:, 2])\n",
    "plt.plot(total_effect_efter[4][:, 2])"
   ]
  },
  {
   "cell_type": "code",
   "execution_count": null,
   "id": "093da240",
   "metadata": {},
   "outputs": [],
   "source": [
    "# Change parameters and re-solve\n",
    "\n",
    "total_effect_list_ages = []\n",
    "\n",
    "for age in range(35, 50):\n",
    "\n",
    "    theta = [age]\n",
    "    theta_names = ['retirement_age']\n",
    "\n",
    "    og_model, new_model =  make_new_model(model, theta, theta_names, do_print = False)\n",
    "\n",
    "    pi_cum = np.cumprod(og_model.par.pi)\n",
    "\n",
    "    total_margin_og = np.sum(pi_cum[:og_model.par.last_retirement] * og_model.sim.h[:, :og_model.par.last_retirement], axis = 0)\n",
    "    total_margin_new = np.sum(pi_cum[:og_model.par.last_retirement] * new_model.sim.h[:, :og_model.par.last_retirement], axis = 0)\n",
    "    # total_margin = (total_margin_new-total_margin_og)/total_margin_og\n",
    "\n",
    "    total_effect_list_ages.append([total_margin_og, total_margin_new])"
   ]
  },
  {
   "cell_type": "code",
   "execution_count": null,
   "id": "c8ee069a",
   "metadata": {},
   "outputs": [],
   "source": [
    "arr = np.array(total_effect_list_ages)\n",
    "df = pd.DataFrame(arr.reshape(arr.shape[0], -1))  # shape: (15, 110)"
   ]
  },
  {
   "cell_type": "code",
   "execution_count": null,
   "id": "ec4e9b07",
   "metadata": {},
   "outputs": [],
   "source": [
    "plt.plot((df.iloc[:, 55::].sum(axis=1) - df.iloc[:, :55].sum(axis=1)) / df.iloc[:, :55].sum(axis=1))"
   ]
  },
  {
   "cell_type": "code",
   "execution_count": null,
   "id": "9e212441",
   "metadata": {},
   "outputs": [],
   "source": [
    "plt.plot((df.iloc[:, 85:].sum(axis=1) - df.iloc[:, 30:55].sum(axis=1)) / df.iloc[:, 30:55].sum(axis=1))\n",
    "plt.plot((df.iloc[:, 55:85].sum(axis=1) - df.iloc[:, 0:30].sum(axis=1)) / df.iloc[:, 0:30].sum(axis=1))"
   ]
  },
  {
   "cell_type": "code",
   "execution_count": null,
   "id": "c1ee7364",
   "metadata": {},
   "outputs": [],
   "source": [
    "for alder in range(0,55):\n",
    "\n",
    "    plt.plot(df[55+alder] - df[0+alder])"
   ]
  },
  {
   "cell_type": "code",
   "execution_count": null,
   "id": "13a61037",
   "metadata": {},
   "outputs": [],
   "source": [
    "assert False"
   ]
  },
  {
   "cell_type": "markdown",
   "id": "d08b4538",
   "metadata": {},
   "source": [
    "# Compare models "
   ]
  },
  {
   "cell_type": "code",
   "execution_count": null,
   "id": "4ff43e7b",
   "metadata": {},
   "outputs": [],
   "source": [
    "# Compare models \n",
    "consumption_eq = find_consumption_equivalence(og_model, new_model, do_print= True, the_method = 'brentq')\n",
    "intensive_margin, extensive_margin, total_margin, intensive_margin_age, extensive_margin_age, total_margin_age  = labor_elasticity(og_model, new_model)\n",
    "\n",
    "\n",
    "plot_labor_margins_by_age(\n",
    "    intensive_age=intensive_margin_age,\n",
    "    extensive_age=extensive_margin_age,\n",
    "    total_age=total_margin_age,\n",
    "    avg_intensive=extensive_margin,\n",
    "    avg_extensive=intensive_margin,\n",
    "    avg_total=total_margin,\n",
    "    age_start=par.start_age,\n",
    "    title_prefix=\"Labor Supply — \",\n",
    "    save_title=\"counterfactual_labor_margins_by_age.png\"\n",
    ")"
   ]
  },
  {
   "cell_type": "code",
   "execution_count": null,
   "id": "27270c31",
   "metadata": {},
   "outputs": [],
   "source": [
    "con_eq = analytical_consumption_equivalence_indi(og_model, new_model)"
   ]
  },
  {
   "cell_type": "code",
   "execution_count": null,
   "id": "175e260a",
   "metadata": {},
   "outputs": [],
   "source": [
    "plot_event_histogram(con_eq[:], 'Consumption Equivalence', 'Consumption Equivalence Distribution',\n",
    "                         label1=\"Event 1\",\n",
    "                         figsize=(10, 6), bins=100, save_title='consumption_equivalence_indi')"
   ]
  },
  {
   "cell_type": "code",
   "execution_count": null,
   "id": "2da4b2b6",
   "metadata": {},
   "outputs": [],
   "source": [
    "plt.hist(con_eq[:], bins=100)"
   ]
  },
  {
   "cell_type": "code",
   "execution_count": null,
   "id": "f243d712",
   "metadata": {},
   "outputs": [],
   "source": [
    "np.round(np.mean(con_eq[:])*100,1)"
   ]
  },
  {
   "cell_type": "code",
   "execution_count": null,
   "id": "d88c8cf0",
   "metadata": {},
   "outputs": [],
   "source": [
    "np.round(np.mean(con_eq[:])*100,1)"
   ]
  },
  {
   "cell_type": "markdown",
   "id": "c7444a25",
   "metadata": {},
   "source": [
    "# comparison of means"
   ]
  },
  {
   "cell_type": "code",
   "execution_count": null,
   "id": "63ee1486",
   "metadata": {},
   "outputs": [],
   "source": [
    "time = np.arange(par.T)\n",
    "\n",
    "# Data for selected summary variables\n",
    "summary_vars = [\"Wages (w)\", \"Assets (a)\", \"Consumption (c)\", \"Illiquid Savings (s)\"]\n",
    "simulated_data_new = {\n",
    "    \"Wages (w)\": np.mean(new_model.sim.w[:], axis=0),\n",
    "    \"Assets (a)\": np.mean(new_model.sim.a[:], axis=0),\n",
    "    \"Consumption (c)\": np.mean(new_model.sim.c[:], axis=0),\n",
    "    \"Illiquid Savings (s)\": np.mean(new_model.sim.s[:], axis=0),\n",
    "}\n",
    "simulated_data_og = {\n",
    "    \"Wages (w)\": np.mean(og_model.sim.w[:], axis=0),\n",
    "    \"Assets (a)\": np.mean(og_model.sim.a[:], axis=0),\n",
    "    \"Consumption (c)\": np.mean(og_model.sim.c[:], axis=0),\n",
    "    \"Illiquid Savings (s)\": np.mean(og_model.sim.s[:], axis=0),\n",
    "}\n",
    "\n",
    "plot_comparison_single_panel(simulated_data_og, simulated_data_new, summary_vars, time, save_title=\"counterfactual_summary_vars.png\")\n"
   ]
  },
  {
   "cell_type": "code",
   "execution_count": null,
   "id": "35452c3c",
   "metadata": {},
   "outputs": [],
   "source": [
    "\n",
    "# Full variable set\n",
    "data_dict_new = {\n",
    "    \"Human Capital (k)\": np.mean(new_model.sim.k[:], axis=0),\n",
    "    \"Wages (w)\": np.mean(new_model.sim.w[:], axis=0),\n",
    "    \"Hours (hours)\": np.nanmean(np.where(new_model.sim.ex == 1, new_model.sim.h, np.nan), axis=0),\n",
    "    \"Assets (a)\": np.mean(new_model.sim.a[:], axis=0),\n",
    "    \"Consumption (c)\": np.mean(new_model.sim.c[:], axis=0),\n",
    "    \"Illiquid Savings (s)\": np.mean(new_model.sim.s[:], axis=0),\n",
    "    \"Extensive Margin (ex)\": np.mean(new_model.sim.ex[:], axis=0),\n",
    "    \"Tax rate (tax_rate)\": np.mean(new_model.sim.tax_rate[:,:], axis=0),\n",
    "    \"Wages after taxes\": np.mean((1 - new_model.sim.tax_rate[:,:]) * new_model.sim.w[:,:], axis=0),\n",
    "}\n",
    "\n",
    "data_dict_og = {\n",
    "    \"Human Capital (k)\": np.mean(og_model.sim.k[:], axis=0),\n",
    "    \"Wages (w)\": np.mean(og_model.sim.w[:], axis=0),\n",
    "    \"Hours (hours)\": np.nanmean(np.where(og_model.sim.ex == 1, og_model.sim.h, np.nan), axis=0),\n",
    "    \"Assets (a)\": np.mean(og_model.sim.a[:], axis=0),\n",
    "    \"Consumption (c)\": np.mean(og_model.sim.c[:], axis=0),\n",
    "    \"Illiquid Savings (s)\": np.mean(og_model.sim.s[:], axis=0),\n",
    "    \"Extensive Margin (ex)\": np.mean(og_model.sim.ex[:], axis=0),\n",
    "    \"Tax rate (tax_rate)\": np.mean(og_model.sim.tax_rate[:,:], axis=0),\n",
    "    \"Wages after taxes\": np.mean((1 - og_model.sim.tax_rate[:,:]) * og_model.sim.w[:,:], axis=0),\n",
    "}\n",
    "\n",
    "data_dict_diff = {\n",
    "    \"Human Capital (k)\": np.mean(new_model.sim.k[:], axis=0) - np.mean(og_model.sim.k[:], axis=0),\n",
    "    \"Wages (w)\": np.mean(new_model.sim.w[:], axis=0) - np.mean(og_model.sim.w[:], axis=0),\n",
    "    \"Hours (hours)\": np.nanmean(np.where(new_model.sim.ex == 1, new_model.sim.h, np.nan), axis=0)\n",
    "                    - np.nanmean(np.where(og_model.sim.ex == 1, og_model.sim.h, np.nan), axis=0),\n",
    "    \"Assets (a)\": np.mean(new_model.sim.a[:], axis=0) - np.mean(og_model.sim.a[:], axis=0),\n",
    "    \"Consumption (c)\": np.mean(new_model.sim.c[:], axis=0) - np.mean(og_model.sim.c[:], axis=0),\n",
    "    \"Illiquid Savings (s)\": np.mean(new_model.sim.s[:], axis=0) - np.mean(og_model.sim.s[:], axis=0),\n",
    "    \"Extensive Margin (ex)\": np.mean(new_model.sim.ex[:], axis=0) - np.mean(og_model.sim.ex[:], axis=0),\n",
    "    \"Tax rate (tax_rate)\": np.mean(new_model.sim.tax_rate[:,:], axis=0) - np.mean(og_model.sim.tax_rate[:,:], axis=0),\n",
    "    \"Wages after taxes\": (\n",
    "        np.mean((1 - new_model.sim.tax_rate[:,:]) * new_model.sim.w[:,:], axis=0)\n",
    "        - np.mean((1 - og_model.sim.tax_rate[:,:]) * og_model.sim.w[:,:], axis=0)\n",
    "    ),\n",
    "}\n",
    "\n",
    "plot_comparison_grid(data_dict_og, data_dict_new, time, title=\"Original vs New Simulations\", save_title=\"counterfactual_full_vars.png\")\n",
    "plot_difference_grid(data_dict_diff, time, title=\"Difference between New and Original Simulations\", save_title=\"counterfactual_diff_full_vars.png\")\n"
   ]
  },
  {
   "cell_type": "code",
   "execution_count": null,
   "id": "4793da06",
   "metadata": {},
   "outputs": [],
   "source": [
    "# 1. Find last time ex == 1 for each individual\n",
    "last_working = np.full(og_model.sim.ex.shape[0], np.nan)  # initialize\n",
    "\n",
    "for i in range(og_model.sim.ex.shape[0]):\n",
    "    working = np.where(og_model.sim.ex[i, :] == 1)[0]  # find where ex=1\n",
    "    if working.size > 0:\n",
    "        last_working[i] = working[-1]  # last time they worked (take last index)\n",
    "\n",
    "# 1. Find last time ex == 1 for each individual\n",
    "last_working_new = np.full(new_model.sim.ex.shape[0], np.nan)  # initialize\n",
    "\n",
    "for i in range(new_model.sim.ex.shape[0]):\n",
    "    working_new = np.where(new_model.sim.ex[i, :] == 1)[0]  # find where ex=1\n",
    "    if working_new.size > 0:\n",
    "        last_working_new[i] = working_new[-1]  # last time they worked (take last index)\n"
   ]
  },
  {
   "cell_type": "code",
   "execution_count": null,
   "id": "8529616f",
   "metadata": {},
   "outputs": [],
   "source": [
    "plot_event_bar_series(\n",
    "    values1=last_working,\n",
    "    values2=last_working_new,\n",
    "    xlabel=\"Retirement Age\",\n",
    "    title=\"Timing of Unofficial Retirement\",\n",
    "    label1=\"Old\",\n",
    "    label2=f'New ({theta_names[0]} = {theta[0]})',\n",
    "    save_title=\"counterfactual_retirement_age.png\",\n",
    ")\n"
   ]
  },
  {
   "cell_type": "code",
   "execution_count": null,
   "id": "55a580ff",
   "metadata": {},
   "outputs": [],
   "source": [
    "# 1. Find first time e == 2 for each individual\n",
    "first_retirement = np.full(og_model.sim.e.shape[0], np.nan)  # initialize\n",
    "\n",
    "for i in range(og_model.sim.e.shape[0]):\n",
    "    retired = np.where(og_model.sim.e[i, :] == 2)[0]  # find where e=2\n",
    "    if retired.size > 0:\n",
    "        first_retirement[i] = retired[0]  # first time they retire\n",
    "\n",
    "first_retirement_new = np.full(new_model.sim.e.shape[0], np.nan)  # initialize\n",
    "\n",
    "for i in range(new_model.sim.e.shape[0]):\n",
    "    retired_new = np.where(new_model.sim.e[i, :] == 2)[0]  # find where e=2\n",
    "    if retired_new.size > 0:\n",
    "        first_retirement_new[i] = retired_new[0]  # first time they retire\n",
    "plot_event_bar_series(\n",
    "    values1=first_retirement,\n",
    "    values2=first_retirement_new,\n",
    "    xlabel=\"Official Retirement Age\",\n",
    "    title=\"Timing of Official Retirement\",\n",
    "    label1=\"Old\",\n",
    "    label2=f'New ({theta_names[0]} = {theta[0]})',\n",
    "    save_title=\"counterfactual_official_retirement_age.png\",\n",
    ")\n"
   ]
  },
  {
   "cell_type": "code",
   "execution_count": null,
   "id": "c073f235",
   "metadata": {},
   "outputs": [],
   "source": [
    "og_ret_counts = np.sum(og_model.sim.ret_flag[:, :], axis=0)\n",
    "new_ret_counts = np.sum(new_model.sim.ret_flag[:, :], axis=0)\n",
    "plot_bar_series_comparison(\n",
    "    og_ret_counts,\n",
    "    new_ret_counts,\n",
    "    label1=\"Old\",\n",
    "    label2=f\"New (retirement_age = {theta[0]})\",\n",
    "    title=\"Voluntary Retirements per Period\",\n",
    "    xlabel=\"Age (Period)\",\n",
    "    normalize=True,\n",
    "    save_title=\"counterfactual_retirement_counts.png\",\n",
    ")\n"
   ]
  },
  {
   "cell_type": "code",
   "execution_count": null,
   "id": "c2fff6b6",
   "metadata": {},
   "outputs": [],
   "source": [
    "plot_event_histogram(\n",
    "    values1=consumption_replacement_rate_fct(og_model),\n",
    "    values2=consumption_replacement_rate_fct(new_model),\n",
    "    xlabel=\"Age (Period)\",\n",
    "    title=\"Consumption Replacement Rate\",\n",
    "    label1=\"Old\",\n",
    "    label2=f'New ({theta_names[0]} = {theta[0]})',\n",
    "    bins=30,\n",
    "    save_title=\"counterfactual_consumption_replacement_histogram.png\",\n",
    ")"
   ]
  },
  {
   "cell_type": "code",
   "execution_count": null,
   "id": "ef38ac3b",
   "metadata": {},
   "outputs": [],
   "source": [
    "plt.plot(og_model.par.p_e_0)\n",
    "plt.plot(new_model.par.p_e_0)"
   ]
  },
  {
   "cell_type": "code",
   "execution_count": null,
   "id": "019f1676",
   "metadata": {},
   "outputs": [],
   "source": [
    "plt.plot(og_model.par.p_e_1)\n",
    "plt.plot(new_model.par.p_e_1)"
   ]
  },
  {
   "cell_type": "code",
   "execution_count": null,
   "id": "29b9927e",
   "metadata": {},
   "outputs": [],
   "source": [
    "plt.plot(og_model.par.p_e_2)\n",
    "plt.plot(new_model.par.p_e_2)"
   ]
  },
  {
   "cell_type": "code",
   "execution_count": null,
   "id": "7a923f4f",
   "metadata": {},
   "outputs": [],
   "source": [
    "plt.plot(np.mean(new_model.sim.ex, axis=0)-np.mean(og_model.sim.ex, axis=0))"
   ]
  },
  {
   "cell_type": "code",
   "execution_count": null,
   "id": "b1dd9ba8",
   "metadata": {},
   "outputs": [],
   "source": [
    "np.mean(new_model.sim.ex, axis=0)"
   ]
  },
  {
   "cell_type": "markdown",
   "id": "b13af9c3",
   "metadata": {},
   "source": [
    "# Comparison of retirement age"
   ]
  },
  {
   "cell_type": "markdown",
   "id": "5d43cb33",
   "metadata": {},
   "source": [
    "# replacement rates"
   ]
  },
  {
   "cell_type": "code",
   "execution_count": null,
   "id": "7e1f6231",
   "metadata": {},
   "outputs": [],
   "source": [
    "assert False"
   ]
  },
  {
   "cell_type": "markdown",
   "id": "182697fa",
   "metadata": {},
   "source": [
    "# Optimal retirement payments according to welfare"
   ]
  },
  {
   "cell_type": "code",
   "execution_count": null,
   "id": "ef9b9150",
   "metadata": {},
   "outputs": [],
   "source": [
    "def objective_func(tau_values, model):\n",
    "    time = np.arange(par.T)\n",
    "\n",
    "    constant, beta1, beta2 = tau_values\n",
    "\n",
    "    tau = np.maximum((constant + beta1*time + beta2*time**2) / 100, 0)\n",
    "\n",
    "    theta = [tau]\n",
    "    theta_names = ['tau']\n",
    "\n",
    "    og_model, new_model =  make_new_model(model, theta, theta_names, do_print = False)\n",
    "\n",
    "    consumption_eq = find_consumption_equivalence(og_model, new_model, do_print= False, the_method = 'brentq')\n",
    "\n",
    "    print(consumption_eq, tau_values)\n",
    "    return -consumption_eq\n",
    "\n",
    "tau_values_init = np.array([1.35e+01, 8.00e-02, 5.00e-04])\n",
    "\n",
    "bounds  = [(0,  30), \n",
    "           (-0.5,  0.5), \n",
    "           (-0.005,  0.005)]\n",
    "\n",
    "res = minimize(objective_func, tau_values_init, args=(model, ),  \n",
    "               method='Nelder-Mead', \n",
    "               bounds=bounds,\n",
    "               options={'maxiter': 500})\n",
    "\n",
    "print(res.x)"
   ]
  },
  {
   "cell_type": "markdown",
   "id": "9aecc9e7",
   "metadata": {},
   "source": [
    "# Optimal retirement payments according to welfare conditioning on pension being the same"
   ]
  },
  {
   "cell_type": "code",
   "execution_count": null,
   "id": "7ead49a6",
   "metadata": {},
   "outputs": [],
   "source": [
    "def objective_func(tau_values, model):\n",
    "    time = np.arange(par.T)\n",
    "\n",
    "    constant, beta1, beta2 = tau_values\n",
    "\n",
    "    tau = np.maximum((constant + beta1*time + beta2*time**2) / 100, 0)\n",
    "\n",
    "    theta = [tau]\n",
    "    theta_names = ['tau']\n",
    "\n",
    "    og_model, new_model =  make_new_model(model, theta, theta_names, do_print = False)\n",
    "\n",
    "    consumption_eq = find_consumption_equivalence(og_model, new_model, do_print= False, the_method = 'brentq')\n",
    "\n",
    "    if np.mean(og_model.sim.s[:, 35]) > np.mean(new_model.sim.s[:, 35]):\n",
    "        consumption_eq = -9999.9\n",
    "\n",
    "    print(consumption_eq, tau_values)\n",
    "    return -consumption_eq\n",
    "\n",
    "tau_values_init = np.array([ 2.0, 0.4,  0.001])\n",
    "\n",
    "bounds  = [(0,  30), \n",
    "           (-0.5,  0.5), \n",
    "           (-0.005,  0.005)]\n",
    "\n",
    "res = minimize(objective_func, tau_values_init, args=(model, ),  \n",
    "               method='Nelder-Mead', \n",
    "               bounds=bounds,\n",
    "               options={'maxiter': 500})\n",
    "\n",
    "print(res.x)"
   ]
  },
  {
   "cell_type": "code",
   "execution_count": null,
   "id": "dbaf54b0",
   "metadata": {},
   "outputs": [],
   "source": [
    "# constant, beta1, beta2 = np.array([ 1.46922503e+01, -2.31206543e-02,  6.27520107e-04]) # Current optimal giving 0.0065521344388923845 consumption eq.\n",
    "constant, beta1, beta2 = np.array([ 1.48536631e+01, -4.18610966e-02,  6.47243901e-04]) # Test start\n",
    "\n",
    "\n",
    "time = np.arange(par.T)\n",
    "\n",
    "tau = np.maximum((constant + beta1*time + beta2*time**2) / 100, 0)\n",
    "\n",
    "plt.plot(tau)\n",
    "plt.plot(par.tau)\n",
    "plt.show()\n"
   ]
  },
  {
   "cell_type": "code",
   "execution_count": null,
   "id": "a2844a42",
   "metadata": {},
   "outputs": [],
   "source": [
    "theta = [tau]\n",
    "theta_names = ['tau']\n",
    "\n",
    "og_model, new_model =  make_new_model(model, theta, theta_names, do_print = False)"
   ]
  },
  {
   "cell_type": "code",
   "execution_count": null,
   "id": "f583f44c",
   "metadata": {},
   "outputs": [],
   "source": [
    "a_dict = {\n",
    "    'hours': [np.nanmean(np.where(model.sim.ex == 1, model.sim.h, np.nan), axis=0)[:40],\n",
    "              moments['hours']],\n",
    "    'extensive': [np.mean(model.sim.ex, axis=0)[:40],\n",
    "                  moments['extensive']],\n",
    "    'illiquid': [np.clip(np.mean(model.sim.s, axis=0), 0, None),\n",
    "                 moments['savings']],\n",
    "    'liquid': [np.mean(model.sim.a, axis=0),\n",
    "               moments['assets']]\n",
    "}\n",
    "\n",
    "# set up 2x2 axes\n",
    "fig, axes = plt.subplots(2, 2, figsize=(12, 8))\n",
    "axes = axes.flatten()\n",
    "\n",
    "for ax, (key, (sim, emp)) in zip(axes, a_dict.items()):\n",
    "    x_vals = np.arange(len(emp)) + par.start_age\n",
    "\n",
    "    # real data: solid grey\n",
    "    ax.plot(x_vals, emp,\n",
    "            color='grey',\n",
    "            linestyle='-',\n",
    "            linewidth=2,\n",
    "            label=f\"Real {key.capitalize()}\")\n",
    "\n",
    "    # simulated data: darker dashed\n",
    "    ax.plot(x_vals, sim,\n",
    "            color='black',\n",
    "            linestyle='--',\n",
    "            linewidth=2,\n",
    "            label=f\"Simulated {key.capitalize()}\")\n",
    "\n",
    "    ax.set_xlabel(\"Age\")\n",
    "    ax.set_ylabel(key.capitalize())\n",
    "    ax.set_title(key.capitalize())\n",
    "    ax.grid(True)\n",
    "    ax.legend()\n",
    "\n",
    "fig.tight_layout()\n",
    "plt.show()\n"
   ]
  }
 ],
 "metadata": {
  "kernelspec": {
   "display_name": "s_speciale",
   "language": "python",
   "name": "python3"
  },
  "language_info": {
   "codemirror_mode": {
    "name": "ipython",
    "version": 3
   },
   "file_extension": ".py",
   "mimetype": "text/x-python",
   "name": "python",
   "nbconvert_exporter": "python",
   "pygments_lexer": "ipython3",
   "version": "3.13.1"
  }
 },
 "nbformat": 4,
 "nbformat_minor": 5
}
