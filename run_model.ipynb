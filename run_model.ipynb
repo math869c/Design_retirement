{
 "cells": [
  {
   "cell_type": "markdown",
   "metadata": {},
   "source": [
    "\n",
    "# The structure of this jupyter notebook:\n",
    "1. Load model\n",
    "2. Solve model\n",
    "3. Simulate model\n",
    "4. Plot model results \n",
    "\n",
    "    i. Average over age\n",
    "\n",
    "    ii. All simulation over age\n",
    "\n",
    "    iii. Solutions for each grid point over age (2D)\n",
    "    \n",
    "    iV. solutions for specific grid points in 3D\n",
    "\n",
    "5. Welfare analysis\n",
    "     \n",
    "    i. Replacement rate\n",
    "\n",
    "    ii. Consumption replacement rate\n",
    "\n",
    "    iii. Consumption equivalence"
   ]
  },
  {
   "cell_type": "markdown",
   "metadata": {},
   "source": [
    "# Load model "
   ]
  },
  {
   "cell_type": "code",
   "execution_count": null,
   "metadata": {},
   "outputs": [],
   "source": [
    "%load_ext autoreload\n",
    "%autoreload 2\n",
    "import numpy as np\n",
    "import matplotlib.pyplot as plt\n",
    "from mpl_toolkits import mplot3d\n",
    "from mpl_toolkits.mplot3d import Axes3D"
   ]
  },
  {
   "cell_type": "code",
   "execution_count": null,
   "metadata": {},
   "outputs": [],
   "source": [
    "# load local model file and initialize model class\n",
    "from model import ModelClass\n",
    "model = ModelClass() # set a few number of periods.\n",
    "\n",
    "\n",
    "par = model.par\n",
    "sol = model.sol\n",
    "sim = model.sim"
   ]
  },
  {
   "cell_type": "markdown",
   "metadata": {},
   "source": [
    "# Solve model"
   ]
  },
  {
   "cell_type": "code",
   "execution_count": null,
   "metadata": {},
   "outputs": [],
   "source": [
    "par.opt_tol = 1e-6\n",
    "par.opt_maxiter = 1000\n",
    "\n",
    "%time model.solve(do_print=True)"
   ]
  },
  {
   "cell_type": "markdown",
   "metadata": {},
   "source": [
    "# Simulate model"
   ]
  },
  {
   "cell_type": "code",
   "execution_count": null,
   "metadata": {},
   "outputs": [],
   "source": [
    "%time model.simulate()"
   ]
  },
  {
   "cell_type": "markdown",
   "metadata": {},
   "source": [
    "# Plot model results"
   ]
  },
  {
   "cell_type": "code",
   "execution_count": null,
   "metadata": {},
   "outputs": [],
   "source": [
    "time = np.arange(par.T)\n",
    "\n",
    "simulated_data = {\n",
    "    \"Wages (w)\": np.mean(model.sim.w[:], axis=0),\n",
    "    \"Assets (a)\": np.mean(model.sim.a[:], axis=0),\n",
    "    \"Consumption (c)\": np.mean(model.sim.c[:], axis=0),\n",
    "    \"Illiquid Savings (s)\": np.mean(model.sim.s[:], axis=0),\n",
    "}\n",
    "\n",
    "# Create a figure and plot each variable\n",
    "plt.figure(figsize=(12, 8))\n",
    "for label, data in simulated_data.items():\n",
    "    plt.plot(time, data, label=label)\n",
    "\n",
    "# Formatting\n",
    "plt.xlabel(\"Time Periods\")\n",
    "plt.ylabel(\"Value\")\n",
    "plt.title(\"Simulation Results Over Time\")\n",
    "plt.legend()\n",
    "plt.grid(True)\n",
    "\n",
    "# Show plot\n",
    "plt.show()\n",
    "# Create a 3x2 grid of subplots\n",
    "fig, axes = plt.subplots(4, 2, figsize=(12, 8))\n",
    "\n",
    "# Titles for the plots\n",
    "titles = [\n",
    "    \"Human Capital (k)\", \"Wages (w)\", \"Hours (hours)\", \n",
    "    \"Assets (a)\", \"Consumption (c)\", \"Illiquid Savings (s)\"\n",
    "]\n",
    "\n",
    "# Generate example data (replace with actual values)\n",
    "time = np.arange(par.T)\n",
    "data_dict = {\n",
    "    \"Human Capital (k)\": np.mean(model.sim.k[:], axis=0),\n",
    "    \"Wages (w)\": np.mean(model.sim.w[:], axis=0),\n",
    "    \"Hours (hours)\": np.mean(model.sim.h[:], axis=0),\n",
    "    \"Assets (a)\": np.mean(model.sim.a[:], axis=0),\n",
    "    \"Consumption (c)\": np.mean(model.sim.c[:], axis=0),\n",
    "    \"Illiquid Savings (s)\": np.mean(model.sim.s[:], axis=0),\n",
    "    \"Extensive Margin (ex)\": np.mean(model.sim.ex[:], axis=0),\n",
    "}\n",
    "# Plot each variable in its respective subplot\n",
    "for ax, (label, data) in zip(axes.flatten(), data_dict.items()):\n",
    "    ax.plot(time, data)\n",
    "    ax.set_title(label)\n",
    "    ax.set_xlabel(\"Time Periods\")\n",
    "    ax.set_ylabel(\"Value\")\n",
    "    ax.grid(True)\n",
    "\n",
    "# Adjust layout to prevent overlap\n",
    "plt.tight_layout()\n",
    "plt.show()\n"
   ]
  },
  {
   "cell_type": "code",
   "execution_count": null,
   "metadata": {},
   "outputs": [],
   "source": [
    "# Create a 3x2 grid of subplots\n",
    "fig, axes = plt.subplots(4, 2, figsize=(12, 8))\n",
    "\n",
    "# Titles for the plots\n",
    "titles = [\n",
    "    \"Human Capital (k)\", \"Wages (w)\", \"Hours (hours)\", \n",
    "    \"Assets (a)\", \"Consumption (c)\", \"Illiquid Savings (s)\"\n",
    "]\n",
    "\n",
    "# Generate example data (replace with actual values)\n",
    "time = np.arange(par.T)\n",
    "for i in range(1000):\n",
    "    data_dict = {\n",
    "        \"Human Capital (k)\": model.sim.k[i,:],\n",
    "        \"Wages (w)\": model.sim.w[i,:],\n",
    "        \"Hours (hours)\": model.sim.h[i,:],\n",
    "        \"Assets (a)\": model.sim.a[i,:],\n",
    "        \"Consumption (c)\": model.sim.c[i,:],\n",
    "        \"Illiquid Savings (s)\": model.sim.s[i,:],\n",
    "        \"Extensive Margin (ex)\": model.sim.ex[i,:],\n",
    "        \"Public benefit (chi)\": model.sim.chi_payment[i,:],\n",
    "    }\n",
    "    # Plot each variable in its respective subplot\n",
    "    for ax, (label, data) in zip(axes.flatten(), data_dict.items()):\n",
    "        ax.plot(time, data)\n",
    "        ax.set_title(label)\n",
    "        ax.set_xlabel(\"Time Periods\")\n",
    "        ax.set_ylabel(\"Value\")\n",
    "        ax.grid(True)\n",
    "\n",
    "# Adjust layout to prevent overlap\n",
    "plt.tight_layout()\n",
    "plt.show()"
   ]
  },
  {
   "cell_type": "code",
   "execution_count": null,
   "metadata": {},
   "outputs": [],
   "source": [
    "model.sol.c"
   ]
  },
  {
   "cell_type": "code",
   "execution_count": null,
   "metadata": {},
   "outputs": [],
   "source": [
    "plt.plot(model.sol.c[57,:,:,2])"
   ]
  },
  {
   "cell_type": "code",
   "execution_count": null,
   "metadata": {},
   "outputs": [],
   "source": [
    "model.sol.c[58,a,:,5]"
   ]
  },
  {
   "cell_type": "code",
   "execution_count": null,
   "metadata": {},
   "outputs": [],
   "source": [
    "par.EL"
   ]
  },
  {
   "cell_type": "code",
   "execution_count": null,
   "metadata": {},
   "outputs": [],
   "source": [
    "# Create a 3x2 grid of subplots\n",
    "fig, axes = plt.subplots(3, 2, figsize=(12, 8))\n",
    "\n",
    "# Titles for the plots\n",
    "titles = [\n",
    "    \"Human Capital (k)\", \"Wages (w)\", \"Hours (hours)\", \n",
    "    \"Assets (a)\", \"Consumption (c)\", \"Illiquid Savings (s)\"\n",
    "]\n",
    "\n",
    "# Generate example data (replace with actual values)\n",
    "time = np.arange(par.T)\n",
    "for s in range(par.N_s):\n",
    "    for k in range(par.N_k):\n",
    "        for a in range(par.N_a):\n",
    "            data_dict = {\n",
    "                \"Welfare (V)\": model.sol.V[:,a,s,k],\n",
    "                \"Hours (hours)\": model.sol.h[:,a,s,k],\n",
    "                \"Assets (a)\": model.sol.a[:,a,s,k],\n",
    "                \"Consumption (c)\": model.sol.c[:,a,s,k],\n",
    "                \"Consumption, unemployed (c_un)\": model.sol.c_un[:,a,s,k],\n",
    "                \"Extensive Margin (ex)\": model.sol.ex[:,a,s,k],\n",
    "            }\n",
    "    # Plot each variable in its respective subplot\n",
    "    for ax, (label, data) in zip(axes.flatten(), data_dict.items()):\n",
    "        ax.plot(time, data)\n",
    "        ax.set_title(label)\n",
    "        ax.set_xlabel(\"Time Periods\")\n",
    "        ax.set_ylabel(\"Value\")\n",
    "        ax.grid(True)\n",
    "\n",
    "# Adjust layout to prevent overlap\n",
    "plt.tight_layout()\n",
    "plt.show()"
   ]
  },
  {
   "cell_type": "code",
   "execution_count": null,
   "metadata": {},
   "outputs": [],
   "source": [
    "# Choose a fixed k index (e.g., middle of the k_grid)\n",
    "k_idx = 2\n",
    "k_fixed = par.k_grid[k_idx]  \n",
    "\n",
    "# Extract the meshgrid for plotting\n",
    "a_mesh, s_mesh = np.meshgrid(par.a_grid, par.s_grid, indexing='ij')\n",
    "\n",
    "# Extract solutions at time t and fixed k\n",
    "t = 30\n",
    "c_plot = sol.c[t, :, :, k_idx]  # Fix k_idx\n",
    "h_plot = sol.h[t, :, :, k_idx]\n",
    "V_plot = sol.V[t, :, :, k_idx]\n",
    "\n",
    "# Plot consumption\n",
    "fig = plt.figure()\n",
    "ax = plt.axes(projection='3d')\n",
    "ax.plot_surface(a_mesh, s_mesh, c_plot, rstride=1, cstride=1, cmap='viridis', edgecolor='none', alpha=0.75)\n",
    "ax.set(xlabel='Liquid assets, $a_{T}$', ylabel='Illiquid assets, $s_T$', zlabel='Consumption, $c_{T}^{\\star}$', title=f'Consumption at $k_T = {k_fixed:.2f}$')\n",
    "\n",
    "# Plot labor supply\n",
    "fig = plt.figure()\n",
    "ax = plt.axes(projection='3d')\n",
    "ax.plot_surface(a_mesh, s_mesh, h_plot, rstride=1, cstride=1, cmap='viridis', edgecolor='none', alpha=0.75)\n",
    "ax.set(xlabel='Liquid assets, $a_{T}$', ylabel='Illiquid assets, $s_T$', zlabel='Hours, $h_{T}^{\\star}$', title=f'Labor Supply at $k_T = {k_fixed:.2f}$')\n",
    "\n",
    "# Plot value function\n",
    "fig = plt.figure()\n",
    "ax = plt.axes(projection='3d')\n",
    "ax.plot_surface(a_mesh, s_mesh, V_plot, rstride=1, cstride=1, cmap='viridis', edgecolor='none', alpha=0.75)\n",
    "ax.set(xlabel='Liquid assets, $a_{T}$', ylabel='Illiquid assets, $s_T$', zlabel='Value, $V_{T}$', title=f'Value Function at $k_T = {k_fixed:.2f}$')\n",
    "\n",
    "plt.show()\n"
   ]
  },
  {
   "cell_type": "markdown",
   "metadata": {},
   "source": [
    "# Welfare, \n",
    "1. Replacement rate\n",
    "2. Consumption replacement rate\n",
    "3. Calculate consumption equivalence"
   ]
  },
  {
   "cell_type": "code",
   "execution_count": null,
   "metadata": {},
   "outputs": [],
   "source": [
    "# Create the histogram\n",
    "plt.figure(figsize=(8, 5))  # Set the figure size\n",
    "plt.hist(sim.replacement_rate, bins=30, color='skyblue', edgecolor='black')\n",
    "\n",
    "# Add titles and labels\n",
    "plt.title(\"Replacement Rate Distribution\")\n",
    "plt.xlabel(\"Replacement Rate\")\n",
    "plt.ylabel(\"Frequency\")\n",
    "plt.grid(axis='y', linestyle='--', alpha=0.7)  # Add a light grid for better visualization\n",
    "\n",
    "# Display the histogram\n",
    "plt.show()"
   ]
  },
  {
   "cell_type": "code",
   "execution_count": null,
   "metadata": {},
   "outputs": [],
   "source": [
    "# Create the histogram\n",
    "plt.figure(figsize=(8, 5))  # Set the figure size\n",
    "plt.hist(sim.consumption_replacement_rate, bins=30, color='skyblue', edgecolor='black')\n",
    "\n",
    "# Add titles and labels\n",
    "plt.title(\"Consumption replacement Rate Distribution\")\n",
    "plt.xlabel(\"Consumption replacement Rate\")\n",
    "plt.ylabel(\"Frequency\")\n",
    "plt.grid(axis='y', linestyle='--', alpha=0.7)  # Add a light grid for better visualization\n",
    "\n",
    "# Display the histogram\n",
    "plt.show()"
   ]
  },
  {
   "cell_type": "code",
   "execution_count": null,
   "metadata": {},
   "outputs": [],
   "source": [
    "theta = [40, 0.05]\n",
    "theta_names = ['retirement_age', 'r_s']\n",
    "c_equivalent = model.find_consumption_equivalence(theta,theta_names, do_print=True)"
   ]
  }
 ],
 "metadata": {
  "kernelspec": {
   "display_name": "base",
   "language": "python",
   "name": "python3"
  },
  "language_info": {
   "codemirror_mode": {
    "name": "ipython",
    "version": 3
   },
   "file_extension": ".py",
   "mimetype": "text/x-python",
   "name": "python",
   "nbconvert_exporter": "python",
   "pygments_lexer": "ipython3",
   "version": "3.12.7"
  }
 },
 "nbformat": 4,
 "nbformat_minor": 2
}
