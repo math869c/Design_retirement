{
 "cells": [
  {
   "cell_type": "markdown",
   "metadata": {},
   "source": [
    "\n",
    "# The structure of this jupyter notebook:\n",
    "1. Load model\n",
    "2. Solve model\n",
    "3. Simulate model\n",
    "4. Plot model results \n",
    "\n",
    "    i. Average over age\n",
    "\n",
    "    ii. All simulation over age\n",
    "\n",
    "    iii. Solutions for each grid point over age (2D)\n",
    "    \n",
    "    iV. solutions for specific grid points in 3D\n",
    "\n",
    "5. Welfare analysis\n",
    "     \n",
    "    i. Replacement rate\n",
    "\n",
    "    ii. Consumption replacement rate\n",
    "\n",
    "    iii. Consumption equivalence"
   ]
  },
  {
   "cell_type": "markdown",
   "metadata": {},
   "source": [
    "# Load model "
   ]
  },
  {
   "cell_type": "code",
   "execution_count": 1,
   "metadata": {},
   "outputs": [],
   "source": [
    "%load_ext autoreload\n",
    "%autoreload 2\n",
    "import numpy as np\n",
    "import matplotlib.pyplot as plt\n",
    "from mpl_toolkits import mplot3d\n",
    "from mpl_toolkits.mplot3d import Axes3D\n",
    "from WelfareMeasures import *\n",
    "from functions_njit import tax_rate_fct\n",
    "from bernoulli_distribution import *\n",
    "\n",
    "# load local model file and initialize model class\n",
    "from model import ModelClass"
   ]
  },
  {
   "cell_type": "code",
   "execution_count": 2,
   "metadata": {},
   "outputs": [],
   "source": [
    "model = ModelClass() # set a few number of periods.\n",
    "\n",
    "par = model.par\n",
    "sol = model.sol\n",
    "sim = model.sim"
   ]
  },
  {
   "cell_type": "markdown",
   "metadata": {},
   "source": [
    "# Solve model"
   ]
  },
  {
   "cell_type": "code",
   "execution_count": null,
   "metadata": {},
   "outputs": [
    {
     "name": "stderr",
     "output_type": "stream",
     "text": [
      "Traceback (most recent call last):\n",
      "  File \"c:\\Design_retirement\\model.py\", line 246, in solve\n",
      "    sol.c[:, :, :, :, :, :], sol.h[:, :, :, :, :, :], sol.ex[:, :, :, :, :, :], sol.V[:, :, :, :, :, :], sol.a[:, :, :, :, :, :] = main_solver_loop(par, sol, do_print)\n",
      "                                                                                                                                   ~~~~~~~~~~~~~~~~^^^^^^^^^^^^^^^^^^^^\n",
      "  File \"c:\\Design_retirement\\functions_njit.py\", line 382, in main_solver_loop\n",
      "    c_star = optimizer(\n",
      "        obj_consumption_after_retirement,\n",
      "    ...<3 lines>...\n",
      "        tol=par.opt_tol\n",
      "    )\n",
      "  File \"c:\\Design_retirement\\optimizers.py\", line 63, in optimizer\n",
      "    yd = obj(d,*args)\n",
      "  File \"c:\\Design_retirement\\functions_njit.py\", line 302, in obj_consumption_after_retirement\n",
      "    return -value_function_after_retirement(par, sol_V, c, a, s, e, r, t)\n",
      "            ~~~~~~~~~~~~~~~~~~~~~~~~~~~~~~~^^^^^^^^^^^^^^^^^^^^^^^^^^^^^^\n",
      "  File \"c:\\Design_retirement\\functions_njit.py\", line 271, in value_function_after_retirement\n",
      "    income, _ = final_income_and_retirement_contri(par, a, s, k, h, e, r, t)\n",
      "                ~~~~~~~~~~~~~~~~~~~~~~~~~~~~~~~~~~^^^^^^^^^^^^^^^^^^^^^^^^^^\n",
      "  File \"c:\\Design_retirement\\functions_njit.py\", line 170, in final_income_and_retirement_contri\n",
      "    tax_rate = tax_rate_fct(par, a, s, k, h, e, r, t)\n",
      "  File \"c:\\Design_retirement\\functions_njit.py\", line 121, in tax_rate_fct\n",
      "    total_income = income_private_fct(par, a, s, k, h, e, r, t)\n",
      "  File \"c:\\Design_retirement\\functions_njit.py\", line 102, in income_private_fct\n",
      "    s_lr, s_rp = calculate_retirement_payouts(par, s, r, t)\n",
      "                 ~~~~~~~~~~~~~~~~~~~~~~~~~~~~^^^^^^^^^^^^^^\n",
      "  File \"c:\\Design_retirement\\functions_njit.py\", line 45, in calculate_retirement_payouts\n",
      "    EL = round(sum(np.cumprod(par.pi_el[r:])*np.arange(r,par.T))/(par.T-r),0)\n",
      "                                             ~~~~~~~~~^^^^^^^^^\n",
      "KeyboardInterrupt\n"
     ]
    },
    {
     "ename": "KeyboardInterrupt",
     "evalue": "",
     "output_type": "error",
     "traceback": [
      "\u001b[1;31m---------------------------------------------------------------------------\u001b[0m",
      "\u001b[1;31mKeyboardInterrupt\u001b[0m                         Traceback (most recent call last)",
      "File \u001b[1;32m<timed eval>:1\u001b[0m\n",
      "File \u001b[1;32mc:\\Design_retirement\\model.py:246\u001b[0m, in \u001b[0;36mModelClass.solve\u001b[1;34m(self, do_print)\u001b[0m\n\u001b[0;32m    243\u001b[0m par \u001b[38;5;241m=\u001b[39m model\u001b[38;5;241m.\u001b[39mpar\n\u001b[0;32m    244\u001b[0m sol \u001b[38;5;241m=\u001b[39m model\u001b[38;5;241m.\u001b[39msol\n\u001b[1;32m--> 246\u001b[0m sol\u001b[38;5;241m.\u001b[39mc[:, :, :, :, :, :], sol\u001b[38;5;241m.\u001b[39mh[:, :, :, :, :, :], sol\u001b[38;5;241m.\u001b[39mex[:, :, :, :, :, :], sol\u001b[38;5;241m.\u001b[39mV[:, :, :, :, :, :], sol\u001b[38;5;241m.\u001b[39ma[:, :, :, :, :, :] \u001b[38;5;241m=\u001b[39m \u001b[43mmain_solver_loop\u001b[49m\u001b[43m(\u001b[49m\u001b[43mpar\u001b[49m\u001b[43m,\u001b[49m\u001b[43m \u001b[49m\u001b[43msol\u001b[49m\u001b[43m,\u001b[49m\u001b[43m \u001b[49m\u001b[43mdo_print\u001b[49m\u001b[43m)\u001b[49m\n",
      "File \u001b[1;32mc:\\Design_retirement\\functions_njit.py:382\u001b[0m, in \u001b[0;36mmain_solver_loop\u001b[1;34m(par, sol, do_print)\u001b[0m\n\u001b[0;32m    378\u001b[0m \u001b[38;5;28;01melif\u001b[39;00m t \u001b[38;5;241m>\u001b[39m retirement_age: \u001b[38;5;66;03m# After retirement age, with \"ratepension\"\u001b[39;00m\n\u001b[0;32m    380\u001b[0m     bc_min, bc_max \u001b[38;5;241m=\u001b[39m budget_constraint(par, hours_unemp, assets, savings, human_capital_unemp, e_unemployed, retirement_age, t)\n\u001b[1;32m--> 382\u001b[0m     c_star \u001b[38;5;241m=\u001b[39m \u001b[43moptimizer\u001b[49m\u001b[43m(\u001b[49m\n\u001b[0;32m    383\u001b[0m \u001b[43m        \u001b[49m\u001b[43mobj_consumption_after_retirement\u001b[49m\u001b[43m,\u001b[49m\n\u001b[0;32m    384\u001b[0m \u001b[43m        \u001b[49m\u001b[43mbc_min\u001b[49m\u001b[43m,\u001b[49m\n\u001b[0;32m    385\u001b[0m \u001b[43m        \u001b[49m\u001b[43mbc_max\u001b[49m\u001b[43m,\u001b[49m\n\u001b[0;32m    386\u001b[0m \u001b[43m        \u001b[49m\u001b[43margs\u001b[49m\u001b[38;5;241;43m=\u001b[39;49m\u001b[43m(\u001b[49m\u001b[43mpar\u001b[49m\u001b[43m,\u001b[49m\u001b[43m \u001b[49m\u001b[43msol_V\u001b[49m\u001b[43m,\u001b[49m\u001b[43m \u001b[49m\u001b[43massets\u001b[49m\u001b[43m,\u001b[49m\u001b[43m \u001b[49m\u001b[43msavings\u001b[49m\u001b[43m,\u001b[49m\u001b[43m \u001b[49m\u001b[43me_unemployed\u001b[49m\u001b[43m,\u001b[49m\u001b[43m \u001b[49m\u001b[43mretirement_age\u001b[49m\u001b[43m,\u001b[49m\u001b[43m \u001b[49m\u001b[43mt\u001b[49m\u001b[43m)\u001b[49m\u001b[43m,\u001b[49m\n\u001b[0;32m    387\u001b[0m \u001b[43m        \u001b[49m\u001b[43mtol\u001b[49m\u001b[38;5;241;43m=\u001b[39;49m\u001b[43mpar\u001b[49m\u001b[38;5;241;43m.\u001b[39;49m\u001b[43mopt_tol\u001b[49m\n\u001b[0;32m    388\u001b[0m \u001b[43m    \u001b[49m\u001b[43m)\u001b[49m\n\u001b[0;32m    389\u001b[0m     income, _ \u001b[38;5;241m=\u001b[39m final_income_and_retirement_contri(par, assets, savings, human_capital_unemp, hours_unemp, e_unemployed, retirement_age, t)\n\u001b[0;32m    390\u001b[0m     cash_on_hand \u001b[38;5;241m=\u001b[39m assets \u001b[38;5;241m+\u001b[39m income\n",
      "File \u001b[1;32mc:\\Design_retirement\\optimizers.py:63\u001b[0m, in \u001b[0;36moptimizer\u001b[1;34m(obj, a, b, args, tol)\u001b[0m\n\u001b[0;32m     61\u001b[0m         dist \u001b[38;5;241m=\u001b[39m inv_phi\u001b[38;5;241m*\u001b[39mdist\n\u001b[0;32m     62\u001b[0m         d \u001b[38;5;241m=\u001b[39m a \u001b[38;5;241m+\u001b[39m inv_phi \u001b[38;5;241m*\u001b[39m dist\n\u001b[1;32m---> 63\u001b[0m         yd \u001b[38;5;241m=\u001b[39m \u001b[43mobj\u001b[49m\u001b[43m(\u001b[49m\u001b[43md\u001b[49m\u001b[43m,\u001b[49m\u001b[38;5;241;43m*\u001b[39;49m\u001b[43margs\u001b[49m\u001b[43m)\u001b[49m\n\u001b[0;32m     65\u001b[0m \u001b[38;5;66;03m# e. return\u001b[39;00m\n\u001b[0;32m     66\u001b[0m \u001b[38;5;28;01mif\u001b[39;00m yc \u001b[38;5;241m<\u001b[39m yd:\n",
      "File \u001b[1;32mc:\\Design_retirement\\functions_njit.py:302\u001b[0m, in \u001b[0;36mobj_consumption_after_retirement\u001b[1;34m(c, par, sol_V, a, s, e, r, t)\u001b[0m\n\u001b[0;32m    300\u001b[0m \u001b[38;5;129m@jit_if_enabled\u001b[39m()\n\u001b[0;32m    301\u001b[0m \u001b[38;5;28;01mdef\u001b[39;00m\u001b[38;5;250m \u001b[39m\u001b[38;5;21mobj_consumption_after_retirement\u001b[39m(c, par, sol_V, a, s, e, r, t):\n\u001b[1;32m--> 302\u001b[0m     \u001b[38;5;28;01mreturn\u001b[39;00m \u001b[38;5;241m-\u001b[39m\u001b[43mvalue_function_after_retirement\u001b[49m\u001b[43m(\u001b[49m\u001b[43mpar\u001b[49m\u001b[43m,\u001b[49m\u001b[43m \u001b[49m\u001b[43msol_V\u001b[49m\u001b[43m,\u001b[49m\u001b[43m \u001b[49m\u001b[43mc\u001b[49m\u001b[43m,\u001b[49m\u001b[43m \u001b[49m\u001b[43ma\u001b[49m\u001b[43m,\u001b[49m\u001b[43m \u001b[49m\u001b[43ms\u001b[49m\u001b[43m,\u001b[49m\u001b[43m \u001b[49m\u001b[43me\u001b[49m\u001b[43m,\u001b[49m\u001b[43m \u001b[49m\u001b[43mr\u001b[49m\u001b[43m,\u001b[49m\u001b[43m \u001b[49m\u001b[43mt\u001b[49m\u001b[43m)\u001b[49m\n",
      "File \u001b[1;32mc:\\Design_retirement\\functions_njit.py:271\u001b[0m, in \u001b[0;36mvalue_function_after_retirement\u001b[1;34m(par, sol_V, c, a, s, e, r, t)\u001b[0m\n\u001b[0;32m    269\u001b[0m h, k  \u001b[38;5;241m=\u001b[39m \u001b[38;5;241m0.0\u001b[39m, \u001b[38;5;241m0.0\u001b[39m\n\u001b[0;32m    270\u001b[0m k_idx \u001b[38;5;241m=\u001b[39m \u001b[38;5;241m0\u001b[39m\n\u001b[1;32m--> 271\u001b[0m income, _ \u001b[38;5;241m=\u001b[39m \u001b[43mfinal_income_and_retirement_contri\u001b[49m\u001b[43m(\u001b[49m\u001b[43mpar\u001b[49m\u001b[43m,\u001b[49m\u001b[43m \u001b[49m\u001b[43ma\u001b[49m\u001b[43m,\u001b[49m\u001b[43m \u001b[49m\u001b[43ms\u001b[49m\u001b[43m,\u001b[49m\u001b[43m \u001b[49m\u001b[43mk\u001b[49m\u001b[43m,\u001b[49m\u001b[43m \u001b[49m\u001b[43mh\u001b[49m\u001b[43m,\u001b[49m\u001b[43m \u001b[49m\u001b[43me\u001b[49m\u001b[43m,\u001b[49m\u001b[43m \u001b[49m\u001b[43mr\u001b[49m\u001b[43m,\u001b[49m\u001b[43m \u001b[49m\u001b[43mt\u001b[49m\u001b[43m)\u001b[49m\n\u001b[0;32m    273\u001b[0m \u001b[38;5;66;03m# Next period states \u001b[39;00m\n\u001b[0;32m    274\u001b[0m a_next \u001b[38;5;241m=\u001b[39m (\u001b[38;5;241m1\u001b[39m\u001b[38;5;241m+\u001b[39mpar\u001b[38;5;241m.\u001b[39mr_a)\u001b[38;5;241m*\u001b[39m(a \u001b[38;5;241m+\u001b[39m income \u001b[38;5;241m-\u001b[39m c)\n",
      "File \u001b[1;32mc:\\Design_retirement\\functions_njit.py:170\u001b[0m, in \u001b[0;36mfinal_income_and_retirement_contri\u001b[1;34m(par, a, s, k, h, e, r, t)\u001b[0m\n\u001b[0;32m    167\u001b[0m chi \u001b[38;5;241m=\u001b[39m public_benefit_fct(par, h, e, income_private, t)\n\u001b[0;32m    169\u001b[0m \u001b[38;5;66;03m# Tax rate and retirement contribution\u001b[39;00m\n\u001b[1;32m--> 170\u001b[0m tax_rate \u001b[38;5;241m=\u001b[39m \u001b[43mtax_rate_fct\u001b[49m\u001b[43m(\u001b[49m\u001b[43mpar\u001b[49m\u001b[43m,\u001b[49m\u001b[43m \u001b[49m\u001b[43ma\u001b[49m\u001b[43m,\u001b[49m\u001b[43m \u001b[49m\u001b[43ms\u001b[49m\u001b[43m,\u001b[49m\u001b[43m \u001b[49m\u001b[43mk\u001b[49m\u001b[43m,\u001b[49m\u001b[43m \u001b[49m\u001b[43mh\u001b[49m\u001b[43m,\u001b[49m\u001b[43m \u001b[49m\u001b[43me\u001b[49m\u001b[43m,\u001b[49m\u001b[43m \u001b[49m\u001b[43mr\u001b[49m\u001b[43m,\u001b[49m\u001b[43m \u001b[49m\u001b[43mt\u001b[49m\u001b[43m)\u001b[49m\n\u001b[0;32m    171\u001b[0m retirement_contribution \u001b[38;5;241m=\u001b[39m retirement_contribution_fct(par, a, s, k, h, r, t)\n\u001b[0;32m    172\u001b[0m \u001b[38;5;28;01mif\u001b[39;00m t \u001b[38;5;241m>\u001b[39m\u001b[38;5;241m=\u001b[39m r:\n\u001b[0;32m    173\u001b[0m     \u001b[38;5;66;03m# income after taxes&contributions\u001b[39;00m\n",
      "File \u001b[1;32mc:\\Design_retirement\\functions_njit.py:121\u001b[0m, in \u001b[0;36mtax_rate_fct\u001b[1;34m(par, a, s, k, h, e, r, t)\u001b[0m\n\u001b[0;32m    118\u001b[0m \u001b[38;5;129m@jit_if_enabled\u001b[39m(fastmath\u001b[38;5;241m=\u001b[39m\u001b[38;5;28;01mTrue\u001b[39;00m)\n\u001b[0;32m    119\u001b[0m \u001b[38;5;28;01mdef\u001b[39;00m\u001b[38;5;250m \u001b[39m\u001b[38;5;21mtax_rate_fct\u001b[39m(par, a, s, k, h, e, r, t):\n\u001b[1;32m--> 121\u001b[0m     total_income \u001b[38;5;241m=\u001b[39m \u001b[43mincome_private_fct\u001b[49m\u001b[43m(\u001b[49m\u001b[43mpar\u001b[49m\u001b[43m,\u001b[49m\u001b[43m \u001b[49m\u001b[43ma\u001b[49m\u001b[43m,\u001b[49m\u001b[43m \u001b[49m\u001b[43ms\u001b[49m\u001b[43m,\u001b[49m\u001b[43m \u001b[49m\u001b[43mk\u001b[49m\u001b[43m,\u001b[49m\u001b[43m \u001b[49m\u001b[43mh\u001b[49m\u001b[43m,\u001b[49m\u001b[43m \u001b[49m\u001b[43me\u001b[49m\u001b[43m,\u001b[49m\u001b[43m \u001b[49m\u001b[43mr\u001b[49m\u001b[43m,\u001b[49m\u001b[43m \u001b[49m\u001b[43mt\u001b[49m\u001b[43m)\u001b[49m\n\u001b[0;32m    123\u001b[0m     am_aar \u001b[38;5;241m=\u001b[39m total_income \u001b[38;5;241m*\u001b[39m par\u001b[38;5;241m.\u001b[39mam_sats\n\u001b[0;32m    124\u001b[0m     personlignd_aar \u001b[38;5;241m=\u001b[39m (total_income \u001b[38;5;241m-\u001b[39m am_aar)\n",
      "File \u001b[1;32mc:\\Design_retirement\\functions_njit.py:102\u001b[0m, in \u001b[0;36mincome_private_fct\u001b[1;34m(par, a, s, k, h, e, r, t)\u001b[0m\n\u001b[0;32m    100\u001b[0m \u001b[38;5;66;03m# Retirement payouts\u001b[39;00m\n\u001b[0;32m    101\u001b[0m \u001b[38;5;28;01mif\u001b[39;00m t \u001b[38;5;241m>\u001b[39m\u001b[38;5;241m=\u001b[39m r:\n\u001b[1;32m--> 102\u001b[0m     s_lr, s_rp \u001b[38;5;241m=\u001b[39m \u001b[43mcalculate_retirement_payouts\u001b[49m\u001b[43m(\u001b[49m\u001b[43mpar\u001b[49m\u001b[43m,\u001b[49m\u001b[43m \u001b[49m\u001b[43ms\u001b[49m\u001b[43m,\u001b[49m\u001b[43m \u001b[49m\u001b[43mr\u001b[49m\u001b[43m,\u001b[49m\u001b[43m \u001b[49m\u001b[43mt\u001b[49m\u001b[43m)\u001b[49m\n\u001b[0;32m    103\u001b[0m \u001b[38;5;28;01melse\u001b[39;00m :\n\u001b[0;32m    104\u001b[0m     s_lr, s_rp \u001b[38;5;241m=\u001b[39m \u001b[38;5;241m0.0\u001b[39m, \u001b[38;5;241m0.0\u001b[39m\n",
      "File \u001b[1;32mc:\\Design_retirement\\functions_njit.py:45\u001b[0m, in \u001b[0;36mcalculate_retirement_payouts\u001b[1;34m(par, s, r, t)\u001b[0m\n\u001b[0;32m     43\u001b[0m \u001b[38;5;250m\u001b[39m\u001b[38;5;124;03m\"\"\"Calculate retirement payouts: can be split into 3 periods: before retirement, during installment and annuity, and only annuity\"\"\"\u001b[39;00m\n\u001b[0;32m     44\u001b[0m \u001b[38;5;28;01mif\u001b[39;00m t \u001b[38;5;241m>\u001b[39m\u001b[38;5;241m=\u001b[39m r \u001b[38;5;241m+\u001b[39m par\u001b[38;5;241m.\u001b[39mm:\n\u001b[1;32m---> 45\u001b[0m     EL \u001b[38;5;241m=\u001b[39m \u001b[38;5;28mround\u001b[39m(\u001b[38;5;28msum\u001b[39m(np\u001b[38;5;241m.\u001b[39mcumprod(par\u001b[38;5;241m.\u001b[39mpi_el[r:])\u001b[38;5;241m*\u001b[39m\u001b[43mnp\u001b[49m\u001b[38;5;241;43m.\u001b[39;49m\u001b[43marange\u001b[49m\u001b[43m(\u001b[49m\u001b[43mr\u001b[49m\u001b[43m,\u001b[49m\u001b[43mpar\u001b[49m\u001b[38;5;241;43m.\u001b[39;49m\u001b[43mT\u001b[49m\u001b[43m)\u001b[49m)\u001b[38;5;241m/\u001b[39m(par\u001b[38;5;241m.\u001b[39mT\u001b[38;5;241m-\u001b[39mr),\u001b[38;5;241m0\u001b[39m)\n\u001b[0;32m     46\u001b[0m     \u001b[38;5;66;03m# EL = 22.3\u001b[39;00m\n\u001b[0;32m     47\u001b[0m     s_retirement \u001b[38;5;241m=\u001b[39m s\n",
      "\u001b[1;31mKeyboardInterrupt\u001b[0m: "
     ]
    }
   ],
   "source": [
    "par.opt_tol = 1e-6\n",
    "par.opt_maxiter = 1000\n",
    "\n",
    "%time model.solve(do_print=True)"
   ]
  },
  {
   "cell_type": "markdown",
   "metadata": {},
   "source": [
    "\n",
    "# Simulate model"
   ]
  },
  {
   "cell_type": "code",
   "execution_count": null,
   "metadata": {},
   "outputs": [],
   "source": [
    "%time model.simulate()"
   ]
  },
  {
   "cell_type": "markdown",
   "metadata": {},
   "source": [
    "# Plot model results"
   ]
  },
  {
   "cell_type": "code",
   "execution_count": null,
   "metadata": {},
   "outputs": [],
   "source": [
    "time = np.arange(par.T)\n",
    "\n",
    "simulated_data = {\n",
    "    \"Wages (w)\": np.mean(model.sim.w[:], axis=0),\n",
    "    \"Assets (a)\": np.mean(model.sim.a[:], axis=0),\n",
    "    \"Consumption (c)\": np.mean(model.sim.c[:], axis=0),\n",
    "    \"Illiquid Savings (s)\": np.mean(model.sim.s[:], axis=0),\n",
    "}\n",
    "\n",
    "# Create a figure and plot each variable\n",
    "plt.figure(figsize=(12, 8))\n",
    "for label, data in simulated_data.items():\n",
    "    plt.plot(time, data, label=label)\n",
    "\n",
    "# Formatting\n",
    "plt.xlabel(\"Time Periods\")\n",
    "plt.ylabel(\"Value\")\n",
    "plt.title(\"Simulation Results Over Time\")\n",
    "plt.legend()\n",
    "plt.grid(True)\n",
    "\n",
    "# Show plot\n",
    "plt.show()\n",
    "# Create a 3x2 grid of subplots\n",
    "fig, axes = plt.subplots(5, 2, figsize=(12, 8))\n",
    "\n",
    "# Titles for the plots\n",
    "titles = [\n",
    "    \"Human Capital (k)\", \"Wages (w)\", \"Hours (hours)\", \n",
    "    \"Assets (a)\", \"Consumption (c)\", \"Illiquid Savings (s)\"\n",
    "]\n",
    "\n",
    "# Generate example data (replace with actual values)\n",
    "time = np.arange(par.T)\n",
    "data_dict = {\n",
    "    \"Human Capital (k)\": np.mean(model.sim.k[:], axis=0),\n",
    "    \"Wages (w)\": np.mean(model.sim.w[:], axis=0),\n",
    "    \"Hours (hours)\": np.nanmean(np.where(model.sim.ex == 1, model.sim.h, np.nan),axis=0),\n",
    "    \"Assets (a)\": np.mean(model.sim.a[:], axis=0),\n",
    "    \"Consumption (c)\": np.mean(model.sim.c[:], axis=0),\n",
    "    \"Illiquid Savings (s)\": np.mean(model.sim.s[:], axis=0),\n",
    "    \"Extensive Margin (ex)\": np.mean(model.sim.ex[:], axis=0),\n",
    "    \"Tax rate (tax_rate)\": np.mean(model.sim.tax_rate[:,:], axis=0),\n",
    "    \"Wages after taxes\": np.mean((1-model.sim.tax_rate[:,:])*model.sim.w[:,:], axis=0),\n",
    "}\n",
    "# Plot each variable in its respective subplot\n",
    "for ax, (label, data) in zip(axes.flatten(), data_dict.items()):\n",
    "    ax.plot(time, data)\n",
    "    ax.set_title(label)\n",
    "    ax.set_xlabel(\"Time Periods\")\n",
    "    ax.set_ylabel(\"Value\")\n",
    "    ax.grid(True)\n",
    "\n",
    "# Adjust layout to prevent overlap\n",
    "plt.tight_layout()\n",
    "plt.show()\n"
   ]
  },
  {
   "cell_type": "code",
   "execution_count": null,
   "metadata": {},
   "outputs": [],
   "source": [
    "# Create a 3x2 grid of subplots\n",
    "fig, axes = plt.subplots(3, 2, figsize=(12, 8))\n",
    "\n",
    "# Titles for the plots\n",
    "titles = [\n",
    "    \"Human Capital (k)\", \"Wages (w)\", \"Hours (hours)\", \n",
    "    \"Assets (a)\", \"Consumption (c)\", \"Illiquid Savings (s)\"\n",
    "]\n",
    "\n",
    "t_end = par.T\n",
    "\n",
    "# Generate example data (replace with actual values)\n",
    "time = np.arange(t_end)\n",
    "for s in range(par.N_s):\n",
    "    for k in range(par.N_k):\n",
    "        for a in range(par.N_a):\n",
    "            for e in range(len(par.e_grid)):\n",
    "                data_dict = {\n",
    "                    \"Welfare (V)\": model.sol.V[:t_end,a,s,k,:,1],\n",
    "                    \"Hours (hours)\": model.sol.h[:t_end,a,s,k,:,1],\n",
    "                    \"Extensive Margin (ex)\": model.sol.ex[:t_end,a,s,k,:,1],\n",
    "                    \"Consumption (c)\": model.sol.c[:t_end,a,s,k,:,1],  \n",
    "                    \"assets (a)\": model.sol.a[:t_end,0,s,k,:,1],                   \n",
    "                }\n",
    "    # Plot each variable in its respective subplot\n",
    "        for ax, (label, data) in zip(axes.flatten(), data_dict.items()):\n",
    "            ax.plot(time, data)\n",
    "            ax.set_title(label)\n",
    "            ax.set_xlabel(\"Time Periods\")\n",
    "            ax.set_ylabel(\"Value\")\n",
    "            ax.grid(True)\n",
    "\n",
    "# Adjust layout to prevent overlap\n",
    "plt.tight_layout()\n",
    "plt.show()"
   ]
  },
  {
   "cell_type": "code",
   "execution_count": null,
   "metadata": {},
   "outputs": [],
   "source": [
    "# Plot the histogram with shares instead of counts\n",
    "plt.figure(figsize=(10, 6))\n",
    "self_retirement = sim.ex.shape[1] - 1 - np.fliplr(sim.ex).argmax(axis=1)\n",
    "# Define bins\n",
    "bins = range(int(np.nanmin(self_retirement)), int(np.nanmax(self_retirement)) + 1)\n",
    "\n",
    "# Normalize histogram\n",
    "plt.hist(self_retirement, bins=bins, edgecolor='black', alpha=0.75, weights=np.ones_like(self_retirement) / len(self_retirement))\n",
    "\n",
    "# Aesthetic enhancements\n",
    "plt.title(\"Distribution of Last Age of Working (Share)\", fontsize=16)\n",
    "plt.xlabel(\"Retirement Age\", fontsize=14)\n",
    "plt.ylabel(\"Share of Individuals\", fontsize=14)\n",
    "plt.grid(True, linestyle='--', alpha=0.5)\n",
    "plt.xticks(fontsize=12)\n",
    "plt.yticks(fontsize=12)\n",
    "plt.tight_layout()\n",
    "\n",
    "plt.show()\n"
   ]
  },
  {
   "cell_type": "code",
   "execution_count": null,
   "metadata": {},
   "outputs": [],
   "source": [
    "# To help find nan values\n",
    "if np.isnan(sim.ex).any():\n",
    "    count = 0 \n",
    "    list_of_nan = []\n",
    "    for i in range(sim.ex.shape[0]):\n",
    "        if np.isnan(sim.ex[i,35]):\n",
    "            print(i)\n",
    "            list_of_nan.append(i)\n",
    "            count +=1\n",
    "    # Create a 3x2 grid of subplots\n",
    "    fig, axes = plt.subplots(5, 2, figsize=(12, 8))\n",
    "\n",
    "    # Titles for the plots\n",
    "    titles = [\n",
    "        \"Human Capital (k)\", \"Wages (w)\", \"Hours (hours)\", \n",
    "        \"Assets (a)\", \"Consumption (c)\", \"Illiquid Savings (s)\"\n",
    "    ]\n",
    "\n",
    "    t_end = par.T \n",
    "    # Generate example data (replace with actual values)\n",
    "    time = np.arange(t_end)\n",
    "    for i in list_of_nan[:3]:\n",
    "        data_dict = {\n",
    "            \"Human Capital (k)\": model.sim.k[i,:t_end],\n",
    "            \"Wages (w)\": model.sim.w[i,:t_end],\n",
    "            \"Hours (hours)\": model.sim.h[i,:t_end],\n",
    "            \"Assets (a)\": model.sim.a[i,:t_end],\n",
    "            \"Consumption (c)\": model.sim.c[i,:t_end],\n",
    "            \"Illiquid Savings (s)\": model.sim.s[i,:t_end],\n",
    "            \"Extensive Margin (ex)\": model.sim.ex[i,:t_end],\n",
    "            \"Public benefit (chi)\": model.sim.chi_payment[i,:t_end],\n",
    "            \"Tax rate (tax_rate)\": model.sim.tax_rate[i,:t_end],\n",
    "            \"Wages after taxes\": (1-model.sim.tax_rate[i,:t_end])*model.sim.w[i,:t_end],\n",
    "        }\n",
    "        # Plot each variable in its respective subplot\n",
    "        for ax, (label, data) in zip(axes.flatten(), data_dict.items()):\n",
    "            ax.plot(time, data)\n",
    "            ax.set_title(label)\n",
    "            ax.set_xlabel(\"Time Periods\")\n",
    "            ax.set_ylabel(\"Value\")\n",
    "            ax.grid(True)\n",
    "\n",
    "    # Adjust layout to prevent overlap\n",
    "    plt.tight_layout()\n",
    "    plt.show()\n",
    "    count"
   ]
  },
  {
   "cell_type": "markdown",
   "metadata": {},
   "source": [
    "# Welfare, \n",
    "1. Replacement rate\n",
    "2. Consumption replacement rate\n",
    "3. Calculate consumption equivalence"
   ]
  },
  {
   "cell_type": "code",
   "execution_count": null,
   "metadata": {},
   "outputs": [],
   "source": [
    "replacement_rate = replacement_rate_fct(model)\n",
    "# Create the histogram\n",
    "plt.figure(figsize=(8, 5))  # Set the figure size\n",
    "plt.hist(replacement_rate, bins=30, color='skyblue', edgecolor='black')\n",
    "\n",
    "# Add titles and labels\n",
    "plt.title(\"Replacement Rate Distribution\")\n",
    "plt.xlabel(\"Replacement Rate\")\n",
    "plt.ylabel(\"Frequency\")\n",
    "plt.grid(axis='y', linestyle='--', alpha=0.7)  # Add a light grid for better visualization\n",
    "\n",
    "# Display the histogram\n",
    "plt.show()"
   ]
  },
  {
   "cell_type": "code",
   "execution_count": null,
   "metadata": {},
   "outputs": [],
   "source": [
    "# calculate consumption replacement rate\n",
    "consumption_replacement_rate = consumption_replacement_rate_fct(model)\n",
    "# Create the histogram\n",
    "plt.figure(figsize=(8, 5))  # Set the figure size\n",
    "plt.hist(consumption_replacement_rate, bins=30, color='skyblue', edgecolor='black')\n",
    "\n",
    "# Add titles and labels\n",
    "plt.title(\"Consumption replacement Rate Distribution\")\n",
    "plt.xlabel(\"Consumption replacement Rate\")\n",
    "plt.ylabel(\"Frequency\")\n",
    "plt.grid(axis='y', linestyle='--', alpha=0.7)  # Add a light grid for better visualization\n",
    "\n",
    "# Display the histogram\n",
    "plt.show()"
   ]
  },
  {
   "cell_type": "code",
   "execution_count": null,
   "metadata": {},
   "outputs": [],
   "source": [
    "# Change parameters and re-solve\n",
    "# theta = [1.0]\n",
    "# theta_names = ['alpha_f0']\n",
    "\n",
    "theta = [36]\n",
    "theta_names = ['retirement_age']\n",
    "\n",
    "# theta = [0.03]\n",
    "# theta_names = ['r_a']\n",
    "\n",
    "\n",
    "# og_model, new_model =  make_new_model(model, theta, theta_names, do_print = True)\n"
   ]
  },
  {
   "cell_type": "code",
   "execution_count": null,
   "metadata": {},
   "outputs": [],
   "source": [
    "# Compare models \n",
    "consumption_eq = find_consumption_equivalence(og_model, new_model, do_print= True, the_method = 'brentq')\n",
    "intensive_margin, extensive_margin, intensive_margin_age, extensive_margin_age = labor_elasticity(og_model, new_model)\n",
    "\n",
    "# Labor supply analysis\n",
    "ages = np.arange(par.start_age, par.start_age+len(intensive_margin_age))\n",
    "# First plot: Intensive Margin by Age\n",
    "plt.figure(figsize=(10, 6))\n",
    "plt.plot(ages, intensive_margin_age, linewidth=2, label=\"Age-specific Intensive Margin\")\n",
    "plt.axhline(0, color='black', linestyle='--', linewidth=1)\n",
    "plt.axhline(intensive_margin, color='red', linestyle='-', linewidth=1, label=\"Average Intensive Margin\")\n",
    "plt.xlabel(\"Age\", fontsize=14)\n",
    "plt.ylabel(\"Intensive Margin, percent\", fontsize=14)\n",
    "plt.grid(True, linestyle='--', alpha=0.6)\n",
    "plt.tight_layout()\n",
    "plt.legend()\n",
    "plt.show()\n",
    "\n",
    "# Second plot: Extensive Margin by Age\n",
    "plt.figure(figsize=(10, 6))\n",
    "plt.plot(ages, extensive_margin_age, linewidth=2, label=\"Age-specific extensive Margin\")\n",
    "plt.title(\"Extensive Margin by Age\", fontsize=16)\n",
    "plt.axhline(0, color='black', linestyle='--', linewidth=1)  # Horizontal line at 0\n",
    "plt.axhline(extensive_margin, color='red', linestyle='-', linewidth=1, label=\"Average Extensive Margin\")\n",
    "plt.xlabel(\"Age\", fontsize=14)\n",
    "plt.ylabel(\"Extensive Margin, percent point\", fontsize=14)\n",
    "plt.grid(True, linestyle='--', alpha=0.6)\n",
    "plt.tight_layout()\n",
    "plt.legend()\n",
    "plt.show()"
   ]
  },
  {
   "cell_type": "code",
   "execution_count": null,
   "metadata": {},
   "outputs": [],
   "source": [
    "import numpy as np\n",
    "import matplotlib.pyplot as plt\n",
    "\n",
    "# Time array\n",
    "time = np.arange(par.T)\n",
    "\n",
    "# Data for selected summary variables\n",
    "summary_vars = [\"Wages (w)\", \"Assets (a)\", \"Consumption (c)\", \"Illiquid Savings (s)\"]\n",
    "simulated_data_new = {\n",
    "    \"Wages (w)\": np.mean(new_model.sim.w[:], axis=0),\n",
    "    \"Assets (a)\": np.mean(new_model.sim.a[:], axis=0),\n",
    "    \"Consumption (c)\": np.mean(new_model.sim.c[:], axis=0),\n",
    "    \"Illiquid Savings (s)\": np.mean(new_model.sim.s[:], axis=0),\n",
    "}\n",
    "simulated_data_og = {\n",
    "    \"Wages (w)\": np.mean(og_model.sim.w[:], axis=0),\n",
    "    \"Assets (a)\": np.mean(og_model.sim.a[:], axis=0),\n",
    "    \"Consumption (c)\": np.mean(og_model.sim.c[:], axis=0),\n",
    "    \"Illiquid Savings (s)\": np.mean(og_model.sim.s[:], axis=0),\n",
    "}\n",
    "\n",
    "# Plot summary variables with matching colors\n",
    "plt.figure(figsize=(12, 8))\n",
    "color_cycle = plt.rcParams['axes.prop_cycle'].by_key()['color']\n",
    "\n",
    "for idx, label in enumerate(summary_vars):\n",
    "    color = color_cycle[idx % len(color_cycle)]\n",
    "    plt.plot(time, simulated_data_og[label], linestyle='-', label=f\"{label} (original)\", color=color)\n",
    "    plt.plot(time, simulated_data_new[label], linestyle='--', label=f\"{label} (new)\", color=color)\n",
    "\n",
    "# Formatting\n",
    "plt.xlabel(\"Time Periods\")\n",
    "plt.ylabel(\"Value\")\n",
    "plt.title(\"Simulation Results Over Time\")\n",
    "plt.legend()\n",
    "plt.grid(True)\n",
    "plt.tight_layout()\n",
    "plt.show()\n",
    "\n",
    "# ---------- MULTIPLE SUBPLOTS COMPARISON -----------\n",
    "\n",
    "# Full variable set\n",
    "data_dict_new = {\n",
    "    \"Human Capital (k)\": np.mean(new_model.sim.k[:], axis=0),\n",
    "    \"Wages (w)\": np.mean(new_model.sim.w[:], axis=0),\n",
    "    \"Hours (hours)\": np.nanmean(np.where(new_model.sim.ex == 1, new_model.sim.h, np.nan), axis=0),\n",
    "    \"Assets (a)\": np.mean(new_model.sim.a[:], axis=0),\n",
    "    \"Consumption (c)\": np.mean(new_model.sim.c[:], axis=0),\n",
    "    \"Illiquid Savings (s)\": np.mean(new_model.sim.s[:], axis=0),\n",
    "    \"Extensive Margin (ex)\": np.mean(new_model.sim.ex[:], axis=0),\n",
    "    \"Tax rate (tax_rate)\": np.mean(new_model.sim.tax_rate[:,:], axis=0),\n",
    "    \"Wages after taxes\": np.mean((1 - new_model.sim.tax_rate[:,:]) * new_model.sim.w[:,:], axis=0),\n",
    "}\n",
    "\n",
    "data_dict_og = {\n",
    "    \"Human Capital (k)\": np.mean(og_model.sim.k[:], axis=0),\n",
    "    \"Wages (w)\": np.mean(og_model.sim.w[:], axis=0),\n",
    "    \"Hours (hours)\": np.nanmean(np.where(og_model.sim.ex == 1, og_model.sim.h, np.nan), axis=0),\n",
    "    \"Assets (a)\": np.mean(og_model.sim.a[:], axis=0),\n",
    "    \"Consumption (c)\": np.mean(og_model.sim.c[:], axis=0),\n",
    "    \"Illiquid Savings (s)\": np.mean(og_model.sim.s[:], axis=0),\n",
    "    \"Extensive Margin (ex)\": np.mean(og_model.sim.ex[:], axis=0),\n",
    "    \"Tax rate (tax_rate)\": np.mean(og_model.sim.tax_rate[:,:], axis=0),\n",
    "    \"Wages after taxes\": np.mean((1 - og_model.sim.tax_rate[:,:]) * og_model.sim.w[:,:], axis=0),\n",
    "}\n",
    "\n",
    "data_dict_diff = {\n",
    "    \"Human Capital (k)\": np.mean(og_model.sim.k[:], axis=0)- np.mean(new_model.sim.k[:], axis=0),\n",
    "    \"Wages (w)\": np.mean(og_model.sim.w[:], axis=0) -np.mean(new_model.sim.w[:], axis=0),\n",
    "    \"Hours (hours)\": np.nanmean(np.where(og_model.sim.ex == 1, og_model.sim.h, np.nan), axis=0) - np.nanmean(np.where(new_model.sim.ex == 1, new_model.sim.h, np.nan), axis=0),\n",
    "    \"Assets (a)\": np.mean(og_model.sim.a[:], axis=0) - np.mean(new_model.sim.a[:], axis=0),\n",
    "    \"Consumption (c)\": np.mean(og_model.sim.c[:], axis=0) - np.mean(new_model.sim.c[:], axis=0),\n",
    "    \"Illiquid Savings (s)\": np.mean(og_model.sim.s[:], axis=0) - np.mean(new_model.sim.s[:], axis=0),\n",
    "    \"Extensive Margin (ex)\": np.mean(og_model.sim.ex[:], axis=0) - np.mean(new_model.sim.ex[:], axis=0),\n",
    "    \"Tax rate (tax_rate)\": np.mean(og_model.sim.tax_rate[:,:], axis=0) - np.mean(new_model.sim.tax_rate[:,:], axis=0),\n",
    "    \"Wages after taxes\": np.mean((1 - og_model.sim.tax_rate[:,:]) * og_model.sim.w[:,:], axis=0) -np.mean((1 - new_model.sim.tax_rate[:,:]) * new_model.sim.w[:,:], axis=0),\n",
    "}\n",
    "\n",
    "\n",
    "# Subplots setup\n",
    "fig, axes = plt.subplots(5, 2, figsize=(14, 12))\n",
    "axes = axes.flatten()\n",
    "\n",
    "# Plot both models with different colors per subplot\n",
    "for i, (label, data_new) in enumerate(data_dict_new.items()):\n",
    "    data_og = data_dict_og[label]\n",
    "    axes[i].plot(time, data_og, linestyle='-', label='Original Model', color='tab:blue')\n",
    "    axes[i].plot(time, data_new, linestyle='--', label='New Model', color='tab:orange')\n",
    "    axes[i].set_title(label)\n",
    "    axes[i].set_xlabel(\"Time Periods\")\n",
    "    axes[i].set_ylabel(\"Value\")\n",
    "    axes[i].grid(True)\n",
    "    axes[i].legend()\n",
    "\n",
    "# Hide unused subplots (if any)\n",
    "for j in range(i+1, len(axes)):\n",
    "    axes[j].axis('off')\n",
    "\n",
    "plt.tight_layout()\n",
    "plt.show()\n",
    "\n",
    "# Subplots setup\n",
    "fig, axes = plt.subplots(5, 2, figsize=(14, 12))\n",
    "axes = axes.flatten()\n",
    "fig.suptitle(\"Old vs New simulation\", fontsize=16, fontweight='bold', y=1.02)\n",
    "\n",
    "# Plot both models with different colors per subplot\n",
    "for i, (label, data_diff) in enumerate(data_dict_diff.items()):\n",
    "    data_og = data_dict_diff[label]\n",
    "    axes[i].plot(time, data_og, linestyle='-')\n",
    "    axes[i].set_title(label)\n",
    "    axes[i].set_xlabel(\"Time Periods\")\n",
    "    axes[i].set_ylabel(\"Value\")\n",
    "    axes[i].grid(True)\n",
    "    axes[i].legend()\n",
    "\n",
    "# Hide unused subplots (if any)\n",
    "for j in range(i+1, len(axes)):\n",
    "    axes[j].axis('off')\n",
    "\n",
    "plt.tight_layout()\n",
    "plt.show()\n",
    "\n",
    "\n"
   ]
  },
  {
   "cell_type": "code",
   "execution_count": null,
   "metadata": {},
   "outputs": [],
   "source": [
    "# Create a 3x2 grid of subplots\n",
    "fig, axes = plt.subplots(3, 2, figsize=(12, 8))\n",
    "\n",
    "# Add a super title for the entire figure\n",
    "fig.suptitle(\"Old vs New Solutions\", fontsize=16, fontweight='bold', y=1.02)\n",
    "\n",
    "# Titles for the plots\n",
    "titles = [\n",
    "    \"Human Capital (k)\", \"Wages (w)\", \"Hours (hours)\", \n",
    "    \"Assets (a)\", \"Consumption (c)\", \"Illiquid Savings (s)\"\n",
    "]\n",
    "\n",
    "t_end = par.T\n",
    "time = np.arange(t_end)\n",
    "\n",
    "# Loop over state space (example, replace with actual desired slices if needed)\n",
    "for s in range(par.N_s):\n",
    "    for k in range(par.N_k):\n",
    "        for a in range(par.N_a):\n",
    "            for e in range(len(par.e_grid)):\n",
    "                data_dict = {\n",
    "                    \"Welfare (V)\": og_model.sol.V[:t_end,a,s,k,:,e] - new_model.sol.V[:t_end,a,s,k,:,e],\n",
    "                    \"Hours (hours)\": og_model.sol.h[:t_end,a,s,k,:,e] - new_model.sol.h[:t_end,a,s,k,:,e],\n",
    "                    \"Assets (a)\": og_model.sol.a[:t_end,a,s,k,:,e] - new_model.sol.a[:t_end,a,s,k,:,e],\n",
    "                    \"Consumption (c)\": og_model.sol.c[:t_end,a,s,k,:,e] - new_model.sol.c[:t_end,a,s,k,:,e],\n",
    "                    \"Consumption, unemployed (new_model)\": og_model.sol.c_un[:t_end,a,s,k,:,e] - new_model.sol.c_un[:t_end,a,s,k,:,e],\n",
    "                    \"Extensive Margin (ex)\": og_model.sol.ex[:t_end,a,s,k,:,e] - new_model.sol.ex[:t_end,a,s,k,:,e],\n",
    "                }\n",
    "\n",
    "                # Plot each variable in its respective subplot\n",
    "                for ax, (label, data) in zip(axes.flatten(), data_dict.items()):\n",
    "                    ax.plot(time, data)\n",
    "                    ax.set_title(label)\n",
    "                    ax.set_xlabel(\"Time Periods\")\n",
    "                    ax.set_ylabel(\"Difference\")\n",
    "                    ax.grid(True)\n",
    "\n",
    "# Adjust layout and space for the super title\n",
    "plt.tight_layout()\n",
    "plt.subplots_adjust(top=0.92)  # make room for suptitle\n",
    "plt.show()\n"
   ]
  },
  {
   "cell_type": "code",
   "execution_count": null,
   "metadata": {},
   "outputs": [],
   "source": [
    "# Check for NaN values in the simulation results\n",
    "count = 0\n",
    "for i in range(par.simN):\n",
    "    if np.isnan(new_model.sim.c[i, :]).any():\n",
    "        print(f\"NaN found at i = {i}\")\n",
    "        count+=1\n",
    "count"
   ]
  },
  {
   "cell_type": "code",
   "execution_count": null,
   "metadata": {},
   "outputs": [],
   "source": []
  },
  {
   "cell_type": "code",
   "execution_count": null,
   "metadata": {},
   "outputs": [],
   "source": []
  },
  {
   "cell_type": "code",
   "execution_count": null,
   "metadata": {},
   "outputs": [],
   "source": [
    "import pandas as pd\n",
    "import numpy as np\n",
    "from scipy.stats import multivariate_normal, lognorm, norm"
   ]
  },
  {
   "cell_type": "code",
   "execution_count": null,
   "metadata": {},
   "outputs": [],
   "source": [
    "Nsize = par.simN"
   ]
  },
  {
   "cell_type": "code",
   "execution_count": null,
   "metadata": {},
   "outputs": [],
   "source": [
    "means_data = pd.read_csv(\"Data/mean_matrix.csv\")\n",
    "covariance_matrix = pd.read_csv(\"Data/variance_matrix_30.csv\")\n",
    "means = np.array(means_data[[\"formue_2018_Mean\", \"pension_2018_Mean\", \"hourly_salary_Mean\"]])[0]\n",
    "covariance_matrix.set_index('_NAME_', inplace=True)\n",
    "covar_array = np.array(covariance_matrix.loc[[\"formue_2018\", \"pension_2018\", \"hourly_salary\"], [\"formue_2018\", \"pension_2018\", \"hourly_salary\"]].values)\n"
   ]
  },
  {
   "cell_type": "code",
   "execution_count": null,
   "metadata": {},
   "outputs": [],
   "source": [
    "means[0]"
   ]
  },
  {
   "cell_type": "code",
   "execution_count": null,
   "metadata": {},
   "outputs": [],
   "source": [
    "covar_array"
   ]
  },
  {
   "cell_type": "code",
   "execution_count": null,
   "metadata": {},
   "outputs": [],
   "source": [
    "means_data = pd.read_csv(\"Data/mean_matrix.csv\")\n",
    "covariance_matrix = pd.read_csv(\"Data/variance_matrix_30.csv\")\n",
    "means = np.array(means_data[[\"formue_2018_Mean\", \"pension_2018_Mean\", \"hourly_salary_Mean\"]])[0]\n",
    "covariance_matrix.set_index('_NAME_', inplace=True)\n",
    "covar_array = np.array(covariance_matrix.loc[[\"formue_2018\", \"pension_2018\", \"hourly_salary\"], [\"formue_2018\", \"pension_2018\", \"hourly_salary\"]].values)\n",
    "\n",
    "# calculate normal parameters\n",
    "outer_means = np.outer(means, means)\n",
    "covar_normal = np.log(covar_array / outer_means + 1)\n",
    "means_normal = np.log(means)-0.5*np.diag(covar_normal)\n",
    "\n",
    "# draw from normal distribution and convert back to lognormal\n",
    "dist = multivariate_normal(means_normal, covar_normal, seed=1)\n",
    "draws = np.exp(dist.rvs(size=Nsize))\n"
   ]
  },
  {
   "cell_type": "code",
   "execution_count": null,
   "metadata": {},
   "outputs": [],
   "source": [
    "draws"
   ]
  },
  {
   "cell_type": "code",
   "execution_count": null,
   "metadata": {},
   "outputs": [],
   "source": [
    "covar_array[0,0]"
   ]
  },
  {
   "cell_type": "code",
   "execution_count": null,
   "metadata": {},
   "outputs": [],
   "source": [
    "np.var(draws[:,0])"
   ]
  },
  {
   "cell_type": "code",
   "execution_count": null,
   "metadata": {},
   "outputs": [],
   "source": [
    "import matplotlib.pyplot as plt\n",
    "\n",
    "plt.figure(figsize=(10, 6))\n",
    "\n",
    "# Plot with more bins — e.g., 100 bins\n",
    "plt.hist(draws[:, 0], bins=100, edgecolor='black', alpha=0.7)\n",
    "\n",
    "# Labels and aesthetics\n",
    "plt.title(\"Distribution of Simulated Wealth (formue_2018)\", fontsize=16)\n",
    "plt.xlabel(\"Wealth\", fontsize=14)\n",
    "plt.ylabel(\"Frequency\", fontsize=14)\n",
    "plt.grid(True, linestyle='--', alpha=0.5)\n",
    "plt.tight_layout()\n",
    "\n",
    "plt.show()\n"
   ]
  },
  {
   "cell_type": "code",
   "execution_count": null,
   "metadata": {},
   "outputs": [],
   "source": [
    "plt.scatter(draws[:,1], draws[:,2])"
   ]
  },
  {
   "cell_type": "code",
   "execution_count": null,
   "metadata": {},
   "outputs": [],
   "source": [
    "plt.hist(draws[:,0])"
   ]
  },
  {
   "cell_type": "code",
   "execution_count": null,
   "metadata": {},
   "outputs": [],
   "source": []
  },
  {
   "cell_type": "code",
   "execution_count": null,
   "metadata": {},
   "outputs": [],
   "source": []
  },
  {
   "cell_type": "code",
   "execution_count": null,
   "metadata": {},
   "outputs": [],
   "source": [
    "import pandas as pd\n",
    "import numpy as np\n",
    "from scipy.stats import multivariate_normal, lognorm, norm"
   ]
  },
  {
   "cell_type": "code",
   "execution_count": null,
   "metadata": {},
   "outputs": [],
   "source": [
    "simN = 1000\n",
    "\n",
    "means_data = pd.read_csv(\"Data/mean_matrix.csv\")\n",
    "covariance_matrix = pd.read_csv(\"Data/variance_matrix_30.csv\")\n",
    "means = np.array(means_data[[\"formue_2018_Mean\", \"pension_2018_Mean\", \"hourly_salary_Mean\"]])[0]\n",
    "covariance_matrix.set_index('_NAME_', inplace=True)\n",
    "covar_array = np.array(covariance_matrix.loc[[\"formue_2018\", \"pension_2018\", \"hourly_salary\"], [\"formue_2018\", \"pension_2018\", \"hourly_salary\"]].values)\n",
    "\n",
    "# calculate normal parameters\n",
    "outer_means = np.outer(means, means)\n",
    "covar_normal = np.log(covar_array / outer_means + 1)\n",
    "means_normal = np.log(means)-0.5*np.diag(covar_normal)\n",
    "\n",
    "# draw from normal distribution and convert back to lognormal\n",
    "dist = multivariate_normal(means_normal, covar_normal, seed=1)\n",
    "draws = np.exp(dist.rvs(size=simN))"
   ]
  },
  {
   "cell_type": "code",
   "execution_count": null,
   "metadata": {},
   "outputs": [],
   "source": [
    "draws[:,2]"
   ]
  },
  {
   "cell_type": "code",
   "execution_count": null,
   "metadata": {},
   "outputs": [],
   "source": [
    "import pandas as pd\n",
    "import numpy as np\n",
    "from scipy.stats import multivariate_normal, lognorm, norm\n",
    "\n",
    "def draw_initial_values(simN):\n",
    "    # load data\n",
    "    means_data = pd.read_csv(\"Data/mean_matrix.csv\")\n",
    "    covariance_matrix = pd.read_csv(\"Data/variance_matrix_30.csv\")\n",
    "    means = np.array(means_data[[\"formue_2018_Mean\", \"pension_2018_Mean\", \"hourly_salary_Mean\"]])[0]\n",
    "    covariance_matrix.set_index('_NAME_', inplace=True)\n",
    "    covar_array = np.array(covariance_matrix.loc[[\"formue_2018\", \"pension_2018\", \"hourly_salary\"], [\"formue_2018\", \"pension_2018\", \"hourly_salary\"]].values)\n",
    "\n",
    "    # calculate normal parameters\n",
    "    outer_means = np.outer(means, means)\n",
    "    covar_normal = np.log(covar_array / outer_means + 1)\n",
    "    means_normal = np.log(means)-0.5*np.diag(covar_normal)\n",
    "\n",
    "    # draw from normal distribution and convert back to lognormal\n",
    "    dist = multivariate_normal(means_normal, covar_normal, seed=1)\n",
    "    draws = np.exp(dist.rvs(size=simN))\n",
    "\n",
    "    return dist[:,0], draws[:,1], draws[:,2]\n",
    "\n",
    "draw_initial_values(1000)"
   ]
  },
  {
   "cell_type": "code",
   "execution_count": null,
   "metadata": {},
   "outputs": [],
   "source": []
  },
  {
   "cell_type": "code",
   "execution_count": null,
   "metadata": {},
   "outputs": [],
   "source": []
  },
  {
   "cell_type": "code",
   "execution_count": null,
   "metadata": {},
   "outputs": [],
   "source": []
  },
  {
   "cell_type": "code",
   "execution_count": null,
   "metadata": {},
   "outputs": [],
   "source": []
  },
  {
   "cell_type": "code",
   "execution_count": null,
   "metadata": {},
   "outputs": [],
   "source": []
  },
  {
   "cell_type": "code",
   "execution_count": null,
   "metadata": {},
   "outputs": [],
   "source": []
  },
  {
   "cell_type": "code",
   "execution_count": null,
   "metadata": {},
   "outputs": [],
   "source": []
  },
  {
   "cell_type": "code",
   "execution_count": null,
   "metadata": {},
   "outputs": [],
   "source": [
    "Bernoulli(p = 0.5, size =(par.simN, par.T)).rvs()"
   ]
  },
  {
   "cell_type": "code",
   "execution_count": null,
   "metadata": {},
   "outputs": [],
   "source": [
    "# p_fire + p_stay_employed + p_early_from_employ = 1\n",
    "# p_hire + p_stay_employed + p_early_from_unemploy = 1\n",
    "# p_stay_early = 1\n",
    "\n",
    "p_fire = 0.1\n",
    "p_early = 0.01\n",
    "p_hire = 0.5\n",
    "p_early = 0.2\n",
    "\n",
    "from_employed = Categorical(p=[p_fire, 1- p_fire-p_early, p_early], size =(100, par.T))\n",
    "from_unemployed = Categorical(p=[p_hire, 1- p_hire-p_early, p_early], size =(100, par.T))"
   ]
  },
  {
   "cell_type": "code",
   "execution_count": null,
   "metadata": {},
   "outputs": [],
   "source": [
    "alpha_f0 = 0.043779862783\n",
    "alpha_f1 = -0.00218450969\n",
    "alpha_f2 = 0.0000600717239\n",
    "\n",
    "alpha_h0 = 0.4693704319\n",
    "alpha_h1 = -0.004887608808\n",
    "alpha_h2 = 0.000098401435\n",
    "\n",
    "alpha_e0 = 0.043779862783\n",
    "alpha_e1 = 0.00218450969\n",
    "alpha_e2 = 0.0000600717239\n",
    "T = 70\n",
    "fire = np.minimum(np.maximum(alpha_f0 + alpha_f1 * np.arange(T) + alpha_f2 * np.arange(T)**2,0),1)\n",
    "hire = np.minimum(np.maximum(alpha_h0 + alpha_h1 * np.arange(T) + alpha_h2 * np.arange(T)**2,0),1)\n",
    "p_early = np.minimum(np.maximum(alpha_e0 + alpha_e1 * np.arange(T) + alpha_e2 * np.arange(T)**2,0),1)\n"
   ]
  },
  {
   "cell_type": "code",
   "execution_count": null,
   "metadata": {},
   "outputs": [],
   "source": [
    "sim.from_employed   = Categorical(p=[fire, 1- fire - p_early, p_early], size =(10000, T))\n",
    "sim.from_unemployed = Categorical(p=[hire, 1- hire - p_early, p_early], size =(10000, T))\n",
    "sim.from_unemployed_to_only_early = Bernoulli(p = p_early, size =(10000, T)).rvs()"
   ]
  },
  {
   "cell_type": "code",
   "execution_count": null,
   "metadata": {},
   "outputs": [],
   "source": [
    "fire + p_early +1- fire-p_early"
   ]
  },
  {
   "cell_type": "code",
   "execution_count": null,
   "metadata": {},
   "outputs": [],
   "source": []
  }
 ],
 "metadata": {
  "kernelspec": {
   "display_name": "s_speciale",
   "language": "python",
   "name": "python3"
  },
  "language_info": {
   "codemirror_mode": {
    "name": "ipython",
    "version": 3
   },
   "file_extension": ".py",
   "mimetype": "text/x-python",
   "name": "python",
   "nbconvert_exporter": "python",
   "pygments_lexer": "ipython3",
   "version": "3.13.1"
  }
 },
 "nbformat": 4,
 "nbformat_minor": 2
}
