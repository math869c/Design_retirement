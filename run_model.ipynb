{
 "cells": [
  {
   "cell_type": "code",
   "execution_count": 43,
   "metadata": {},
   "outputs": [
    {
     "name": "stdout",
     "output_type": "stream",
     "text": [
      "The autoreload extension is already loaded. To reload it, use:\n",
      "  %reload_ext autoreload\n"
     ]
    }
   ],
   "source": [
    "%load_ext autoreload\n",
    "%autoreload 2\n",
    "\n",
    "import numpy as np\n",
    "\n",
    "import matplotlib.pyplot as plt\n",
    "from mpl_toolkits import mplot3d"
   ]
  },
  {
   "cell_type": "code",
   "execution_count": 44,
   "metadata": {},
   "outputs": [],
   "source": [
    "# load local model file and initialize model class\n",
    "from model import ModelClass\n",
    "model = ModelClass() # set a few number of periods.\n",
    "\n",
    "\n",
    "par = model.par\n",
    "sol = model.sol\n",
    "sim = model.sim"
   ]
  },
  {
   "cell_type": "code",
   "execution_count": 45,
   "metadata": {},
   "outputs": [],
   "source": [
    "# fig, ax = plt.subplots()\n",
    "# a_mesh,s_mesh = np.meshgrid(par.a_grid,par.s_grid,indexing='ij')\n",
    "# ax.scatter(a_mesh,s_mesh)\n",
    "# ax.set(xlabel='asset, a',ylabel='human capital, k');"
   ]
  },
  {
   "cell_type": "code",
   "execution_count": 46,
   "metadata": {},
   "outputs": [
    {
     "name": "stdout",
     "output_type": "stream",
     "text": [
      "We are in t = 69\n",
      "We are in t = 68\n",
      "We are in t = 67\n",
      "We are in t = 66\n",
      "We are in t = 65\n",
      "We are in t = 64\n",
      "We are in t = 63\n",
      "We are in t = 62\n",
      "We are in t = 61\n",
      "We are in t = 60\n",
      "We are in t = 59\n",
      "We are in t = 58\n",
      "We are in t = 57\n",
      "We are in t = 56\n",
      "We are in t = 55\n",
      "We are in t = 54\n",
      "We are in t = 53\n",
      "We are in t = 52\n",
      "We are in t = 51\n",
      "We are in t = 50\n",
      "We are in t = 49\n",
      "We are in t = 48\n",
      "We are in t = 47\n",
      "We are in t = 46\n",
      "We are in t = 45\n",
      "We are in t = 44\n",
      "We are in t = 43\n",
      "We are in t = 42\n",
      "We are in t = 41\n",
      "We are in t = 40\n",
      "We are in t = 39\n",
      "We are in t = 38\n",
      "We are in t = 37\n",
      "We are in t = 36\n",
      "We are in t = 35\n",
      "We are in t = 34\n",
      "We are in t = 33\n"
     ]
    },
    {
     "name": "stderr",
     "output_type": "stream",
     "text": [
      "Traceback (most recent call last):\n",
      "  File \"f:\\MPC\\Studenter\\Speciale\\Peter og Mathias\\Code Peter\\Design_retirement\\model.py\", line 179, in solve\n",
      "    optimal_h = golden_section_search(f_obj, par.h_min, par.h_max, x0=init_h, tol=par.opt_tol, max_iter=par.opt_maxiter)\n",
      "                ^^^^^^^^^^^^^^^^^^^^^^^^^^^^^^^^^^^^^^^^^^^^^^^^^^^^^^^^^^^^^^^^^^^^^^^^^^^^^^^^^^^^^^^^^^^^^^^^^^^^^^^^\n",
      "  File \"f:\\MPC\\Studenter\\Speciale\\Peter og Mathias\\Code Peter\\Design_retirement\\model.py\", line 384, in golden_section_search\n",
      "    fd = f(d)\n",
      "         ^^^^\n",
      "  File \"f:\\MPC\\Studenter\\Speciale\\Peter og Mathias\\Code Peter\\Design_retirement\\model.py\", line 262, in f\n",
      "    return obj_hour(x, par, sol, assets, savings, human_capital, init_c, t)\n",
      "           ^^^^^^^^^^^^^^^^^^^^^^^^^^^^^^^^^^^^^^^^^^^^^^^^^^^^^^^^^^^^^^^^\n",
      "  File \"f:\\MPC\\Studenter\\Speciale\\Peter og Mathias\\Code Peter\\Design_retirement\\model.py\", line 258, in obj_hour\n",
      "    return optimize_consumption(par, sol, x, assets, savings, human_capital, init_c, t)\n",
      "           ^^^^^^^^^^^^^^^^^^^^^^^^^^^^^^^^^^^^^^^^^^^^^^^^^^^^^^^^^^^^^^^^^^^^^^^^^^^^\n",
      "  File \"f:\\MPC\\Studenter\\Speciale\\Peter og Mathias\\Code Peter\\Design_retirement\\model.py\", line 277, in optimize_consumption\n",
      "    optimal_c = golden_section_search(f_obj, par.h_min, par.h_max, x0=init_c, tol=par.opt_tol, max_iter=par.opt_maxiter)\n",
      "                ^^^^^^^^^^^^^^^^^^^^^^^^^^^^^^^^^^^^^^^^^^^^^^^^^^^^^^^^^^^^^^^^^^^^^^^^^^^^^^^^^^^^^^^^^^^^^^^^^^^^^^^^\n",
      "  File \"f:\\MPC\\Studenter\\Speciale\\Peter og Mathias\\Code Peter\\Design_retirement\\model.py\", line 378, in golden_section_search\n",
      "    fc = f(c)\n",
      "         ^^^^\n",
      "  File \"f:\\MPC\\Studenter\\Speciale\\Peter og Mathias\\Code Peter\\Design_retirement\\model.py\", line 252, in f\n",
      "    return obj_c(x, par, sol, hours, assets, savings, human_capital, t)\n",
      "           ^^^^^^^^^^^^^^^^^^^^^^^^^^^^^^^^^^^^^^^^^^^^^^^^^^^^^^^^^^^^\n",
      "  File \"f:\\MPC\\Studenter\\Speciale\\Peter og Mathias\\Code Peter\\Design_retirement\\model.py\", line 247, in obj_c\n",
      "    return -value_function(par, sol, x, hours, assets, savings, human_capital, t)\n",
      "            ^^^^^^^^^^^^^^^^^^^^^^^^^^^^^^^^^^^^^^^^^^^^^^^^^^^^^^^^^^^^^^^^^^^^^\n",
      "  File \"f:\\MPC\\Studenter\\Speciale\\Peter og Mathias\\Code Peter\\Design_retirement\\model.py\", line 315, in value_function\n",
      "    s_next = (1+par.r_s)*s + par.tau*h*wage(par, k)\n",
      "                                       ^^^^^^^^^^^^\n",
      "  File \"f:\\MPC\\Studenter\\Speciale\\Peter og Mathias\\Code Peter\\Design_retirement\\model.py\", line 298, in wage\n",
      "    return np.exp(np.log(par.w_0) + par.beta_1*k + par.beta_2*k**2)\n",
      "           ^^^^^^^^^^^^^^^^^^^^^^^^^^^^^^^^^^^^^^^^^^^^^^^^^^^^^^^^\n",
      "KeyboardInterrupt\n"
     ]
    },
    {
     "ename": "KeyboardInterrupt",
     "evalue": "",
     "output_type": "error",
     "traceback": [
      "\u001b[1;31m---------------------------------------------------------------------------\u001b[0m",
      "\u001b[1;31mKeyboardInterrupt\u001b[0m                         Traceback (most recent call last)",
      "File \u001b[1;32m<timed eval>:1\u001b[0m\n",
      "File \u001b[1;32mf:\\MPC\\Studenter\\Speciale\\Peter og Mathias\\Code Peter\\Design_retirement\\model.py:179\u001b[0m, in \u001b[0;36mModelClass.solve\u001b[1;34m(self)\u001b[0m\n\u001b[0;32m    176\u001b[0m else:\n\u001b[0;32m    177\u001b[0m     init_h = optimal_c\n\u001b[1;32m--> 179\u001b[0m # @njit\n\u001b[0;32m    180\u001b[0m def obj(x):\n\u001b[0;32m    181\u001b[0m     return optimize_consumption(model_jit_par, model_jit_sol, x, assets, savings, human_capital, init_c, t)\n",
      "File \u001b[1;32mf:\\MPC\\Studenter\\Speciale\\Peter og Mathias\\Code Peter\\Design_retirement\\model.py:384\u001b[0m, in \u001b[0;36mgolden_section_search\u001b[1;34m(f, a, b, x0, tol, max_iter)\u001b[0m\n\u001b[0;32m      0\u001b[0m <Error retrieving source code with stack_data see ipython/ipython#13598>\n",
      "File \u001b[1;32mf:\\MPC\\Studenter\\Speciale\\Peter og Mathias\\Code Peter\\Design_retirement\\model.py:262\u001b[0m, in \u001b[0;36mf\u001b[1;34m(x)\u001b[0m\n\u001b[0;32m    258\u001b[0m     # result = minimize(obj, init_c, bounds=bounds, method=par.opt_method, tol=par.opt_tol, options={'maxiter':par.opt_maxiter})\n\u001b[0;32m    260\u001b[0m     return optimal_c\n\u001b[1;32m--> 262\u001b[0m # @njit\n\u001b[0;32m    263\u001b[0m def budget_constraint(par, a, h, s, k, t):\n\u001b[0;32m    265\u001b[0m     if par.retirement_age + par.m <= t:\n",
      "File \u001b[1;32mf:\\MPC\\Studenter\\Speciale\\Peter og Mathias\\Code Peter\\Design_retirement\\model.py:258\u001b[0m, in \u001b[0;36mobj_hour\u001b[1;34m(x, par, sol, assets, savings, human_capital, init_c, t)\u001b[0m\n\u001b[0;32m    255\u001b[0m     init_c = np.min([init, bc_max])\n\u001b[0;32m    256\u001b[0m     optimal_c = golden_section_search(obj, par.h_min, par.h_max, x0=init_c, tol=par.opt_tol, max_iter=par.opt_maxiter)\n\u001b[1;32m--> 258\u001b[0m     # result = minimize(obj, init_c, bounds=bounds, method=par.opt_method, tol=par.opt_tol, options={'maxiter':par.opt_maxiter})\n\u001b[0;32m    260\u001b[0m     return optimal_c\n\u001b[0;32m    262\u001b[0m # @njit\n",
      "File \u001b[1;32mf:\\MPC\\Studenter\\Speciale\\Peter og Mathias\\Code Peter\\Design_retirement\\model.py:277\u001b[0m, in \u001b[0;36moptimize_consumption\u001b[1;34m(par, sol, h, a, s, k, init, t)\u001b[0m\n\u001b[0;32m    274\u001b[0m f_obj \u001b[38;5;241m=\u001b[39m create_obj_c(par, sol, h, a, s, k, t)   \n\u001b[0;32m    276\u001b[0m init_c \u001b[38;5;241m=\u001b[39m np\u001b[38;5;241m.\u001b[39mmin([init, bc_max])\n\u001b[1;32m--> 277\u001b[0m optimal_c \u001b[38;5;241m=\u001b[39m golden_section_search(f_obj, par\u001b[38;5;241m.\u001b[39mh_min, par\u001b[38;5;241m.\u001b[39mh_max, x0\u001b[38;5;241m=\u001b[39minit_c, tol\u001b[38;5;241m=\u001b[39mpar\u001b[38;5;241m.\u001b[39mopt_tol, max_iter\u001b[38;5;241m=\u001b[39mpar\u001b[38;5;241m.\u001b[39mopt_maxiter)\n\u001b[0;32m    279\u001b[0m \u001b[38;5;66;03m# result = minimize(obj, init_c, bounds=bounds, method=par.opt_method, tol=par.opt_tol, options={'maxiter':par.opt_maxiter})\u001b[39;00m\n\u001b[0;32m    281\u001b[0m \u001b[38;5;28;01mreturn\u001b[39;00m optimal_c\n",
      "File \u001b[1;32mf:\\MPC\\Studenter\\Speciale\\Peter og Mathias\\Code Peter\\Design_retirement\\model.py:378\u001b[0m, in \u001b[0;36mgolden_section_search\u001b[1;34m(f, a, b, x0, tol, max_iter)\u001b[0m\n\u001b[0;32m    376\u001b[0m     fd \u001b[38;5;241m=\u001b[39m fc\n\u001b[0;32m    377\u001b[0m     c \u001b[38;5;241m=\u001b[39m a \u001b[38;5;241m+\u001b[39m phi \u001b[38;5;241m*\u001b[39m (b \u001b[38;5;241m-\u001b[39m a)\n\u001b[1;32m--> 378\u001b[0m     fc \u001b[38;5;241m=\u001b[39m f(c)\n\u001b[0;32m    379\u001b[0m \u001b[38;5;28;01melse\u001b[39;00m:\n\u001b[0;32m    380\u001b[0m     a \u001b[38;5;241m=\u001b[39m c\n",
      "File \u001b[1;32mf:\\MPC\\Studenter\\Speciale\\Peter og Mathias\\Code Peter\\Design_retirement\\model.py:252\u001b[0m, in \u001b[0;36mcreate_obj_c.<locals>.f\u001b[1;34m(x)\u001b[0m\n\u001b[0;32m    251\u001b[0m \u001b[38;5;28;01mdef\u001b[39;00m \u001b[38;5;21mf\u001b[39m(x):\n\u001b[1;32m--> 252\u001b[0m     \u001b[38;5;28;01mreturn\u001b[39;00m obj_c(x, par, sol, hours, assets, savings, human_capital, t)\n",
      "File \u001b[1;32mf:\\MPC\\Studenter\\Speciale\\Peter og Mathias\\Code Peter\\Design_retirement\\model.py:247\u001b[0m, in \u001b[0;36mobj_c\u001b[1;34m(x, par, sol, hours, assets, savings, human_capital, t)\u001b[0m\n\u001b[0;32m    246\u001b[0m \u001b[38;5;28;01mdef\u001b[39;00m \u001b[38;5;21mobj_c\u001b[39m(x, par, sol, hours, assets, savings, human_capital, t):\n\u001b[1;32m--> 247\u001b[0m     \u001b[38;5;28;01mreturn\u001b[39;00m \u001b[38;5;241m-\u001b[39mvalue_function(par, sol, x, hours, assets, savings, human_capital, t)\n",
      "File \u001b[1;32mf:\\MPC\\Studenter\\Speciale\\Peter og Mathias\\Code Peter\\Design_retirement\\model.py:315\u001b[0m, in \u001b[0;36mvalue_function\u001b[1;34m(par, sol, c, h, a, s, k, t)\u001b[0m\n\u001b[0;32m    313\u001b[0m \u001b[38;5;28;01melse\u001b[39;00m:\n\u001b[0;32m    314\u001b[0m     a_next \u001b[38;5;241m=\u001b[39m (\u001b[38;5;241m1.0\u001b[39m\u001b[38;5;241m+\u001b[39mpar\u001b[38;5;241m.\u001b[39mr_a)\u001b[38;5;241m*\u001b[39ma \u001b[38;5;241m+\u001b[39m (\u001b[38;5;241m1\u001b[39m\u001b[38;5;241m-\u001b[39mpar\u001b[38;5;241m.\u001b[39mtau)\u001b[38;5;241m*\u001b[39mh\u001b[38;5;241m*\u001b[39mwage(par, k) \u001b[38;5;241m-\u001b[39m c\n\u001b[1;32m--> 315\u001b[0m     s_next \u001b[38;5;241m=\u001b[39m (\u001b[38;5;241m1\u001b[39m\u001b[38;5;241m+\u001b[39mpar\u001b[38;5;241m.\u001b[39mr_s)\u001b[38;5;241m*\u001b[39ms \u001b[38;5;241m+\u001b[39m par\u001b[38;5;241m.\u001b[39mtau\u001b[38;5;241m*\u001b[39mh\u001b[38;5;241m*\u001b[39mwage(par, k)\n\u001b[0;32m    317\u001b[0m k_next \u001b[38;5;241m=\u001b[39m (\u001b[38;5;241m1\u001b[39m\u001b[38;5;241m-\u001b[39mpar\u001b[38;5;241m.\u001b[39mdelta)\u001b[38;5;241m*\u001b[39mk \u001b[38;5;241m+\u001b[39m h\n\u001b[0;32m    319\u001b[0m V_next_interp \u001b[38;5;241m=\u001b[39m interp_3d(par\u001b[38;5;241m.\u001b[39ma_grid, par\u001b[38;5;241m.\u001b[39ms_grid, par\u001b[38;5;241m.\u001b[39mk_grid, V_next, a_next, s_next, k_next)\n",
      "File \u001b[1;32mf:\\MPC\\Studenter\\Speciale\\Peter og Mathias\\Code Peter\\Design_retirement\\model.py:298\u001b[0m, in \u001b[0;36mwage\u001b[1;34m(par, k)\u001b[0m\n\u001b[0;32m    296\u001b[0m \u001b[38;5;28;01mdef\u001b[39;00m \u001b[38;5;21mwage\u001b[39m(par, k):\n\u001b[1;32m--> 298\u001b[0m     \u001b[38;5;28;01mreturn\u001b[39;00m np\u001b[38;5;241m.\u001b[39mexp(np\u001b[38;5;241m.\u001b[39mlog(par\u001b[38;5;241m.\u001b[39mw_0) \u001b[38;5;241m+\u001b[39m par\u001b[38;5;241m.\u001b[39mbeta_1\u001b[38;5;241m*\u001b[39mk \u001b[38;5;241m+\u001b[39m par\u001b[38;5;241m.\u001b[39mbeta_2\u001b[38;5;241m*\u001b[39mk\u001b[38;5;241m*\u001b[39m\u001b[38;5;241m*\u001b[39m\u001b[38;5;241m2\u001b[39m)\n",
      "\u001b[1;31mKeyboardInterrupt\u001b[0m: "
     ]
    }
   ],
   "source": [
    "%time model.solve()"
   ]
  },
  {
   "cell_type": "code",
   "execution_count": null,
   "metadata": {},
   "outputs": [],
   "source": [
    "%time model.simulate()"
   ]
  },
  {
   "cell_type": "code",
   "execution_count": null,
   "metadata": {},
   "outputs": [],
   "source": [
    "plt.plot(np.arange(par.T),model.sim.w.T)\n"
   ]
  },
  {
   "cell_type": "code",
   "execution_count": null,
   "metadata": {},
   "outputs": [],
   "source": [
    "for i in range(sol.V.shape[3]):\n",
    "    plt.plot(np.arange(par.T),sol.V[:, 1, 1, i])\n"
   ]
  },
  {
   "cell_type": "code",
   "execution_count": null,
   "metadata": {},
   "outputs": [],
   "source": [
    "for i in range(sol.V.shape[3]):\n",
    "    plt.plot(np.arange(par.T),sol.V[:, 4, 4, i])"
   ]
  },
  {
   "cell_type": "code",
   "execution_count": null,
   "metadata": {},
   "outputs": [],
   "source": [
    "sol.V[:-1, 4, 4, 4]-sol.V[1:, 4, 4, 4]"
   ]
  },
  {
   "cell_type": "code",
   "execution_count": null,
   "metadata": {},
   "outputs": [],
   "source": [
    "import numpy as np\n",
    "import matplotlib.pyplot as plt\n",
    "from mpl_toolkits.mplot3d import Axes3D\n",
    "\n",
    "# Choose a fixed k index (e.g., middle of the k_grid)\n",
    "k_idx = 2\n",
    "k_fixed = par.k_grid[k_idx]  \n",
    "\n",
    "# Extract the meshgrid for plotting\n",
    "a_mesh, s_mesh = np.meshgrid(par.a_grid, par.s_grid, indexing='ij')\n",
    "\n",
    "# Extract solutions at time t and fixed k\n",
    "t = 30\n",
    "c_plot = sol.c[t, :, :, k_idx]  # Fix k_idx\n",
    "h_plot = sol.h[t, :, :, k_idx]\n",
    "V_plot = sol.V[t, :, :, k_idx]\n",
    "\n",
    "# Plot consumption\n",
    "fig = plt.figure()\n",
    "ax = plt.axes(projection='3d')\n",
    "ax.plot_surface(a_mesh, s_mesh, c_plot, rstride=1, cstride=1, cmap='viridis', edgecolor='none', alpha=0.75)\n",
    "ax.set(xlabel='Liquid assets, $a_{T}$', ylabel='Illiquid assets, $s_T$', zlabel='Consumption, $c_{T}^{\\star}$', title=f'Consumption at $k_T = {k_fixed:.2f}$')\n",
    "\n",
    "# Plot labor supply\n",
    "fig = plt.figure()\n",
    "ax = plt.axes(projection='3d')\n",
    "ax.plot_surface(a_mesh, s_mesh, h_plot, rstride=1, cstride=1, cmap='viridis', edgecolor='none', alpha=0.75)\n",
    "ax.set(xlabel='Liquid assets, $a_{T}$', ylabel='Illiquid assets, $s_T$', zlabel='Hours, $h_{T}^{\\star}$', title=f'Labor Supply at $k_T = {k_fixed:.2f}$')\n",
    "\n",
    "# Plot value function\n",
    "fig = plt.figure()\n",
    "ax = plt.axes(projection='3d')\n",
    "ax.plot_surface(a_mesh, s_mesh, V_plot, rstride=1, cstride=1, cmap='viridis', edgecolor='none', alpha=0.75)\n",
    "ax.set(xlabel='Liquid assets, $a_{T}$', ylabel='Illiquid assets, $s_T$', zlabel='Value, $V_{T}$', title=f'Value Function at $k_T = {k_fixed:.2f}$')\n",
    "\n",
    "plt.show()\n"
   ]
  },
  {
   "cell_type": "code",
   "execution_count": null,
   "metadata": {},
   "outputs": [],
   "source": []
  }
 ],
 "metadata": {
  "kernelspec": {
   "display_name": "base",
   "language": "python",
   "name": "python3"
  },
  "language_info": {
   "codemirror_mode": {
    "name": "ipython",
    "version": 3
   },
   "file_extension": ".py",
   "mimetype": "text/x-python",
   "name": "python",
   "nbconvert_exporter": "python",
   "pygments_lexer": "ipython3",
   "version": "3.9.19"
  }
 },
 "nbformat": 4,
 "nbformat_minor": 2
}
