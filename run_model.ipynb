{
 "cells": [
  {
   "cell_type": "code",
   "execution_count": 1,
   "metadata": {},
   "outputs": [],
   "source": [
    "%load_ext autoreload\n",
    "%autoreload 2\n",
    "\n",
    "import numpy as np\n",
    "\n",
    "import matplotlib.pyplot as plt\n",
    "from mpl_toolkits import mplot3d"
   ]
  },
  {
   "cell_type": "code",
   "execution_count": 2,
   "metadata": {},
   "outputs": [],
   "source": [
    "# load local model file and initialize model class\n",
    "from model import ModelClass\n",
    "model = ModelClass() # set a few number of periods.\n",
    "\n",
    "\n",
    "par = model.par\n",
    "sol = model.sol\n",
    "sim = model.sim"
   ]
  },
  {
   "cell_type": "code",
   "execution_count": null,
   "metadata": {},
   "outputs": [
    {
     "name": "stdout",
     "output_type": "stream",
     "text": [
      "We are in t = 69\n",
      "We are in t = 68\n",
      "We are in t = 67\n",
      "We are in t = 66\n",
      "We are in t = 65\n",
      "We are in t = 64\n",
      "We are in t = 63\n",
      "We are in t = 62\n",
      "We are in t = 61\n",
      "We are in t = 60\n",
      "We are in t = 59\n",
      "We are in t = 58\n",
      "We are in t = 57\n",
      "We are in t = 56\n",
      "We are in t = 55\n",
      "We are in t = 54\n",
      "We are in t = 53\n",
      "We are in t = 52\n",
      "We are in t = 51\n",
      "We are in t = 50\n",
      "We are in t = 49\n",
      "We are in t = 48\n",
      "We are in t = 47\n",
      "We are in t = 46\n",
      "We are in t = 45\n",
      "We are in t = 44\n",
      "We are in t = 43\n",
      "We are in t = 42\n",
      "We are in t = 41\n",
      "We are in t = 40\n",
      "We are in t = 39\n",
      "We are in t = 38\n",
      "We are in t = 37\n",
      "We are in t = 36\n",
      "We are in t = 35\n",
      "We are in t = 34\n"
     ]
    }
   ],
   "source": [
    "par.opt_method = 'Nelder-Mead'\n",
    "par.opt_tol = 1e-6\n",
    "par.opt_maxiter = 1000\n",
    "\n",
    "%time model.solve()"
   ]
  },
  {
   "cell_type": "code",
   "execution_count": null,
   "metadata": {},
   "outputs": [],
   "source": [
    "par.simN = 1000\n",
    "\n",
    "model.allocate_sim()"
   ]
  },
  {
   "cell_type": "code",
   "execution_count": null,
   "metadata": {},
   "outputs": [],
   "source": [
    "%time model.simulate()"
   ]
  },
  {
   "cell_type": "code",
   "execution_count": null,
   "metadata": {},
   "outputs": [],
   "source": [
    "# plt.plot(np.arange(par.T),model.sim.a.T)\n",
    "# plt.show\n",
    "plt.plot(np.arange(par.T),model.sim.k.T)\n",
    "plt.show\n",
    "# plt.plot(np.arange(par.T),model.sim.a.T)\n",
    "# plt.show\n"
   ]
  },
  {
   "cell_type": "code",
   "execution_count": null,
   "metadata": {},
   "outputs": [],
   "source": [
    "plt.plot(np.arange(par.T),model.sim.w.T)\n",
    "plt.show\n",
    "plt.plot(np.arange(par.T),model.sim.k.T)\n",
    "plt.show"
   ]
  },
  {
   "cell_type": "code",
   "execution_count": null,
   "metadata": {},
   "outputs": [],
   "source": [
    "plt.plot(np.arange(par.T),model.sim.h.T)\n",
    "plt.show"
   ]
  },
  {
   "cell_type": "code",
   "execution_count": null,
   "metadata": {},
   "outputs": [],
   "source": [
    "sol.c.shape"
   ]
  },
  {
   "cell_type": "code",
   "execution_count": null,
   "metadata": {},
   "outputs": [],
   "source": [
    "for i in range(sol.V.shape[3]):\n",
    "    plt.plot(np.arange(par.T),sol.c[:, 2, 1, i])\n"
   ]
  },
  {
   "cell_type": "code",
   "execution_count": null,
   "metadata": {},
   "outputs": [],
   "source": [
    "for i in range(sol.V.shape[3]):\n",
    "    plt.plot(np.arange(par.T),sol.V[:, 4, 4, i])"
   ]
  },
  {
   "cell_type": "code",
   "execution_count": null,
   "metadata": {},
   "outputs": [],
   "source": [
    "sol.V[:-1, 4, 4, 4]-sol.V[1:, 4, 4, 4]"
   ]
  },
  {
   "cell_type": "code",
   "execution_count": null,
   "metadata": {},
   "outputs": [],
   "source": [
    "import numpy as np\n",
    "import matplotlib.pyplot as plt\n",
    "from mpl_toolkits.mplot3d import Axes3D\n",
    "\n",
    "# Choose a fixed k index (e.g., middle of the k_grid)\n",
    "k_idx = 1\n",
    "k_fixed = par.k_grid[k_idx]  \n",
    "\n",
    "# Extract the meshgrid for plotting\n",
    "a_mesh, s_mesh = np.meshgrid(par.a_grid, par.s_grid, indexing='ij')\n",
    "\n",
    "# Extract solutions at time t and fixed k\n",
    "t = 20\n",
    "c_plot = sol.c[t, :, :, k_idx]  # Fix k_idx\n",
    "h_plot = sol.h[t, :, :, k_idx]\n",
    "V_plot = sol.V[t, :, :, k_idx]\n",
    "\n",
    "# Plot consumption\n",
    "fig = plt.figure()\n",
    "ax = plt.axes(projection='3d')\n",
    "ax.plot_surface(a_mesh, s_mesh, c_plot, rstride=1, cstride=1, cmap='viridis', edgecolor='none', alpha=0.75)\n",
    "ax.set(xlabel='Liquid assets, $a_{T}$', ylabel='Illiquid assets, $s_T$', zlabel='Consumption, $c_{T}^{\\star}$', title=f'Consumption at $k_T = {k_fixed:.2f}$')\n",
    "\n",
    "# Plot labor supply\n",
    "fig = plt.figure()\n",
    "ax = plt.axes(projection='3d')\n",
    "ax.plot_surface(a_mesh, s_mesh, h_plot, rstride=1, cstride=1, cmap='viridis', edgecolor='none', alpha=0.75)\n",
    "ax.set(xlabel='Liquid assets, $a_{T}$', ylabel='Illiquid assets, $s_T$', zlabel='Hours, $h_{T}^{\\star}$', title=f'Labor Supply at $k_T = {k_fixed:.2f}$')\n",
    "\n",
    "# Plot value function\n",
    "fig = plt.figure()\n",
    "ax = plt.axes(projection='3d')\n",
    "ax.plot_surface(a_mesh, s_mesh, V_plot, rstride=1, cstride=1, cmap='viridis', edgecolor='none', alpha=0.75)\n",
    "ax.set(xlabel='Liquid assets, $a_{T}$', ylabel='Illiquid assets, $s_T$', zlabel='Value, $V_{T}$', title=f'Value Function at $k_T = {k_fixed:.2f}$')\n",
    "\n",
    "plt.show()\n"
   ]
  },
  {
   "cell_type": "code",
   "execution_count": null,
   "metadata": {},
   "outputs": [],
   "source": []
  }
 ],
 "metadata": {
  "kernelspec": {
   "display_name": "s_speciale",
   "language": "python",
   "name": "python3"
  },
  "language_info": {
   "codemirror_mode": {
    "name": "ipython",
    "version": 3
   },
   "file_extension": ".py",
   "mimetype": "text/x-python",
   "name": "python",
   "nbconvert_exporter": "python",
   "pygments_lexer": "ipython3",
   "version": "3.13.1"
  }
 },
 "nbformat": 4,
 "nbformat_minor": 2
}
