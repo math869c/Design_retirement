{
 "cells": [
  {
   "cell_type": "code",
   "execution_count": null,
   "id": "6f06393d",
   "metadata": {},
   "outputs": [],
   "source": [
    "%load_ext autoreload\n",
    "%autoreload 2\n",
    "import numpy as np\n",
    "import matplotlib.pyplot as plt\n",
    "from mpl_toolkits import mplot3d\n",
    "from mpl_toolkits.mplot3d import Axes3D\n",
    "from WelfareMeasures import *\n",
    "from functions_njit import tax_rate_fct\n",
    "from bernoulli_distribution import Bernoulli\n",
    "from help_functions_non_njit import *\n",
    "from graph_format import *\n",
    "# load local model file and initialize model class\n",
    "from model import ModelClass\n",
    "from scipy.optimize import minimize"
   ]
  },
  {
   "cell_type": "markdown",
   "id": "1f995b57",
   "metadata": {},
   "source": [
    "# Load original model"
   ]
  },
  {
   "cell_type": "code",
   "execution_count": null,
   "id": "69dcfb3a",
   "metadata": {},
   "outputs": [],
   "source": [
    "model = ModelClass() # set a few number of periods.\n",
    "\n",
    "par = model.par\n",
    "sol = model.sol\n",
    "sim = model.sim\n",
    "par.opt_tol = 1e-6\n",
    "par.opt_maxiter = 1000\n",
    "\n",
    "%time model.solve(do_print=False)\n",
    "%time model.simulate()"
   ]
  },
  {
   "cell_type": "code",
   "execution_count": null,
   "id": "64c21354",
   "metadata": {},
   "outputs": [],
   "source": [
    "time = np.arange(par.T)\n",
    "data_dict_basic = {\n",
    "    \"Wages (w)\": {\"data\": np.mean(model.sim.w[:], axis=0), \"unit\": \"DKK\"},\n",
    "    \"Assets (a)\": {\"data\": np.mean(model.sim.a[:], axis=0), \"unit\": \"DKK\"},\n",
    "    \"Consumption (c)\": {\"data\": np.mean(model.sim.c[:], axis=0), \"unit\": \"DKK\"},\n",
    "    \"Illiquid Savings (s)\": {\"data\": np.mean(model.sim.s[:], axis=0), \"unit\": \"DKK\"},\n",
    "}\n",
    "\n",
    "plot_simulation_one_graph(data_dict_basic, time, title=\"Economic Trajectories\")"
   ]
  },
  {
   "cell_type": "markdown",
   "id": "594be777",
   "metadata": {},
   "source": [
    "# Counter factual"
   ]
  },
  {
   "cell_type": "code",
   "execution_count": null,
   "id": "85748080",
   "metadata": {},
   "outputs": [],
   "source": [
    "# Change parameters and re-solve\n",
    "theta = [2]\n",
    "theta_names = ['early_benefits_lag']\n",
    "\n",
    "og_model, new_model =  make_new_model(model, theta, theta_names, do_print = False)\n"
   ]
  },
  {
   "cell_type": "markdown",
   "id": "d08b4538",
   "metadata": {},
   "source": [
    "# Labor supply"
   ]
  },
  {
   "cell_type": "code",
   "execution_count": null,
   "id": "4ff43e7b",
   "metadata": {},
   "outputs": [],
   "source": [
    "# Compare models \n",
    "consumption_eq = find_consumption_equivalence(og_model, new_model, do_print= True, the_method = 'brentq')\n",
    "intensive_margin, extensive_margin, total_margin, total_per_person, intensive_margin_age, extensive_margin_age, total_margin_age  = labor_elasticity(og_model, new_model)\n",
    "\n",
    "\n",
    "plot_labor_margins_by_age(\n",
    "    intensive_age=intensive_margin_age,\n",
    "    extensive_age=extensive_margin_age,\n",
    "    total_age=total_margin_age,\n",
    "    avg_intensive=intensive_margin,\n",
    "    avg_extensive=extensive_margin,\n",
    "    avg_total=total_margin,\n",
    "    age_start=par.start_age,\n",
    "    title_prefix=\"Labor Supply — \",\n",
    "    save_title=\"CF_ef_age_2_labor_.png\"\n",
    ")"
   ]
  },
  {
   "cell_type": "markdown",
   "id": "5b764325",
   "metadata": {},
   "source": [
    "# Consumption Equivalence - distribution"
   ]
  },
  {
   "cell_type": "code",
   "execution_count": null,
   "id": "27270c31",
   "metadata": {},
   "outputs": [],
   "source": [
    "con_eq = analytical_consumption_equivalence_indi(og_model, new_model)\n",
    "plot_event_histogram(con_eq[:]*100, 'Consumption Equivalence', \n",
    "                    #  'Consumption Equivalence Distribution for a 30-year-old',\n",
    "                         label1=\"Consumptin Equivalence\",\n",
    "                         figsize=(10, 6), bins=50, range=(-2,2), median_val=np.median(con_eq), mean_val =np.mean(con_eq), save_title='CF_ef_age_2_CE_dist')"
   ]
  },
  {
   "cell_type": "markdown",
   "id": "14eca6c1",
   "metadata": {},
   "source": [
    "# Unofficial retirement age"
   ]
  },
  {
   "cell_type": "code",
   "execution_count": null,
   "id": "259c4620",
   "metadata": {},
   "outputs": [],
   "source": [
    "# 1. Find last time ex == 1 for each individual\n",
    "last_working = np.full(og_model.sim.ex.shape[0], np.nan)  # initialize\n",
    "\n",
    "for i in range(og_model.sim.ex.shape[0]):\n",
    "    working = np.where(og_model.sim.ex[i, :] == 1)[0]  # find where ex=1\n",
    "    if working.size > 0:\n",
    "        last_working[i] = working[-1]  # last time they worked (take last index)\n",
    "\n",
    "# 1. Find last time ex == 1 for each individual\n",
    "last_working_new = np.full(new_model.sim.ex.shape[0], np.nan)  # initialize\n",
    "\n",
    "for i in range(new_model.sim.ex.shape[0]):\n",
    "    working_new = np.where(new_model.sim.ex[i, :] == 1)[0]  # find where ex=1\n",
    "    if working_new.size > 0:\n",
    "        last_working_new[i] = working_new[-1]  # last time they worked (take last index)\n",
    "\n",
    "plot_event_bar_series(\n",
    "    values1=last_working,\n",
    "    values2=last_working_new,\n",
    "    xlabel=\"Retirement Age\",\n",
    "    # title=\"Timing of Unofficial Retirement\",\n",
    "    label1=\"Baseline\",\n",
    "    label2=\"Early Retirement Age 3 Years before PPA\",\n",
    "    bins=np.arange(25, 46),\n",
    "    save_title=\"CF_ef_age_2_un_ret.png\",\n",
    ")\n"
   ]
  },
  {
   "cell_type": "markdown",
   "id": "be2db9f7",
   "metadata": {},
   "source": [
    "# Official retirement age"
   ]
  },
  {
   "cell_type": "code",
   "execution_count": null,
   "id": "73392c5f",
   "metadata": {},
   "outputs": [],
   "source": [
    "def official_retirement(model):\n",
    "    first_retirement = np.full(model.sim.e.shape[0], np.nan)  # initialize\n",
    "\n",
    "    for i in range(model.sim.e.shape[0]):\n",
    "        retired = np.where(model.sim.e[i, :] == 2)[0]  # find where e=2\n",
    "        if retired.size > 0:\n",
    "            first_retirement[i] = retired[0]  # first time they retire\n",
    "        if model.sim.efter_init[i]:\n",
    "            if len(model.sim.ex[i,:]) - np.argmax(model.sim.ex[i,:][::-1] == 1)< first_retirement[i]:\n",
    "                first_retirement[i] = len(model.sim.ex[i,:]) - np.argmax(model.sim.ex[i,:][::-1] == 1)\n",
    "\n",
    "    return first_retirement"
   ]
  },
  {
   "cell_type": "code",
   "execution_count": null,
   "id": "fdbe2804",
   "metadata": {},
   "outputs": [],
   "source": [
    "first_retirement_og = official_retirement(og_model)\n",
    "first_retirement_new = official_retirement(new_model)\n",
    "\n",
    "plot_event_bar_series(\n",
    "    values1=first_retirement_og,\n",
    "    values2=first_retirement_new,\n",
    "    xlabel=\"Official Retirement Age\",\n",
    "    # title=\"Timing of Official Retirement\",\n",
    "    label1=\"Baseline\",\n",
    "    label2=\"Early Retirement Age 3 Years before PPA\",\n",
    "    bins=np.arange(25, 46),\n",
    "    save_title=\"CF_ef_age_2_of_ret.png\",\n",
    ")\n"
   ]
  },
  {
   "cell_type": "markdown",
   "id": "d205f464",
   "metadata": {},
   "source": [
    "# Voluntary retirement age"
   ]
  },
  {
   "cell_type": "code",
   "execution_count": null,
   "id": "0da40510",
   "metadata": {},
   "outputs": [],
   "source": [
    "og_ret_counts = np.sum(og_model.sim.ret_flag[:, :], axis=0)\n",
    "new_ret_counts = np.sum(new_model.sim.ret_flag[:, :], axis=0)\n",
    "plot_bar_series_comparison(\n",
    "    og_ret_counts,\n",
    "    new_ret_counts,\n",
    "    label1=\"Baseline\",\n",
    "    label2=\"Early Retirement Age 3 Years before PPA\",\n",
    "    # title=\"Voluntary Retirements per Period\",\n",
    "    xlabel=\"Age\",\n",
    "    normalize=True,\n",
    "    t_start=25, \n",
    "    t_end=46,\n",
    "    save_title=\"CF_ef_age_2_vol_ret.png\",\n",
    ")\n"
   ]
  },
  {
   "cell_type": "markdown",
   "id": "616fd39c",
   "metadata": {},
   "source": [
    "# Consumption Replacement Rate"
   ]
  },
  {
   "cell_type": "code",
   "execution_count": null,
   "id": "376634f7",
   "metadata": {},
   "outputs": [],
   "source": [
    "plot_event_histogram(\n",
    "    values1=consumption_replacement_rate_fct(og_model),\n",
    "    values2=consumption_replacement_rate_fct(new_model),\n",
    "    xlabel=\"Consumption Replacement Rate\",\n",
    "    # title=\"Consumption Replacement Rate\",\n",
    "    label1=\"Baseline\",\n",
    "    label2=\"Early Retirement Age 3 Years before PPA\",\n",
    "    bins=30,\n",
    "    save_title=\"CF_ef_age_2_CR.png\",\n",
    ")"
   ]
  },
  {
   "cell_type": "markdown",
   "id": "94fa6787",
   "metadata": {},
   "source": [
    "# Replacement Rate"
   ]
  },
  {
   "cell_type": "code",
   "execution_count": null,
   "id": "06b5d509",
   "metadata": {},
   "outputs": [],
   "source": [
    "plot_event_histogram(\n",
    "    values1=replacement_rate_fct(og_model),\n",
    "    values2=replacement_rate_fct(new_model),\n",
    "    xlabel=\"Replacement Rate\",\n",
    "    # title=\"Replacement Rate\",\n",
    "    label1=\"Baseline\",\n",
    "    label2=\"Early Retirement Age 3 Years before PPA\",\n",
    "    bins=30,\n",
    "    save_title=\"CF_ef_age_2_RR.png\"\n",
    ")\n"
   ]
  },
  {
   "cell_type": "markdown",
   "id": "019b09ab",
   "metadata": {},
   "source": [
    "# Consumption equivalence over Age"
   ]
  },
  {
   "cell_type": "code",
   "execution_count": null,
   "id": "4c910569",
   "metadata": {},
   "outputs": [],
   "source": [
    "EV_age_new, EV_weight_new = ev_model(new_model)\n",
    "phi_age, phi_avg = analytical_age_phi(og_model, EV_age_new)\n",
    "plot_single_line_with_reference(\n",
    "    line_data=phi_age,\n",
    "    reference_value=phi_avg,\n",
    "    label_line=\"CE each year\",\n",
    "    label_ref=\"Avg. CE\",\n",
    "    ylabel=\"Equivalence\",\n",
    "    scale=100,\n",
    "    save_title=\"CF_ef_age_2_CE_age.png\"\n",
    ")"
   ]
  },
  {
   "cell_type": "markdown",
   "id": "1c242696",
   "metadata": {},
   "source": [
    "# Comparison of means"
   ]
  },
  {
   "cell_type": "code",
   "execution_count": null,
   "id": "25a5ff45",
   "metadata": {},
   "outputs": [],
   "source": [
    "time = np.arange(par.T)\n",
    "\n",
    "# Data for selected summary variables\n",
    "summary_vars = [\"Wages (w)\", \"Assets (a)\", \"Consumption (c)\", \"Illiquid Savings (s)\"]\n",
    "simulated_data_new = {\n",
    "    \"Wages (w)\": np.mean(new_model.sim.w[:], axis=0),\n",
    "    \"Assets (a)\": np.mean(new_model.sim.a[:], axis=0),\n",
    "    \"Consumption (c)\": np.mean(new_model.sim.c[:], axis=0),\n",
    "    \"Illiquid Savings (s)\": np.mean(new_model.sim.s[:], axis=0),\n",
    "}\n",
    "simulated_data_og = {\n",
    "    \"Wages (w)\": np.mean(og_model.sim.w[:], axis=0),\n",
    "    \"Assets (a)\": np.mean(og_model.sim.a[:], axis=0),\n",
    "    \"Consumption (c)\": np.mean(og_model.sim.c[:], axis=0),\n",
    "    \"Illiquid Savings (s)\": np.mean(og_model.sim.s[:], axis=0),\n",
    "}\n",
    "\n",
    "plot_comparison_single_panel(simulated_data_og, simulated_data_new, summary_vars, time, save_title=\"CF_ef_age_2_means.png\")\n"
   ]
  }
 ],
 "metadata": {
  "kernelspec": {
   "display_name": "s_speciale",
   "language": "python",
   "name": "python3"
  },
  "language_info": {
   "codemirror_mode": {
    "name": "ipython",
    "version": 3
   },
   "file_extension": ".py",
   "mimetype": "text/x-python",
   "name": "python",
   "nbconvert_exporter": "python",
   "pygments_lexer": "ipython3",
   "version": "3.13.1"
  }
 },
 "nbformat": 4,
 "nbformat_minor": 5
}
