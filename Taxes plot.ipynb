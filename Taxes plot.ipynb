{
 "cells": [
  {
   "cell_type": "code",
   "execution_count": null,
   "id": "eada74fa",
   "metadata": {},
   "outputs": [],
   "source": [
    "import numpy as np\n",
    "import matplotlib.pyplot as plt\n",
    "\n",
    "# Constants (same as the SAS code, simplified for loen = \"ja\")\n",
    "am_sats                   = 0.08\n",
    "beskfradrag_sats          = 0.875\n",
    "bundskat_sats             = 0.113\n",
    "topskat_sats              = 0.15\n",
    "kommuneskat_sats          = 0.2491\n",
    "personfradrag             = 46000\n",
    "beskfradrag_graense       = 33300\n",
    "topskat_graense           = 498900\n",
    "\n",
    "def calculate_tax_rate(ind_aar):\n",
    "\n",
    "    am_aar = ind_aar * am_sats\n",
    "    personlignd_aar = (ind_aar - am_aar)\n",
    "    grundlag_aar = max(personlignd_aar - personfradrag, 0)\n",
    "    beskfradrag_aar = min(beskfradrag_graense, ind_aar * beskfradrag_sats)\n",
    "    skattepligt_aar = (grundlag_aar - beskfradrag_aar)\n",
    "    bundskat_aar = (grundlag_aar * bundskat_sats)\n",
    "    topskat_aar = (topskat_sats * max(personlignd_aar - topskat_graense, 0))\n",
    "    kommuneskat_aar = (kommuneskat_sats * skattepligt_aar)\n",
    "\n",
    "    # Notice kirkeskat was never added to 'indkomstskat' in the original code\n",
    "    indkomstskat_aar = (am_aar + bundskat_aar + topskat_aar + kommuneskat_aar)\n",
    "    ind_efter_aar = (ind_aar - indkomstskat_aar)\n",
    "\n",
    "    # Effective tax rate\n",
    "    skatteprocent_aar = max(1 - (ind_efter_aar / ind_aar), 0)\n",
    "    return skatteprocent_aar\n",
    "\n",
    "\n",
    "incomes = np.linspace(1, 3000000, 1000)\n",
    "tax_rates = []\n",
    "\n",
    "tax_rates = [calculate_tax_rate(x) for x in incomes]\n",
    "\n",
    "# Plot\n",
    "plt.figure(figsize=(10, 6))\n",
    "plt.plot(incomes, tax_rates, label=\"Effective Tax Rate\")\n",
    "plt.xlabel(\"Annual Income (DKK)\")\n",
    "plt.ylabel(\"Effective Tax Rate\")\n",
    "plt.title(\"Effective Tax Rate vs. Income\")\n",
    "plt.grid(True)\n",
    "plt.legend()\n",
    "plt.tight_layout()\n",
    "plt.show()"
   ]
  }
 ],
 "metadata": {
  "kernelspec": {
   "display_name": "base",
   "language": "python",
   "name": "python3"
  },
  "language_info": {
   "codemirror_mode": {
    "name": "ipython",
    "version": 3
   },
   "file_extension": ".py",
   "mimetype": "text/x-python",
   "name": "python",
   "nbconvert_exporter": "python",
   "pygments_lexer": "ipython3",
   "version": "3.12.7"
  }
 },
 "nbformat": 4,
 "nbformat_minor": 5
}
