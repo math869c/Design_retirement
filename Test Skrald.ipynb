{
 "cells": [
  {
   "cell_type": "code",
   "execution_count": 5,
   "metadata": {},
   "outputs": [],
   "source": [
    "import pandas as pd\n",
    "import numpy as np\n",
    "\n",
    "means_data = pd.read_csv(\"Data/mean_matrix.csv\")\n",
    "covariance_matrix = pd.read_csv(\"Data/variance_matrix_30.csv\")\n",
    "means = np.array(means_data[[\"formue_2018_Mean\", \"pension_2018_Mean\", \"hourly_salary_Mean\"]])[0]\n",
    "covariance_matrix.set_index('_NAME_', inplace=True)\n",
    "covar_array = np.array(covariance_matrix.loc[[\"formue_2018\", \"pension_2018\", \"hourly_salary\"], [\"formue_2018\", \"pension_2018\", \"hourly_salary\"]].values)\n"
   ]
  },
  {
   "cell_type": "code",
   "execution_count": 6,
   "metadata": {},
   "outputs": [
    {
     "data": {
      "text/plain": [
       "array([[1.46911229e+11, 6.02511839e+09, 4.95039002e+06],\n",
       "       [6.02511839e+09, 7.82006946e+09, 1.72700247e+06],\n",
       "       [4.95039002e+06, 1.72700247e+06, 4.69833979e+03]])"
      ]
     },
     "execution_count": 6,
     "metadata": {},
     "output_type": "execute_result"
    }
   ],
   "source": [
    "covar_array"
   ]
  },
  {
   "cell_type": "code",
   "execution_count": 14,
   "metadata": {},
   "outputs": [],
   "source": [
    "means_data = pd.read_csv(\"Data/mean_matrix.csv\")\n",
    "covariance_matrix = pd.read_csv(\"Data/variance_matrix.csv\")\n",
    "means = np.array(means_data[[\"formue_2018_Mean\", \"pension_2018_Mean\", \"yearly_salary_Mean\"]])[0]"
   ]
  },
  {
   "cell_type": "code",
   "execution_count": 15,
   "metadata": {},
   "outputs": [],
   "source": [
    "covar_array = covariance_matrix[pd.notna(covariance_matrix['formue_2018_30'])].dropna(axis=1, how='all').iloc[0:3,2:5]"
   ]
  },
  {
   "cell_type": "code",
   "execution_count": 23,
   "metadata": {},
   "outputs": [],
   "source": [
    "means_data = pd.read_csv(\"Data/mean_matrix.csv\")\n",
    "covariance_matrix = pd.read_csv(\"Data/variance_matrix.csv\")\n",
    "means = np.array(means_data[[\"formue_2018_Mean\", \"hourly_salary_Mean\", \"pension_2018_Mean\"]])[0]\n",
    "covar_array = np.array(covariance_matrix.loc[[0, 70, 140], [\"formue_2018_30\", \"hourly_salary_30\", \"pension_2018_30\"]])"
   ]
  },
  {
   "cell_type": "code",
   "execution_count": 24,
   "metadata": {},
   "outputs": [
    {
     "data": {
      "text/plain": [
       "array([[1.46911229e+11, 4.95039002e+06, 6.02511839e+09],\n",
       "       [4.95039002e+06, 4.69833979e+03, 1.72700247e+06],\n",
       "       [6.02511839e+09, 1.72700247e+06, 7.82006946e+09]])"
      ]
     },
     "execution_count": 24,
     "metadata": {},
     "output_type": "execute_result"
    }
   ],
   "source": [
    "covar_array"
   ]
  },
  {
   "cell_type": "code",
   "execution_count": 8,
   "metadata": {},
   "outputs": [],
   "source": [
    "from model import ModelClass\n",
    "\n",
    "model = ModelClass() # set a few number of periods.\n",
    "\n",
    "par = model.par\n",
    "sol = model.sol\n",
    "sim = model.sim"
   ]
  },
  {
   "cell_type": "code",
   "execution_count": 9,
   "metadata": {},
   "outputs": [
    {
     "name": "stderr",
     "output_type": "stream",
     "text": [
      "C:\\Users\\B465929\\AppData\\Local\\Temp\\ipykernel_17844\\156841272.py:27: RuntimeWarning: divide by zero encountered in divide\n",
      "  weights = 1 / diagonal\n"
     ]
    }
   ],
   "source": [
    "means_data = pd.read_csv(\"Data/mean_matrix.csv\")\n",
    "covariance_matrix = pd.read_csv(\"Data/variance_matrix.csv\")\n",
    "\n",
    "# Concate to the final moments\n",
    "assets = np.array(means_data[\"formue_2018_Mean\"])\n",
    "savings = np.array(means_data[\"pension_2018_Mean\"])\n",
    "hours = np.array(means_data[\"yearly_hours_Mean\"])/par.full_time_hours\n",
    "mean = np.concatenate([assets, \n",
    "                    savings, \n",
    "                    hours])\n",
    "moments = {'assets':assets, 'savings':savings, 'hours':hours}\n",
    "\n",
    "# Alter covariance matrix to create the final weighting matrix\n",
    "numeric_cols = covariance_matrix.select_dtypes(include=[np.number]).columns[1:]\n",
    "\n",
    "row_mask = covariance_matrix[\"_NAME_\"].str.startswith(\"yearly_hours\")\n",
    "col_mask = [col for col in covariance_matrix.columns if col.startswith(\"yearly_hours\")]\n",
    "\n",
    "covariance_matrix.loc[row_mask, numeric_cols] = covariance_matrix.loc[row_mask, numeric_cols].astype(float)\n",
    "\n",
    "covariance_matrix.loc[row_mask, numeric_cols] /= par.full_time_hours\n",
    "\n",
    "covariance_matrix[col_mask] /= par.full_time_hours\n",
    "\n",
    "diagonal = np.diag(np.nan_to_num(covariance_matrix[numeric_cols].to_numpy(), nan=0))\n",
    "\n",
    "weights = 1 / diagonal"
   ]
  },
  {
   "cell_type": "code",
   "execution_count": 50,
   "metadata": {},
   "outputs": [
    {
     "data": {
      "text/plain": [
       "array([1.46911229e+11, 1.65942896e+11, 1.89399977e+11, 2.02733309e+11,\n",
       "       2.24423887e+11, 2.48458395e+11, 2.62816790e+11, 2.82810164e+11,\n",
       "       3.05600861e+11, 3.24912809e+11, 3.49259917e+11, 3.68119347e+11,\n",
       "       3.88003250e+11, 4.05671916e+11, 4.27422986e+11, 4.40382712e+11,\n",
       "       4.55482273e+11, 4.70362255e+11, 4.74022847e+11, 4.89120378e+11,\n",
       "       4.99324410e+11, 5.09470640e+11, 5.20332773e+11, 5.33005513e+11,\n",
       "       5.38725337e+11, 5.50055657e+11, 5.53942748e+11, 5.60610162e+11,\n",
       "       5.65811779e+11, 5.71069075e+11, 5.72022272e+11, 5.75611330e+11,\n",
       "       5.82043442e+11, 5.81040513e+11, 5.80582238e+11, 5.83030407e+11,\n",
       "       5.88950295e+11, 5.99316246e+11, 5.98954193e+11, 6.01906514e+11,\n",
       "       6.09798552e+11, 6.07021657e+11, 6.12400813e+11, 6.10273833e+11,\n",
       "       6.06314129e+11, 6.07422138e+11, 6.10517940e+11, 5.96651296e+11,\n",
       "       5.88021852e+11, 5.84141484e+11, 5.72086703e+11, 5.68253091e+11,\n",
       "       5.60434826e+11, 5.48625325e+11, 5.47084749e+11, 5.46896732e+11,\n",
       "       5.38436914e+11, 5.31198755e+11, 5.37161034e+11, 5.30221301e+11,\n",
       "       5.23052175e+11, 5.22568644e+11, 5.11039242e+11, 5.17291356e+11,\n",
       "       5.15989885e+11, 4.95619456e+11, 4.90246073e+11, 4.95419476e+11,\n",
       "       4.99347179e+11, 4.83927232e+11, 4.69833979e+03, 4.96343132e+03,\n",
       "       5.33689490e+03, 5.70297545e+03, 5.97614772e+03, 6.46484574e+03,\n",
       "       6.65454085e+03, 7.06822757e+03, 7.37003595e+03, 7.63406366e+03,\n",
       "       7.92871255e+03, 7.96726717e+03, 8.25491875e+03, 8.50165070e+03,\n",
       "       8.82807893e+03, 8.87373375e+03, 9.09362423e+03, 9.37235331e+03,\n",
       "       9.38385214e+03, 9.25562542e+03, 9.27550405e+03, 9.24509818e+03,\n",
       "       8.96683934e+03, 8.93552680e+03, 8.70298307e+03, 8.56168045e+03,\n",
       "       8.13973955e+03, 8.05407900e+03, 7.88745817e+03, 7.76412802e+03,\n",
       "       7.67411987e+03, 7.52426269e+03, 7.39440866e+03, 8.24007306e+03,\n",
       "       8.73270414e+03, 1.00403699e+04, 1.04677089e+04, 1.08276470e+04,\n",
       "       1.10493029e+04, 1.12760438e+04, 0.00000000e+00, 0.00000000e+00,\n",
       "       0.00000000e+00, 0.00000000e+00, 0.00000000e+00, 0.00000000e+00,\n",
       "       0.00000000e+00, 0.00000000e+00, 0.00000000e+00, 0.00000000e+00,\n",
       "       0.00000000e+00, 0.00000000e+00, 0.00000000e+00, 0.00000000e+00,\n",
       "       0.00000000e+00, 0.00000000e+00, 0.00000000e+00, 0.00000000e+00,\n",
       "       0.00000000e+00, 0.00000000e+00, 0.00000000e+00, 0.00000000e+00,\n",
       "       0.00000000e+00, 0.00000000e+00, 0.00000000e+00, 0.00000000e+00,\n",
       "       0.00000000e+00, 0.00000000e+00, 0.00000000e+00, 0.00000000e+00,\n",
       "       7.82006946e+09, 1.01725377e+10, 1.27373724e+10, 1.48662629e+10,\n",
       "       1.67663500e+10, 1.82817525e+10, 1.92259867e+10, 1.95951421e+10,\n",
       "       1.95243609e+10, 1.90949687e+10, 1.83651553e+10, 1.77066355e+10,\n",
       "       1.66962799e+10, 1.57749156e+10, 1.51537859e+10, 1.44504632e+10,\n",
       "       1.36406790e+10, 1.30044803e+10, 1.30232737e+10, 1.25020468e+10,\n",
       "       1.23676656e+10, 1.14481413e+10, 1.07723548e+10, 1.05726923e+10,\n",
       "       1.04079625e+10, 1.00419637e+10, 9.73159197e+09, 9.11210986e+09,\n",
       "       9.33959421e+09, 8.77736358e+09, 8.84467032e+09, 8.68971626e+09,\n",
       "       8.70032579e+09, 8.63168601e+09, 8.73876986e+09, 9.42161609e+09,\n",
       "       9.95021549e+09, 1.06220645e+10, 1.11945637e+10, 1.16419973e+10,\n",
       "       1.21657424e+10, 1.30742744e+10, 1.42547315e+10, 1.55813273e+10,\n",
       "       1.68298791e+10, 1.79788884e+10, 1.90665915e+10, 1.99040159e+10,\n",
       "       2.05048067e+10, 2.05681380e+10, 2.04161637e+10, 2.08082640e+10,\n",
       "       2.11232605e+10, 2.11994694e+10, 2.14801550e+10, 2.15815119e+10,\n",
       "       2.15575940e+10, 2.10590022e+10, 2.07837638e+10, 1.95531764e+10,\n",
       "       1.86002449e+10, 1.73865479e+10, 1.52062788e+10, 1.39574111e+10,\n",
       "       1.27546704e+10, 1.06213770e+10, 9.39371513e+09, 7.82031070e+09,\n",
       "       6.17791633e+09, 6.00661405e+09])"
      ]
     },
     "execution_count": 50,
     "metadata": {},
     "output_type": "execute_result"
    }
   ],
   "source": [
    "diagonal"
   ]
  },
  {
   "cell_type": "code",
   "execution_count": 41,
   "metadata": {},
   "outputs": [
    {
     "ename": "LinAlgError",
     "evalue": "Singular matrix",
     "output_type": "error",
     "traceback": [
      "\u001b[1;31m---------------------------------------------------------------------------\u001b[0m",
      "\u001b[1;31mLinAlgError\u001b[0m                               Traceback (most recent call last)",
      "Cell \u001b[1;32mIn[41], line 1\u001b[0m\n\u001b[1;32m----> 1\u001b[0m weights \u001b[38;5;241m=\u001b[39m np\u001b[38;5;241m.\u001b[39mlinalg\u001b[38;5;241m.\u001b[39minv(np\u001b[38;5;241m.\u001b[39mnan_to_num(covariance_matrix[numeric_cols]\u001b[38;5;241m.\u001b[39mto_numpy(), nan\u001b[38;5;241m=\u001b[39m\u001b[38;5;241m0\u001b[39m))\n",
      "File \u001b[1;32mc:\\Users\\B465929\\AppData\\Local\\anaconda3\\Lib\\site-packages\\numpy\\linalg\\linalg.py:561\u001b[0m, in \u001b[0;36minv\u001b[1;34m(a)\u001b[0m\n\u001b[0;32m    559\u001b[0m signature \u001b[38;5;241m=\u001b[39m \u001b[38;5;124m'\u001b[39m\u001b[38;5;124mD->D\u001b[39m\u001b[38;5;124m'\u001b[39m \u001b[38;5;28;01mif\u001b[39;00m isComplexType(t) \u001b[38;5;28;01melse\u001b[39;00m \u001b[38;5;124m'\u001b[39m\u001b[38;5;124md->d\u001b[39m\u001b[38;5;124m'\u001b[39m\n\u001b[0;32m    560\u001b[0m extobj \u001b[38;5;241m=\u001b[39m get_linalg_error_extobj(_raise_linalgerror_singular)\n\u001b[1;32m--> 561\u001b[0m ainv \u001b[38;5;241m=\u001b[39m _umath_linalg\u001b[38;5;241m.\u001b[39minv(a, signature\u001b[38;5;241m=\u001b[39msignature, extobj\u001b[38;5;241m=\u001b[39mextobj)\n\u001b[0;32m    562\u001b[0m \u001b[38;5;28;01mreturn\u001b[39;00m wrap(ainv\u001b[38;5;241m.\u001b[39mastype(result_t, copy\u001b[38;5;241m=\u001b[39m\u001b[38;5;28;01mFalse\u001b[39;00m))\n",
      "File \u001b[1;32mc:\\Users\\B465929\\AppData\\Local\\anaconda3\\Lib\\site-packages\\numpy\\linalg\\linalg.py:112\u001b[0m, in \u001b[0;36m_raise_linalgerror_singular\u001b[1;34m(err, flag)\u001b[0m\n\u001b[0;32m    111\u001b[0m \u001b[38;5;28;01mdef\u001b[39;00m \u001b[38;5;21m_raise_linalgerror_singular\u001b[39m(err, flag):\n\u001b[1;32m--> 112\u001b[0m     \u001b[38;5;28;01mraise\u001b[39;00m LinAlgError(\u001b[38;5;124m\"\u001b[39m\u001b[38;5;124mSingular matrix\u001b[39m\u001b[38;5;124m\"\u001b[39m)\n",
      "\u001b[1;31mLinAlgError\u001b[0m: Singular matrix"
     ]
    }
   ],
   "source": [
    "weights = np.linalg.inv(np.nan_to_num(covariance_matrix[numeric_cols].to_numpy(), nan=0))"
   ]
  }
 ],
 "metadata": {
  "kernelspec": {
   "display_name": "base",
   "language": "python",
   "name": "python3"
  },
  "language_info": {
   "codemirror_mode": {
    "name": "ipython",
    "version": 3
   },
   "file_extension": ".py",
   "mimetype": "text/x-python",
   "name": "python",
   "nbconvert_exporter": "python",
   "pygments_lexer": "ipython3",
   "version": "3.12.7"
  }
 },
 "nbformat": 4,
 "nbformat_minor": 2
}
