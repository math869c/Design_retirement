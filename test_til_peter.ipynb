{
 "cells": [
  {
   "cell_type": "code",
   "execution_count": 1,
   "id": "fd5c0fc9",
   "metadata": {},
   "outputs": [],
   "source": [
    "%load_ext autoreload\n",
    "%autoreload 2\n",
    "import numpy as np\n",
    "import matplotlib.pyplot as plt\n",
    "from mpl_toolkits import mplot3d\n",
    "from mpl_toolkits.mplot3d import Axes3D\n",
    "from WelfareMeasures import *\n",
    "from functions_njit import tax_rate_fct\n",
    "from bernoulli_distribution import Bernoulli\n",
    "from help_functions_non_njit import *\n",
    "from graph_format import *\n",
    "# load local model file and initialize model class\n",
    "from model import ModelClass\n",
    "from scipy.optimize import minimize"
   ]
  },
  {
   "cell_type": "code",
   "execution_count": null,
   "id": "79e5c6b8",
   "metadata": {},
   "outputs": [],
   "source": [
    "model = ModelClass() # set a few number of periods.\n",
    "\n",
    "par = model.par\n",
    "sol = model.sol\n",
    "sim = model.sim\n",
    "par.opt_tol = 1e-6\n",
    "par.opt_maxiter = 1000\n",
    "\n",
    "%time model.solve(do_print=False)\n",
    "%time model.simulate()"
   ]
  },
  {
   "cell_type": "code",
   "execution_count": null,
   "id": "77460f90",
   "metadata": {},
   "outputs": [],
   "source": [
    "ret_age = 49\n",
    "increasing_RPA = []\n",
    "\n",
    "for first_age in range(30, ret_age + 1):\n",
    "    early_age_lag = ret_age- first_age-4 #skal være 4 år før SPA\n",
    "\n",
    "    theta = [ret_age, first_age, early_age_lag]\n",
    "    theta_names = ['retirement_age', 'first_retirement', 'early_benefits_lag', ]\n",
    "\n",
    "    og_model, new_model = make_new_model(model, theta, theta_names, do_print=False)\n",
    "    consumption_eq = find_consumption_equivalence(og_model, new_model, do_print= False, the_method = 'brentq')\n",
    "\n",
    "    pi_cum = np.cumprod(og_model.par.pi)\n",
    "\n",
    "    total_margin_og = np.nanmean(pi_cum[:og_model.par.last_retirement] * og_model.sim.h[:, :og_model.par.last_retirement])\n",
    "    total_margin_new = np.nanmean(pi_cum[:og_model.par.last_retirement] * new_model.sim.h[:, :og_model.par.last_retirement])\n",
    "    total_margin = (total_margin_new - total_margin_og)\n",
    "\n",
    "    increasing_RPA.append([ret_age, first_age, early_age_lag+ first_age, total_margin, consumption_eq])\n",
    "    print(\"Done with first_age\", first_age)\n",
    "\n",
    "np.savetxt('increasing_RPA.txt', increasing_RPA)\n",
    "\n"
   ]
  },
  {
   "cell_type": "code",
   "execution_count": null,
   "id": "94d19692",
   "metadata": {},
   "outputs": [],
   "source": [
    "first_retirement = 30\n",
    "early_age_lag = 1\n",
    "increasing_SPA_fix_RPA_EPA = []\n",
    "\n",
    "for ret_age in range(first_retirement +early_age_lag, 50):\n",
    "\n",
    "    theta = [ret_age, first_age, early_age_lag]\n",
    "    theta_names = ['retirement_age', 'first_retirement', 'early_benefits_lag', ]\n",
    "\n",
    "    og_model, new_model = make_new_model(model, theta, theta_names, do_print=False)\n",
    "    consumption_eq = find_consumption_equivalence(og_model, new_model, do_print= False, the_method = 'brentq')\n",
    "\n",
    "    pi_cum = np.cumprod(og_model.par.pi)\n",
    "\n",
    "    total_margin_og = np.nanmean(pi_cum[:og_model.par.last_retirement] * og_model.sim.h[:, :og_model.par.last_retirement])\n",
    "    total_margin_new = np.nanmean(pi_cum[:og_model.par.last_retirement] * new_model.sim.h[:, :og_model.par.last_retirement])\n",
    "    total_margin = (total_margin_new - total_margin_og)\n",
    "\n",
    "    increasing_SPA_fix_RPA_EPA.append([ret_age, first_age, early_age_lag+ first_age, total_margin, consumption_eq])\n",
    "    print(\"Done with first_age\", ret_age)\n",
    "\n",
    "np.savetxt('increasing_SPA_fix_RPA_EPA.txt', increasing_SPA_fix_RPA_EPA)\n",
    "\n",
    "\n"
   ]
  },
  {
   "cell_type": "code",
   "execution_count": null,
   "id": "aebdd90f",
   "metadata": {},
   "outputs": [],
   "source": [
    "\n",
    "first_retirement = 30\n",
    "early_age_lag = 1\n",
    "increasing_SPA_fix_RPA_EPA = []\n",
    "\n",
    "for ret_age in range(first_retirement +early_age_lag, 50):\n",
    "    print(ret_age, first_retirement, early_age_lag)\n",
    "    theta = [ret_age, first_retirement, early_age_lag]\n",
    "    theta_names = ['retirement_age', 'first_retirement', 'early_benefits_lag', ]\n",
    "\n",
    "    og_model, new_model = make_new_model(model, theta, theta_names, do_print=False)\n",
    "    consumption_eq = find_consumption_equivalence(og_model, new_model, do_print= False, the_method = 'brentq')\n",
    "\n",
    "    pi_cum = np.cumprod(og_model.par.pi)\n",
    "\n",
    "    total_margin_og = np.nanmean(pi_cum[:og_model.par.last_retirement] * og_model.sim.h[:, :og_model.par.last_retirement])\n",
    "    total_margin_new = np.nanmean(pi_cum[:og_model.par.last_retirement] * new_model.sim.h[:, :og_model.par.last_retirement])\n",
    "    total_margin = (total_margin_new - total_margin_og)\n",
    "\n",
    "    increasing_SPA_fix_RPA_EPA.append([ret_age, first_retirement, early_age_lag+ first_retirement, total_margin, consumption_eq])\n",
    "    print(\"Done with first_age\", ret_age)\n",
    "\n",
    "np.savetxt('increasing_SPA_fix_RPA_EPA_RPA_at_30.txt', increasing_SPA_fix_RPA_EPA)\n",
    "\n",
    "\n"
   ]
  },
  {
   "cell_type": "code",
   "execution_count": null,
   "id": "f85c174f",
   "metadata": {},
   "outputs": [],
   "source": [
    "df_SPA = pd.read_csv('increasing_SPA_fix_RPA_EPA_RPA_at_30.txt', sep='\\s+', header=None)\n",
    "\n",
    "# Assign column names (optional)\n",
    "df_SPA.columns = ['SPA', 'RPA', 'EPA', 'LS', 'CE']\n",
    "# df['EPA'] = df['EPA']+df['RPA']\n",
    "type_dict = {'SPA': int, 'RPA':int, 'EPA':int}\n",
    "df_SPA = df_SPA.astype(type_dict)\n",
    "df_SPA[['LS', 'CE']] = df_SPA[['LS', 'CE']]*100\n",
    "df_SPA['LS_relativ'] =df_SPA['LS'] /total_margin_og\n",
    "df_SPA[['SPA', 'RPA','EPA']] = df_SPA[['SPA', 'RPA', 'EPA']]+30"
   ]
  }
 ],
 "metadata": {
  "kernelspec": {
   "display_name": "s_speciale",
   "language": "python",
   "name": "python3"
  },
  "language_info": {
   "codemirror_mode": {
    "name": "ipython",
    "version": 3
   },
   "file_extension": ".py",
   "mimetype": "text/x-python",
   "name": "python",
   "nbconvert_exporter": "python",
   "pygments_lexer": "ipython3",
   "version": "3.13.1"
  }
 },
 "nbformat": 4,
 "nbformat_minor": 5
}
